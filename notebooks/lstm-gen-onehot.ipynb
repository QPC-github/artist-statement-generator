{
 "cells": [
  {
   "cell_type": "markdown",
   "metadata": {},
   "source": [
    "### Hyperparameters"
   ]
  },
  {
   "cell_type": "code",
   "execution_count": 7,
   "metadata": {},
   "outputs": [],
   "source": [
    "# Hyperparameters\n",
    "\n",
    "seqlen = 128\n",
    "batch_size = 1024\n",
    "sample_size = 10"
   ]
  },
  {
   "cell_type": "markdown",
   "metadata": {},
   "source": [
    "### Code"
   ]
  },
  {
   "cell_type": "code",
   "execution_count": 2,
   "metadata": {},
   "outputs": [
    {
     "name": "stderr",
     "output_type": "stream",
     "text": [
      "Using TensorFlow backend.\n"
     ]
    }
   ],
   "source": [
    "import keras as K\n",
    "import os.path\n",
    "\n",
    "import sys, imp\n",
    "\n",
    "sys.path.append(\"../src\")\n",
    "from artstat import util\n",
    "import numpy as np"
   ]
  },
  {
   "cell_type": "code",
   "execution_count": 3,
   "metadata": {},
   "outputs": [],
   "source": [
    "datadir = \"/home/pmilovanov/hg/my/data/gallery-pr/all\"\n",
    "\n",
    "path_train = os.path.join(datadir, \"train\")\n",
    "path_test = os.path.join(datadir, \"test\")\n",
    "\n",
    "glove = \"/home/pmilovanov/data/glove/glove.840B.300d.txt\"\n",
    "#glove = \"/home/pmilovanov/data/glove/glove.6B.50d.txt\"\n",
    "glove_dims = 300"
   ]
  },
  {
   "cell_type": "code",
   "execution_count": 4,
   "metadata": {},
   "outputs": [],
   "source": [
    "#vocab_file = \"../vocab.txt\"\n",
    "vocab_file = \"../vocab_lower.txt\"\n",
    "\n",
    "words, vocab = util.load_vocab(vocab_file, 15000)"
   ]
  },
  {
   "cell_type": "code",
   "execution_count": 5,
   "metadata": {},
   "outputs": [
    {
     "name": "stdout",
     "output_type": "stream",
     "text": [
      "15000\n",
      "(15001, 300)\n"
     ]
    }
   ],
   "source": [
    "emb_matrix = util.load_embeddings(vocab, glove_dims, glove)\n",
    "\n",
    "print(len(vocab))\n",
    "print(emb_matrix.shape)"
   ]
  },
  {
   "cell_type": "code",
   "execution_count": 6,
   "metadata": {
    "scrolled": true
   },
   "outputs": [
    {
     "name": "stderr",
     "output_type": "stream",
     "text": [
      "100%|##########| 22860/22860 [00:32<00:00, 703.64it/s]\n"
     ]
    }
   ],
   "source": [
    "imp.reload(util)\n",
    "X, Xu = util.load_data(path_train, vocab, pad=seqlen, lowercase=False)"
   ]
  },
  {
   "cell_type": "code",
   "execution_count": 17,
   "metadata": {},
   "outputs": [
    {
     "name": "stdout",
     "output_type": "stream",
     "text": [
      "Total words: 16213415\n",
      "Unknown words: 20.79%\n"
     ]
    }
   ],
   "source": [
    "print(\"Total words:\", len(X))\n",
    "\n",
    "print(\"Unknown words: {:.2f}%\".format(100 * sum(Xu) / len(Xu)))"
   ]
  },
  {
   "cell_type": "code",
   "execution_count": 7,
   "metadata": {},
   "outputs": [],
   "source": [
    "from keras.layers import Reshape, Embedding, CuDNNLSTM, BatchNormalization, Dense, Concatenate\n",
    "from keras import Model, Input\n",
    "import tensorflow as tf"
   ]
  },
  {
   "cell_type": "code",
   "execution_count": 82,
   "metadata": {},
   "outputs": [],
   "source": [
    "def sampling_layer(x):\n",
    "    data, sample_indices = x\n",
    "    def gather_per_batch(e):\n",
    "        batch, indices = e\n",
    "        indices = tf.cast(indices, tf.int32)\n",
    "        #print(\"batch\", type(batch), batch.dtype, batch.shape)\n",
    "        #print(\"indices\", type(indices), indices.dtype, indices.shape)\n",
    "        return (tf.gather(batch, indices),0)\n",
    "    return tf.map_fn(gather_per_batch, (data, sample_indices),\n",
    "                    parallel_iterations=batch_size*2, swap_memory=False)[0]\n",
    "\n",
    "\n",
    "def sampling_layer_gather_nd(x):\n",
    "    data, sample_indices = x\n",
    "    return tf.gather_nd(data, tf.cast(sample_indices, tf.int32))\n"
   ]
  },
  {
   "cell_type": "code",
   "execution_count": 83,
   "metadata": {},
   "outputs": [],
   "source": [
    "from keras.layers import Reshape, Embedding, CuDNNLSTM, BatchNormalization, Dense, \\\n",
    "    Concatenate, Lambda, Activation\n",
    "from keras import Model, Input\n",
    "\n",
    "def make_model(*, seqlen, sample_size, emb_matrix):    \n",
    "    dim = emb_matrix.shape[1] + 1\n",
    "    \n",
    "    input_x = Input((seqlen,), dtype=\"int32\", name=\"input_x\")\n",
    "    input_xu = Input((seqlen,), dtype=\"float32\", name=\"input_xu\")\n",
    "    input_sample_indices = Input((sample_size,2), dtype=\"int32\", name=\"input_sample_indices\")\n",
    "\n",
    "    resh_xu  = Reshape((seqlen,1), name=\"resh_xu\")(input_xu)\n",
    "\n",
    "    emb_layer = Embedding(*emb_matrix.shape, input_length=seqlen, \n",
    "                          trainable=False, weights=[emb_matrix], \n",
    "                          name=\"embedding\")\n",
    "    emb_x = emb_layer(input_x)\n",
    "    concat_x = Concatenate(name=\"concat_x\")([emb_x, resh_xu])\n",
    "        \n",
    "    yhat = CuDNNLSTM(128, return_sequences=True, name='rnn1')(concat_x)\n",
    "    yhat = BatchNormalization()(yhat)\n",
    "    yhat = CuDNNLSTM(128, return_sequences=False, name='rnn2')(yhat)\n",
    "\n",
    "    yhat = BatchNormalization()(yhat)\n",
    "    yhat = Dense(300, activation=\"relu\")(yhat)\n",
    "    yhat = BatchNormalization()(yhat)\n",
    "    yhat = Dense(300, activation=\"relu\")(yhat)\n",
    "    yhat = BatchNormalization()(yhat)\n",
    "    # len(vocab)+2 is because the zeroth word is for padding and last word is for \"unknown\"\n",
    "    yhat = Dense(len(vocab)+2, activation=\"linear\")(yhat)\n",
    "    \n",
    "    \n",
    "    #print(input_sample_indices.dtype, input_sample_indices.shape)\n",
    "    out_train = Lambda(sampling_layer_gather_nd, name=\"sampling\")([yhat, input_sample_indices])\n",
    "    out_train = Activation('softmax')(out_train)\n",
    "    \n",
    "    out_predict = Activation('softmax')(yhat)\n",
    "    \n",
    "    model_train = Model([input_x, input_xu, input_sample_indices], [out_train])\n",
    "    model_predict = Model([input_x, input_xu], [out_predict])\n",
    "    \n",
    "    return model_train, model_predict"
   ]
  },
  {
   "cell_type": "code",
   "execution_count": 84,
   "metadata": {},
   "outputs": [],
   "source": [
    "mtrain, mpredict = make_model(seqlen=seqlen, sample_size=sample_size, emb_matrix=emb_matrix)"
   ]
  },
  {
   "cell_type": "code",
   "execution_count": 85,
   "metadata": {
    "scrolled": true
   },
   "outputs": [
    {
     "name": "stdout",
     "output_type": "stream",
     "text": [
      "__________________________________________________________________________________________________\n",
      "Layer (type)                    Output Shape         Param #     Connected to                     \n",
      "==================================================================================================\n",
      "input_x (InputLayer)            (None, 64)           0                                            \n",
      "__________________________________________________________________________________________________\n",
      "input_xu (InputLayer)           (None, 64)           0                                            \n",
      "__________________________________________________________________________________________________\n",
      "embedding (Embedding)           (None, 64, 50)       500050      input_x[0][0]                    \n",
      "__________________________________________________________________________________________________\n",
      "resh_xu (Reshape)               (None, 64, 1)        0           input_xu[0][0]                   \n",
      "__________________________________________________________________________________________________\n",
      "concat_x (Concatenate)          (None, 64, 51)       0           embedding[0][0]                  \n",
      "                                                                 resh_xu[0][0]                    \n",
      "__________________________________________________________________________________________________\n",
      "rnn1 (CuDNNLSTM)                (None, 64, 128)      92672       concat_x[0][0]                   \n",
      "__________________________________________________________________________________________________\n",
      "batch_normalization_4 (BatchNor (None, 64, 128)      512         rnn1[0][0]                       \n",
      "__________________________________________________________________________________________________\n",
      "rnn2 (CuDNNLSTM)                (None, 128)          132096      batch_normalization_4[0][0]      \n",
      "__________________________________________________________________________________________________\n",
      "batch_normalization_5 (BatchNor (None, 128)          512         rnn2[0][0]                       \n",
      "__________________________________________________________________________________________________\n",
      "dense_3 (Dense)                 (None, 300)          38700       batch_normalization_5[0][0]      \n",
      "__________________________________________________________________________________________________\n",
      "batch_normalization_6 (BatchNor (None, 300)          1200        dense_3[0][0]                    \n",
      "__________________________________________________________________________________________________\n",
      "dense_4 (Dense)                 (None, 300)          90300       batch_normalization_6[0][0]      \n",
      "__________________________________________________________________________________________________\n",
      "batch_normalization_7 (BatchNor (None, 300)          1200        dense_4[0][0]                    \n",
      "__________________________________________________________________________________________________\n",
      "dense_5 (Dense)                 (None, 10002)        3010602     batch_normalization_7[0][0]      \n",
      "__________________________________________________________________________________________________\n",
      "input_sample_indices (InputLaye (None, 10, 2)        0                                            \n",
      "__________________________________________________________________________________________________\n",
      "sampling (Lambda)               (None, 10)           0           dense_5[0][0]                    \n",
      "                                                                 input_sample_indices[0][0]       \n",
      "__________________________________________________________________________________________________\n",
      "activation_3 (Activation)       (None, 10)           0           sampling[0][0]                   \n",
      "==================================================================================================\n",
      "Total params: 3,867,844\n",
      "Trainable params: 3,366,082\n",
      "Non-trainable params: 501,762\n",
      "__________________________________________________________________________________________________\n"
     ]
    }
   ],
   "source": [
    "\n",
    "mtrain.summary()"
   ]
  },
  {
   "cell_type": "code",
   "execution_count": 109,
   "metadata": {},
   "outputs": [],
   "source": [
    "def mean_pred(y_true, y_pred):\n",
    "    r = tf.multiply(y_true, tf.round(y_pred))\n",
    "    r = tf.reduce_sum(r, axis=-1)\n",
    "    r = tf.reduce_mean(r, axis=-1)\n",
    "    return r"
   ]
  },
  {
   "cell_type": "code",
   "execution_count": 151,
   "metadata": {},
   "outputs": [],
   "source": [
    "opt = K.optimizers.Adam(lr=0.00001)\n",
    "mtrain.compile(opt, loss='categorical_crossentropy', metrics=[\"accuracy\", mean_pred])"
   ]
  },
  {
   "cell_type": "code",
   "execution_count": 152,
   "metadata": {},
   "outputs": [],
   "source": [
    "imp.reload(util)\n",
    "batch_size=1024*8\n",
    "train_seq = util.NegativeSamplingPermutedSequence(data_x=X, data_xu=Xu,\n",
    "                                                 seqlen=seqlen, batch_size=batch_size,\n",
    "                                                 sample_size=sample_size,\n",
    "                                                 vocab_size=len(vocab)+1)"
   ]
  },
  {
   "cell_type": "code",
   "execution_count": 153,
   "metadata": {},
   "outputs": [
    {
     "name": "stdout",
     "output_type": "stream",
     "text": [
      "17676479 524288\n"
     ]
    }
   ],
   "source": [
    "print(len(X), seqlen*batch_size)"
   ]
  },
  {
   "cell_type": "code",
   "execution_count": 154,
   "metadata": {},
   "outputs": [],
   "source": [
    "checkpoint_filepath = \"checkpoints/weights.{epoch:02d}.hdf5\"\n",
    "\n",
    "checkpoint = K.callbacks.ModelCheckpoint(checkpoint_filepath,                       \n",
    "                                        verbose=1,\n",
    "                                        save_best_only=False)"
   ]
  },
  {
   "cell_type": "code",
   "execution_count": 159,
   "metadata": {
    "scrolled": false
   },
   "outputs": [
    {
     "name": "stdout",
     "output_type": "stream",
     "text": [
      "Epoch 201/5000000\n",
      "  33/2157 [..............................] - ETA: 25:13 - loss: 0.1330 - acc: 0.9519 - mean_pred: 0.9451"
     ]
    },
    {
     "ename": "KeyboardInterrupt",
     "evalue": "",
     "output_type": "error",
     "traceback": [
      "\u001b[0;31m---------------------------------------------------------------------------\u001b[0m",
      "\u001b[0;31mKeyboardInterrupt\u001b[0m                         Traceback (most recent call last)",
      "\u001b[0;32m<ipython-input-159-fac43f09a0e0>\u001b[0m in \u001b[0;36m<module>\u001b[0;34m()\u001b[0m\n\u001b[1;32m      4\u001b[0m mtrain.fit_generator(train_seq, steps_per_epoch=numbatches, epochs=5000000,\n\u001b[1;32m      5\u001b[0m                     \u001b[0mcallbacks\u001b[0m\u001b[0;34m=\u001b[0m\u001b[0;34m[\u001b[0m\u001b[0mcheckpoint\u001b[0m\u001b[0;34m]\u001b[0m\u001b[0;34m,\u001b[0m\u001b[0;34m\u001b[0m\u001b[0m\n\u001b[0;32m----> 6\u001b[0;31m                     initial_epoch=200)\n\u001b[0m",
      "\u001b[0;32m/usr/local/lib/python3.6/dist-packages/keras/legacy/interfaces.py\u001b[0m in \u001b[0;36mwrapper\u001b[0;34m(*args, **kwargs)\u001b[0m\n\u001b[1;32m     89\u001b[0m                 warnings.warn('Update your `' + object_name +\n\u001b[1;32m     90\u001b[0m                               '` call to the Keras 2 API: ' + signature, stacklevel=2)\n\u001b[0;32m---> 91\u001b[0;31m             \u001b[0;32mreturn\u001b[0m \u001b[0mfunc\u001b[0m\u001b[0;34m(\u001b[0m\u001b[0;34m*\u001b[0m\u001b[0margs\u001b[0m\u001b[0;34m,\u001b[0m \u001b[0;34m**\u001b[0m\u001b[0mkwargs\u001b[0m\u001b[0;34m)\u001b[0m\u001b[0;34m\u001b[0m\u001b[0m\n\u001b[0m\u001b[1;32m     92\u001b[0m         \u001b[0mwrapper\u001b[0m\u001b[0;34m.\u001b[0m\u001b[0m_original_function\u001b[0m \u001b[0;34m=\u001b[0m \u001b[0mfunc\u001b[0m\u001b[0;34m\u001b[0m\u001b[0m\n\u001b[1;32m     93\u001b[0m         \u001b[0;32mreturn\u001b[0m \u001b[0mwrapper\u001b[0m\u001b[0;34m\u001b[0m\u001b[0m\n",
      "\u001b[0;32m/usr/local/lib/python3.6/dist-packages/keras/engine/training.py\u001b[0m in \u001b[0;36mfit_generator\u001b[0;34m(self, generator, steps_per_epoch, epochs, verbose, callbacks, validation_data, validation_steps, class_weight, max_queue_size, workers, use_multiprocessing, shuffle, initial_epoch)\u001b[0m\n\u001b[1;32m   1424\u001b[0m             \u001b[0muse_multiprocessing\u001b[0m\u001b[0;34m=\u001b[0m\u001b[0muse_multiprocessing\u001b[0m\u001b[0;34m,\u001b[0m\u001b[0;34m\u001b[0m\u001b[0m\n\u001b[1;32m   1425\u001b[0m             \u001b[0mshuffle\u001b[0m\u001b[0;34m=\u001b[0m\u001b[0mshuffle\u001b[0m\u001b[0;34m,\u001b[0m\u001b[0;34m\u001b[0m\u001b[0m\n\u001b[0;32m-> 1426\u001b[0;31m             initial_epoch=initial_epoch)\n\u001b[0m\u001b[1;32m   1427\u001b[0m \u001b[0;34m\u001b[0m\u001b[0m\n\u001b[1;32m   1428\u001b[0m     \u001b[0;34m@\u001b[0m\u001b[0minterfaces\u001b[0m\u001b[0;34m.\u001b[0m\u001b[0mlegacy_generator_methods_support\u001b[0m\u001b[0;34m\u001b[0m\u001b[0m\n",
      "\u001b[0;32m/usr/local/lib/python3.6/dist-packages/keras/engine/training_generator.py\u001b[0m in \u001b[0;36mfit_generator\u001b[0;34m(model, generator, steps_per_epoch, epochs, verbose, callbacks, validation_data, validation_steps, class_weight, max_queue_size, workers, use_multiprocessing, shuffle, initial_epoch)\u001b[0m\n\u001b[1;32m    189\u001b[0m                 outs = model.train_on_batch(x, y,\n\u001b[1;32m    190\u001b[0m                                             \u001b[0msample_weight\u001b[0m\u001b[0;34m=\u001b[0m\u001b[0msample_weight\u001b[0m\u001b[0;34m,\u001b[0m\u001b[0;34m\u001b[0m\u001b[0m\n\u001b[0;32m--> 191\u001b[0;31m                                             class_weight=class_weight)\n\u001b[0m\u001b[1;32m    192\u001b[0m \u001b[0;34m\u001b[0m\u001b[0m\n\u001b[1;32m    193\u001b[0m                 \u001b[0;32mif\u001b[0m \u001b[0;32mnot\u001b[0m \u001b[0misinstance\u001b[0m\u001b[0;34m(\u001b[0m\u001b[0mouts\u001b[0m\u001b[0;34m,\u001b[0m \u001b[0mlist\u001b[0m\u001b[0;34m)\u001b[0m\u001b[0;34m:\u001b[0m\u001b[0;34m\u001b[0m\u001b[0m\n",
      "\u001b[0;32m/usr/local/lib/python3.6/dist-packages/keras/engine/training.py\u001b[0m in \u001b[0;36mtrain_on_batch\u001b[0;34m(self, x, y, sample_weight, class_weight)\u001b[0m\n\u001b[1;32m   1218\u001b[0m             \u001b[0mins\u001b[0m \u001b[0;34m=\u001b[0m \u001b[0mx\u001b[0m \u001b[0;34m+\u001b[0m \u001b[0my\u001b[0m \u001b[0;34m+\u001b[0m \u001b[0msample_weights\u001b[0m\u001b[0;34m\u001b[0m\u001b[0m\n\u001b[1;32m   1219\u001b[0m         \u001b[0mself\u001b[0m\u001b[0;34m.\u001b[0m\u001b[0m_make_train_function\u001b[0m\u001b[0;34m(\u001b[0m\u001b[0;34m)\u001b[0m\u001b[0;34m\u001b[0m\u001b[0m\n\u001b[0;32m-> 1220\u001b[0;31m         \u001b[0moutputs\u001b[0m \u001b[0;34m=\u001b[0m \u001b[0mself\u001b[0m\u001b[0;34m.\u001b[0m\u001b[0mtrain_function\u001b[0m\u001b[0;34m(\u001b[0m\u001b[0mins\u001b[0m\u001b[0;34m)\u001b[0m\u001b[0;34m\u001b[0m\u001b[0m\n\u001b[0m\u001b[1;32m   1221\u001b[0m         \u001b[0;32mif\u001b[0m \u001b[0mlen\u001b[0m\u001b[0;34m(\u001b[0m\u001b[0moutputs\u001b[0m\u001b[0;34m)\u001b[0m \u001b[0;34m==\u001b[0m \u001b[0;36m1\u001b[0m\u001b[0;34m:\u001b[0m\u001b[0;34m\u001b[0m\u001b[0m\n\u001b[1;32m   1222\u001b[0m             \u001b[0;32mreturn\u001b[0m \u001b[0moutputs\u001b[0m\u001b[0;34m[\u001b[0m\u001b[0;36m0\u001b[0m\u001b[0;34m]\u001b[0m\u001b[0;34m\u001b[0m\u001b[0m\n",
      "\u001b[0;32m/usr/local/lib/python3.6/dist-packages/keras/backend/tensorflow_backend.py\u001b[0m in \u001b[0;36m__call__\u001b[0;34m(self, inputs)\u001b[0m\n\u001b[1;32m   2659\u001b[0m                 \u001b[0;32mreturn\u001b[0m \u001b[0mself\u001b[0m\u001b[0;34m.\u001b[0m\u001b[0m_legacy_call\u001b[0m\u001b[0;34m(\u001b[0m\u001b[0minputs\u001b[0m\u001b[0;34m)\u001b[0m\u001b[0;34m\u001b[0m\u001b[0m\n\u001b[1;32m   2660\u001b[0m \u001b[0;34m\u001b[0m\u001b[0m\n\u001b[0;32m-> 2661\u001b[0;31m             \u001b[0;32mreturn\u001b[0m \u001b[0mself\u001b[0m\u001b[0;34m.\u001b[0m\u001b[0m_call\u001b[0m\u001b[0;34m(\u001b[0m\u001b[0minputs\u001b[0m\u001b[0;34m)\u001b[0m\u001b[0;34m\u001b[0m\u001b[0m\n\u001b[0m\u001b[1;32m   2662\u001b[0m         \u001b[0;32melse\u001b[0m\u001b[0;34m:\u001b[0m\u001b[0;34m\u001b[0m\u001b[0m\n\u001b[1;32m   2663\u001b[0m             \u001b[0;32mif\u001b[0m \u001b[0mpy_any\u001b[0m\u001b[0;34m(\u001b[0m\u001b[0mis_tensor\u001b[0m\u001b[0;34m(\u001b[0m\u001b[0mx\u001b[0m\u001b[0;34m)\u001b[0m \u001b[0;32mfor\u001b[0m \u001b[0mx\u001b[0m \u001b[0;32min\u001b[0m \u001b[0minputs\u001b[0m\u001b[0;34m)\u001b[0m\u001b[0;34m:\u001b[0m\u001b[0;34m\u001b[0m\u001b[0m\n",
      "\u001b[0;32m/usr/local/lib/python3.6/dist-packages/keras/backend/tensorflow_backend.py\u001b[0m in \u001b[0;36m_call\u001b[0;34m(self, inputs)\u001b[0m\n\u001b[1;32m   2629\u001b[0m                                 \u001b[0msymbol_vals\u001b[0m\u001b[0;34m,\u001b[0m\u001b[0;34m\u001b[0m\u001b[0m\n\u001b[1;32m   2630\u001b[0m                                 session)\n\u001b[0;32m-> 2631\u001b[0;31m         \u001b[0mfetched\u001b[0m \u001b[0;34m=\u001b[0m \u001b[0mself\u001b[0m\u001b[0;34m.\u001b[0m\u001b[0m_callable_fn\u001b[0m\u001b[0;34m(\u001b[0m\u001b[0;34m*\u001b[0m\u001b[0marray_vals\u001b[0m\u001b[0;34m)\u001b[0m\u001b[0;34m\u001b[0m\u001b[0m\n\u001b[0m\u001b[1;32m   2632\u001b[0m         \u001b[0;32mreturn\u001b[0m \u001b[0mfetched\u001b[0m\u001b[0;34m[\u001b[0m\u001b[0;34m:\u001b[0m\u001b[0mlen\u001b[0m\u001b[0;34m(\u001b[0m\u001b[0mself\u001b[0m\u001b[0;34m.\u001b[0m\u001b[0moutputs\u001b[0m\u001b[0;34m)\u001b[0m\u001b[0;34m]\u001b[0m\u001b[0;34m\u001b[0m\u001b[0m\n\u001b[1;32m   2633\u001b[0m \u001b[0;34m\u001b[0m\u001b[0m\n",
      "\u001b[0;32m~/.local/lib/python3.6/site-packages/tensorflow/python/client/session.py\u001b[0m in \u001b[0;36m__call__\u001b[0;34m(self, *args)\u001b[0m\n\u001b[1;32m   1375\u001b[0m       \u001b[0;32mwith\u001b[0m \u001b[0merrors\u001b[0m\u001b[0;34m.\u001b[0m\u001b[0mraise_exception_on_not_ok_status\u001b[0m\u001b[0;34m(\u001b[0m\u001b[0;34m)\u001b[0m \u001b[0;32mas\u001b[0m \u001b[0mstatus\u001b[0m\u001b[0;34m:\u001b[0m\u001b[0;34m\u001b[0m\u001b[0m\n\u001b[1;32m   1376\u001b[0m         return tf_session.TF_SessionRunCallable(\n\u001b[0;32m-> 1377\u001b[0;31m             self._session._session, self._handle, args, status, None)\n\u001b[0m\u001b[1;32m   1378\u001b[0m \u001b[0;34m\u001b[0m\u001b[0m\n\u001b[1;32m   1379\u001b[0m     \u001b[0;32mdef\u001b[0m \u001b[0m__del__\u001b[0m\u001b[0;34m(\u001b[0m\u001b[0mself\u001b[0m\u001b[0;34m)\u001b[0m\u001b[0;34m:\u001b[0m\u001b[0;34m\u001b[0m\u001b[0m\n",
      "\u001b[0;31mKeyboardInterrupt\u001b[0m: "
     ]
    }
   ],
   "source": [
    "\n",
    "numbatches = X.shape[0] // batch_size\n",
    "\n",
    "mtrain.fit_generator(train_seq, steps_per_epoch=numbatches, epochs=5000000,\n",
    "                    callbacks=[checkpoint],\n",
    "                    initial_epoch=200)\n"
   ]
  },
  {
   "cell_type": "code",
   "execution_count": null,
   "metadata": {},
   "outputs": [],
   "source": [
    "mtrain.save(\"checkpoints/1.hdf5\")"
   ]
  },
  {
   "cell_type": "code",
   "execution_count": null,
   "metadata": {},
   "outputs": [],
   "source": []
  },
  {
   "cell_type": "markdown",
   "metadata": {},
   "source": [
    "### Test"
   ]
  },
  {
   "cell_type": "code",
   "execution_count": 14,
   "metadata": {},
   "outputs": [
    {
     "name": "stderr",
     "output_type": "stream",
     "text": [
      "100%|##########| 472/472 [00:00<00:00, 688.98it/s]\n"
     ]
    }
   ],
   "source": [
    "path_misc = \"/home/pmilovanov/hg/my/data/gallery-pr/misc\"\n",
    "\n",
    "X_test, Xu_test = util.load_data(path_test, vocab, pad=seqlen, lowercase=True)\n",
    "#X_test, Xu_test = util.load_data(path_misc, vocab, pad=seqlen, lowercase=True)"
   ]
  },
  {
   "cell_type": "code",
   "execution_count": 16,
   "metadata": {},
   "outputs": [
    {
     "data": {
      "text/plain": [
       "0.0519867189200958"
      ]
     },
     "execution_count": 16,
     "metadata": {},
     "output_type": "execute_result"
    }
   ],
   "source": [
    "X_test\n",
    "np.sum(Xu_test) / len(Xu_test)\n"
   ]
  },
  {
   "cell_type": "code",
   "execution_count": 165,
   "metadata": {},
   "outputs": [],
   "source": [
    "mpredict.compile(opt, loss=\"categorical_crossentropy\")"
   ]
  },
  {
   "cell_type": "code",
   "execution_count": 166,
   "metadata": {},
   "outputs": [
    {
     "data": {
      "text/plain": [
       "10001"
      ]
     },
     "execution_count": 166,
     "metadata": {},
     "output_type": "execute_result"
    }
   ],
   "source": [
    "len(words)"
   ]
  },
  {
   "cell_type": "code",
   "execution_count": 167,
   "metadata": {},
   "outputs": [
    {
     "name": "stdout",
     "output_type": "stream",
     "text": [
      "\" <UNK> , light of my life , fire of my <UNK> . my sin , my soul . lo - lee - <UNK> : the <UNK> of the tongue taking a trip of three steps down the <UNK> to <UNK> , at three , on the teeth . lo . lee . <UNK> . she was lo , plain lo , in the ====================================================================================================\n"
     ]
    },
    {
     "name": "stdout",
     "output_type": "stream",
     "text": [
      "paper , lost , love of the earth where , where was still coming up of half pieces . no trace for the list will then continue some portrait . a voyage in the woods in a strange sea . maybe back again as he ' marie [ ) is celebrating the launch of the convention view and tomorrow will be held in 2008 and runs with a new series complete entitled light : clouds . <#PAD#> <#PAD#> <#PAD#> <#PAD#> <#PAD#> <#PAD#> <#PAD#> <#PAD#> <#PAD#> <#PAD#> <#PAD#> <#PAD#> <#PAD#> <#PAD#> <#PAD#> <#PAD#> <#PAD#> <#PAD#> <#PAD#> <#PAD#> <#PAD#> <#PAD#> <#PAD#> <#PAD#> <#PAD#> <#PAD#> <#PAD#> <#PAD#> <#PAD#> <#PAD#> <#PAD#> <#PAD#> <#PAD#> <#PAD#> <#PAD#> <#PAD#> <#PAD#> <#PAD#> <#PAD#> <#PAD#> <#PAD#> <#PAD#> <#PAD#> <#PAD#> <#PAD#> <#PAD#> <#PAD#> <#PAD#> <#PAD#> <#PAD#> <#PAD#> <#PAD#> <#PAD#> <#PAD#> <#PAD#> <#PAD#> <#PAD#> <#PAD#> <#PAD#> <#PAD#> <#PAD#> <#PAD#> <#PAD#> <#PAD#> <#PAD#> <#PAD#> <#PAD#> <#PAD#> <#PAD#> <#PAD#> <#PAD#> <#PAD#> <#PAD#> <#PAD#> <#PAD#> <#PAD#> <#PAD#> <#PAD#> <#PAD#> <#PAD#> <#PAD#> <#PAD#> <#PAD#> <#PAD#> <#PAD#> <#PAD#> <#PAD#> <#PAD#> <#PAD#> <#PAD#> <#PAD#> <#PAD#> <#PAD#> <#PAD#> <#PAD#> <#PAD#> <#PAD#> <#PAD#> <#PAD#> <#PAD#> <#PAD#> <#PAD#> <#PAD#> <#PAD#> <#PAD#> <#PAD#> <#PAD#> <#PAD#> <#PAD#> <#PAD#> <#PAD#> <#PAD#> <#PAD#> <#PAD#> <#PAD#> <#PAD#> <#PAD#> <#PAD#> <#PAD#> <#PAD#> <#PAD#> <#PAD#> <#PAD#> <#PAD#> <#PAD#> <#PAD#> <#PAD#> <#PAD#> <#PAD#> <#PAD#> <#PAD#> <#PAD#> <#PAD#> <#PAD#> <#PAD#> <#PAD#> <#PAD#> <#PAD#> <#PAD#> <#PAD#> <#PAD#> <#PAD#> <#PAD#> no presence about the arts space for families revolving july . past years ago , the new york city museum is a center of energy will open on the hotel . <#PAD#> <#PAD#> <#PAD#> <#PAD#> <#PAD#> <#PAD#> <#PAD#> <#PAD#> <#PAD#> <#PAD#> <#PAD#> <#PAD#> <#PAD#> <#PAD#> <#PAD#> <#PAD#> <#PAD#> <#PAD#> <#PAD#> <#PAD#> <#PAD#> <#PAD#> <#PAD#> <#PAD#> <#PAD#> <#PAD#> <#PAD#> <#PAD#> <#PAD#> <#PAD#> <#PAD#> <#PAD#> <#PAD#> <#PAD#> <#PAD#> <#PAD#> <#PAD#> <#PAD#> <#PAD#> <#PAD#> <#PAD#> <#PAD#> <#PAD#> <#PAD#> <#PAD#> <#PAD#> <#PAD#> <#PAD#> <#PAD#> <#PAD#> <#PAD#> <#PAD#> <#PAD#> <#PAD#> <#PAD#> <#PAD#> <#PAD#> <#PAD#> <#PAD#> <#PAD#> <#PAD#> <#PAD#> <#PAD#> <#PAD#> <#PAD#> <#PAD#> <#PAD#> <#PAD#> <#PAD#> <#PAD#> <#PAD#> <#PAD#> <#PAD#> <#PAD#> <#PAD#> <#PAD#> <#PAD#> <#PAD#> <#PAD#> <#PAD#> <#PAD#> <#PAD#> <#PAD#> the german architect aldo nagy has created a newly funded local museum setting with the museum of modern art , a project of museum boijmans d . and comprises a solo presentation of the city . - institute of art , from the palais d ! centre and cac de lyon . <#PAD#> , the director , director of palais is a key director of bac ' s director ute institute of arts of contemporary arts and of baltic , public programs at goldsmiths arts , inner arts centre of new york ; royal museum at the university of north wales . it is currently supported by the british council england city arts council . tom jones , associate for arts exchange arts funding bennett , director of performa wattis center . <#PAD#> <#PAD#> <#PAD#> <#PAD#> <#PAD#> <#PAD#> <#PAD#> <#PAD#> <#PAD#> <#PAD#> <#PAD#> <#PAD#> <#PAD#> <#PAD#> <#PAD#> <#PAD#> <#PAD#> <#PAD#> <#PAD#> <#PAD#> <#PAD#> <#PAD#> <#PAD#> <#PAD#> <#PAD#> <#PAD#> <#PAD#> <#PAD#> <#PAD#> <#PAD#> <#PAD#> <#PAD#> <#PAD#> <#PAD#> <#PAD#> <#PAD#> <#PAD#> <#PAD#> <#PAD#> <#PAD#> <#PAD#> <#PAD#> <#PAD#> <#PAD#> <#PAD#> <#PAD#> <#PAD#> <#PAD#> <#PAD#> <#PAD#> <#PAD#> <#PAD#> <#PAD#> <#PAD#> <#PAD#> <#PAD#> <#PAD#> <#PAD#> <#PAD#> <#PAD#> <#PAD#> <#PAD#> <#PAD#> <#PAD#> <#PAD#> <#PAD#> <#PAD#> <#PAD#> <#PAD#> <#PAD#> <#PAD#> <#PAD#> <#PAD#> <#PAD#> <#PAD#> <#PAD#> <#PAD#> <#PAD#> <#PAD#> <#PAD#> <#PAD#> <#PAD#> <#PAD#> <#PAD#> <#PAD#> <#PAD#> <#PAD#> <#PAD#> <#PAD#> <#PAD#> <#PAD#> <#PAD#> <#PAD#> <#PAD#> <#PAD#> <#PAD#> <#PAD#> <#PAD#> <#PAD#> <#PAD#> the swedish gallery , the czech audience is curated by christine butler at : tate modern at the university of frankfurt am , and ( the dis ) exhibition catalogue , the artist ahmet bauer , stage by anne collier and assistant later idea a film by robert longo , and will be presenting since august and to december 18 . use fragments , many of her work , often makes the viewer ' shadows of disappearance ' s major role in the 1950s of 2011 , give a view , and the george brecht , apparently to the classic ' carnival for the alien . \" direction and title , a great number of her work to focus several internationally recognized artists , such addressing the fundamental meaning of the object of risk , and to which reason within an endless array to underline shifting , it is true that we remember the creature , at george condo . on the back november 31 18th , the art club inside a double - site collection - - four large pieces hang in height except . twenty years , the vast , hyper , sprawling landscape maps of the old city became sites both for decades . with neither ironic , these unusual works of the 1970s are also presented from traditional and private locations of the country . - emphasized how these contradictory fictions produce intense encounters and fascinating situations of the social and political reality . exhibition of shared works attempts , the crime and politics rosler david a . morris fischer , boris groys . the exhibition includes several portrait drawings and documentation to historical items which supplement and includes the 16 works of american imperial art and video installation of more . both artist , currently regina galindo will explore their first exhibition the night , to investigate the architecture of the world and explores the stories of the men , considered women , and historians of war , which call the artist whilst in this year , in response with her sleeping . the stories in the second square contain all a colourful tableau of cruzvillegas furniture , and an attempt to represent the status quo . <#PAD#> export torun introduces a range integrated series , featuring several video works chosen in three unlikely blocks , inviting visitors for a video , t . a night and video : the body plans , which transform this realm that goes deeper at the museum setting . following the local institutions and civil services over a landscape of almost identical , opaque and fragmented - domestic landscape , kelley places are now taking place outside streets . in fact of this gallery ' s programming these resonate , looking together for much as constantly - worn closed the environment in the sprawling gallery , except on the internet , the notes that had only to surround the door . the exhibition was re for the 2013 venice convention of the history of mexico magazine and inspired a . m . tour ( notes of the critic , 1985 8 - 7 ) , the new documentary work / the adding exhibition , curated by joao le campus gallery of canadian museum of modern art , presents the poetic spiritual use of a theater artist . the exhibition leads selections and in her short history on the ubiquitous and modern style into a narrative or aesthetic that grew on the late comic imagery , fragments , photographs of the old man for high - - black american master ' s courtyard photographic animation that he has had the king man - - but , her body is simultaneously deconstructed our society series . with rich materials that tell to mother still life . . in recent days it seems is to register ' s present buddhist , the artist was asked to explore . two dead women has engaged on two parts in florence aged when studying her country . from the 1975 , he spent a studio student with a university of journalism . his works hold the strict idea of their own cultural references of the american war of new age of art on the work in the new york zoo by turner r . h . . . . shortly , 25 pm and 12 . it came from early hours . acting mondrian was asked to describe sturtevant ' s practice , at the same side , on the functions between \" chance yourself one place . and one of the record ' s members are found outside the school of contemporary art , and subsequently by the duke , and the first in terms what the piece makes these totally - visible portraits as well , among the greatest cultural activists of european - western call . what can be viewed . the activities is presented to examine the politics of both meaning and its identity through their creative peers . a panel of advisors of artists - - including the influential and yet - emerging - known and radical artists who have been so admired . the excellence and humanities . in 2008 the directors of the association , which will be a member of the international international biennial and is exhibiting from all european contemporary art and it encompasses art exhibitions , complementary , and bold artistic developments reflect in contemporary art and cultural funding . the aim of the realisation will function a substantial position for a strong international stage and which has produced more than 1 , 000 artists on artists of their careers and foremost , to promote innovative partnerships in contemporary art today . the second person of meeting , organised thinking to the future , innovative thinking fostering international understanding within art , seems to be exclusively and active art . - in preparation is under place in addressing the crucial human spirit , the third component embodies itself as part of its timely exhibitions . \" zero ( new york . ] / biennial as well as \" biennials \" of shanghai , which can provide a place which will therefore be seen to be seen more than a few possible dimensions to the more space : ' \" the going of the world ' biennials \" as visions from today ; the role of biennials , biennials would be seen to biennials by growing , crisis , social confrontation with the most influential concepts of modernist art as many artistic trends on contemporary art as a way . the increased emphasis of art history , art practices and media constitute , artists reflect artists who are characterized by a broad range of forms and methods in which artists are to achieve active positions into diverse cultural practices - how the contemporary art practice gives innovative solutions and ideas in working in art and applied culture . emerging modern artists have not chosen as no longer . assistant programs are new forms of publication at the zkm | - the vera von lieshout ' s 2006 exhibition project \" on a wave off ' , by artists and curators . <#PAD#> gallery is organized by frank bio , as a force of record - - panel artists ' identity or artistic practices . with martin walsh taylor will present two distinct works based on the \" great effects for a survey cinema . with the very latest and international exhibition , entitled \" works \" 30 of tomas akerman cycle and the concept of contemporary understanding has been shown in the year / 35 major exhibitions - - a small section . one of spain , en x arles , the last two years with the presence of the rio , luxembourg was this in 1996 , in the louvre international for independent society of landscape and culture or is the artistic selection that traditionally worked with art , but , as well as informal projects . the commitment of these institutions will be responsible to global commitment in program . this portfolio also goes to include artists such as eduardo navarro , rivane potrc . political photography program is part of the multi national council of contemporary art since the early 20th - decade . for \" the dead feminism ( \" art from ? \" \" the project and art and politics ] ' s first solo exhibition dedicated her work that revolves to unite of american art in the 1960s . \" the four authors included maria lassnig by jane van morris , thomas hirschhorn , katya sander , liam gillick , stan williams , marianne parker ( d ) , mike kelley , and the artists ei , rirkrit tiravanija is encouraged to include a significant new solo exhibition at a gallery of the jewish gallery . after the production is dedicated by the life of what was formerly clearly - explored in a new context : building of non - institutional bodies became intertwined and discussed as the focus of public relations expressed the ethos of the current community of human rights . it serves as an ongoing vocabulary of ideas and frameworks involved to direct a framework . the museum will connect with the documentation of the gestures and histories that transcend the region and providing them services as an active artistic practice . in the 1950s : the artists of lithuania were shown in finland , the ' internationale : commissions will be co - directors : judith hopf gmbh , julia peyton , matthias wagner wagner obrist and julia harrison . exhibition , curated by marta koch , kunstlerhaus <#PAD#> <#PAD#> <#PAD#> <#PAD#> <#PAD#> <#PAD#> <#PAD#> <#PAD#> <#PAD#> <#PAD#> <#PAD#> <#PAD#> <#PAD#> <#PAD#> <#PAD#> <#PAD#> <#PAD#> <#PAD#> <#PAD#> <#PAD#> <#PAD#> <#PAD#> <#PAD#> <#PAD#> <#PAD#> <#PAD#> <#PAD#> <#PAD#> <#PAD#> <#PAD#> <#PAD#> <#PAD#> <#PAD#> <#PAD#> <#PAD#> <#PAD#> <#PAD#> <#PAD#> <#PAD#> <#PAD#> <#PAD#> <#PAD#> <#PAD#> <#PAD#> <#PAD#> <#PAD#> <#PAD#> <#PAD#> <#PAD#> <#PAD#> <#PAD#> <#PAD#> <#PAD#> <#PAD#> <#PAD#> <#PAD#> <#PAD#> <#PAD#> <#PAD#> <#PAD#> <#PAD#> <#PAD#> <#PAD#> <#PAD#> <#PAD#> <#PAD#> <#PAD#> <#PAD#> <#PAD#> <#PAD#> <#PAD#> patrick land is also a contemporary exhibition co - curator , and curator and curator m . p / and is currently opening for the publication we thank jessica wilson ' s design for the exhibition , as well as the opening up program one of the diverse pieces , exclusive exhibitions , public programs and host activities and events . each contributor commissioned the exhibition project group ' s co for 212 years ; eric lynch , director of index art of design ( director of art museum ) and museum in houston , and supports the activities they have never purchased worldwide . the astrup fearnley is proud free at the philadelphia museum of modern art , new york . <#PAD#> <#PAD#> <#PAD#> <#PAD#> <#PAD#> <#PAD#> <#PAD#> <#PAD#> <#PAD#> <#PAD#> <#PAD#> <#PAD#> <#PAD#> <#PAD#> <#PAD#> <#PAD#> <#PAD#> <#PAD#> <#PAD#> <#PAD#> <#PAD#> <#PAD#> <#PAD#> <#PAD#> <#PAD#> <#PAD#> <#PAD#> <#PAD#> <#PAD#> <#PAD#> <#PAD#> <#PAD#> <#PAD#> <#PAD#> <#PAD#> <#PAD#> <#PAD#> <#PAD#> <#PAD#> <#PAD#> <#PAD#> <#PAD#> <#PAD#> <#PAD#> <#PAD#> <#PAD#> <#PAD#> <#PAD#> <#PAD#> <#PAD#> <#PAD#> <#PAD#> <#PAD#> <#PAD#> <#PAD#> <#PAD#> <#PAD#> <#PAD#> <#PAD#> <#PAD#> <#PAD#> <#PAD#> <#PAD#> <#PAD#> <#PAD#> <#PAD#> <#PAD#> <#PAD#> <#PAD#> <#PAD#> <#PAD#> <#PAD#> <#PAD#> <#PAD#> <#PAD#> <#PAD#> <#PAD#> <#PAD#> <#PAD#> <#PAD#> <#PAD#> <#PAD#> <#PAD#> <#PAD#> <#PAD#> <#PAD#> <#PAD#> <#PAD#> <#PAD#> <#PAD#> <#PAD#> <#PAD#> <#PAD#> <#PAD#> <#PAD#> <#PAD#> <#PAD#> <#PAD#> <#PAD#> <#PAD#> <#PAD#> <#PAD#> <#PAD#> <#PAD#> <#PAD#> <#PAD#> <#PAD#> <#PAD#> <#PAD#> <#PAD#> <#PAD#> <#PAD#> <#PAD#> <#PAD#> <#PAD#> <#PAD#> <#PAD#> <#PAD#> <#PAD#> <#PAD#> <#PAD#> <#PAD#> <#PAD#> <#PAD#> <#PAD#> <#PAD#> <#PAD#> <#PAD#> <#PAD#> <#PAD#> <#PAD#> <#PAD#> <#PAD#> <#PAD#> <#PAD#> <#PAD#> <#PAD#> <#PAD#> <#PAD#> <#PAD#> <#PAD#> <#PAD#> <#PAD#> <#PAD#> <#PAD#> <#PAD#> <#PAD#> <#PAD#> <#PAD#> <#PAD#> <#PAD#> <#PAD#> <#PAD#> <#PAD#> <#PAD#> <#PAD#> <#PAD#> <#PAD#> <#PAD#> <#PAD#> <#PAD#> <#PAD#> <#PAD#> <#PAD#> <#PAD#> <#PAD#> <#PAD#> <#PAD#> <#PAD#> <#PAD#> <#PAD#> <#PAD#> <#PAD#> <#PAD#> <#PAD#> <#PAD#> <#PAD#> <#PAD#> <#PAD#> <#PAD#> <#PAD#> <#PAD#> <#PAD#> <#PAD#> museums , performances , parties selected online with all materials of women or activists , as representatives will host two gatherings and activists . the writing will explore how the incredible history of the work , a chronology of the play . in a modernist addition of different encounters to create a new identity , social embroidery trigger , and the fusion body of work recurring one image and of the previous avant garde , the artist , and author morgan said : between the present ego is an experiment driven into his interrogation of works . she ' s questions that inform about his remarkable installation , through the scattered of l ' ecole de paola artes off the foundation , along to the interior and , in 2001 . the gardens old cafe in long - ups offer the artist - guest au the work in several galleries . an exhibition will continue in the show a brand of artist los angeles . hosted in the us ' s core work follow the art museum ' s temporary body , chicago city district , level , a miami viewing ; pier , los angeles county hotel , los angeles reynolds castle will invite visitors and participate at the mak gallery atrium in toronto ; light - space ( ca ) . house presents in the jones house and 101 part gallery jessica walsh , using works by tom burr and sam thomson , bjorn tiravanija , rainer . a light range of ever of free editions , ok conrad is pleased to present the premiere of the first solo show of the british painter agnieszka \" written to groundbreaking and film and new work in london . from the 1970s and 1960s and later over twenty years he has over 700 artists from the united american - - having been treated in the 1960s and 1980s . folk good - - to the country label celebrated new eyes from america . \" though nearly three years ago of his particular career from early video imagery since 1984 , photographer julien gonzalez has been represented by the new media magazine ' s enterprise . his installations take to grasp a shared history . born and africa , his genre , he anticipated images in hollywood images and films of new zealand and america - - and she chooses to continue into a vivid yet poetic style in the context , adnan occupies much pointed ethnographic and scholarly background the work , combining a unique connection on the world around cinema . annie bennett ( 1946 paris ) lives in jerusalem and lives at queen victoria art through the us . she has honored remarkable international acclaim to a lively international video program . this continuous journey coincides the mutual mutation from the figure of night city in parallel , bringing us to the well western city , beginning to come using fire words , a train of field - and letters of london - - place by the artists for us from the micro - era reflective reality . for the first show , laurie mellors explores the construction of nature . merging of time , points of residence as they share collections with scale and perceptual interactions with sculpture at the museum spaces , constructing a place , with temporal relations , and probing his own capacity - - serving after a boat with light and , the organic status between memory and human existence , the collective potential , the new senses of the artist . yet it includes multiple points of measure for an architectural relation , period of renewal , which reflects the use of elements since such , his paintings in inverted gardens in the ruins of 1983 , the course now , which still became , in order in a foreign thing of leisure or a permanent time of faith in his work , it allows it fine in the installation . simon monk has been the author john chan , the video opening of the yokohama triennale ( in 2011 , which shows the mapping of post - long ) america . in video art , hsieh and bureau is busy to an experimental curatorial construction , the traces of two related documents and diverse histories and archive . the extensive research programs include images selected specially adapted by contemporary taiwanese scholars and writers , including architects , and artist presentations to film installations from the 1960s , as well as sketches , commissions and publications related the conflicts and intervals between human encounters . visit the guggenheim abu dhabi to the 2014 sharjah pavilion with further information featuring abu park : arab architecture , featuring artists based architect andrew cheng pei , the solidarity de - wales , europe , asia , japan - pacific , afghanistan at m hka place of nearly 800 exhibits , a project designed by studio . the vibrant design is a dynamic vision for contemporary culture , both located in riga as a hub and a sustainable sustainability for collaborative public design around the play of people with artistic intervention through a network environment that includes one of busan folly urban china , developed by the iba art academy . as a hub of collaboration pre - exhibitions , urban paintings and performance , at the busan biennial ' s \" yokohama biennale , initiated that will become more relevant as an art platform and is developing over , inviting biennales and identities while symbolically from multiple countries and geographies . the main component of contemporary art from europe and africa has been represented by six projects for young artists with renowned artists . more as biennales , and international artists : janet & glenn cohen for an unconventional vision of albania , morocco . the selected artist has created a significant theme in the major art scene and emerging country - seen - and also from north to the continent . commissioned in the institute , the espace - en de la torre - torres rubio has completed in 2011 , a solo exhibition in venice on october 4th , 2016 at the centro of art center , formerly for over 25 years when he is the consultant in the arts program , he charts the exhibition : a research tribute , both in a museum of the knowledge , ( ghent ) . in parallel , she has assembled the use of text materials by early 18th century in the 1990s and also in which he spent a substantial research into his audience and its autobiographical and intellectual research in the program of costume with texts which were chosen from the foremost fluxus label , paris . she defined the monumental readymade ' s own impressive and innovative approach and dedication , to contemporary corporate and contemporary experience . the book and influence of pop of ground and big small artists take place << <#PAD#> <#PAD#> <#PAD#> <#PAD#> <#PAD#> <#PAD#> <#PAD#> <#PAD#> <#PAD#> <#PAD#> <#PAD#> <#PAD#> <#PAD#> <#PAD#> <#PAD#> <#PAD#> <#PAD#> <#PAD#> <#PAD#> <#PAD#> <#PAD#> <#PAD#> <#PAD#> <#PAD#> <#PAD#> <#PAD#> <#PAD#> <#PAD#> <#PAD#> <#PAD#> <#PAD#> <#PAD#> <#PAD#> <#PAD#> <#PAD#> <#PAD#> <#PAD#> <#PAD#> <#PAD#> <#PAD#> <#PAD#> <#PAD#> <#PAD#> <#PAD#> <#PAD#> <#PAD#> <#PAD#> <#PAD#> <#PAD#> <#PAD#> <#PAD#> <#PAD#> <#PAD#> <#PAD#> <#PAD#> <#PAD#> <#PAD#> <#PAD#> <#PAD#> <#PAD#> <#PAD#> <#PAD#> <#PAD#> <#PAD#> <#PAD#> <#PAD#> <#PAD#> <#PAD#> <#PAD#> <#PAD#> <#PAD#> <#PAD#> <#PAD#> <#PAD#> <#PAD#> <#PAD#> <#PAD#> <#PAD#> <#PAD#> <#PAD#> <#PAD#> to celebrate the release a retrospective of \" organic matter ' / something else ? imagination is martin vi \" , the catalogue , which we visited , the philosopher of layered and mutually central with work in 2005 , created by council of the national institute of philosophy ( moma ) of 2010 by jrp ringier . this web was formulated to acquire this speculation whereby its website for the new york show at the end . as well as extension and the power of the artist ' s use of his early collection . the apparent quality of meaning that was entitled got to something not that art cannot contribute , than mere putting its picture as the world , or value - is given of \" a comprehensive supplement of volumes : which they are placed in the city . from the 1990s onwards in 1963 , the studio ' s custom line for the kunsthaus graz went position in the direction field that was the idea of art and the institutions as the title applied itself . thus the academy served to create dynamic in producing art , presentations and contributions , to give them a critical and experimental vision that the sense of a living space that allows an artistic practice of questioning and self . to develop to articulate artistic uses and communication and , this desired an understanding for the relevance are important , yet to be interpreted for internal and social contexts , and as a radical attitude of space and agency . this is aimed on exploring the politics of self . from the perspective of one person or subject the way , ha de - material exists , these ' dreams \" , predominantly by a group of 30 creative practitioners of artistic processes , attempted to engage diverse of social classes in social thinking : main , choreography , culture in relation and contemporary reality , such as performance and theatre , models , performances from the various fields and the making - - are on their own realities , and the international scope and cultural economy of the cultural situation of serbia , but their aim of finding the ambiguous and contradictory problems of inclusion experiences and "
     ]
    },
    {
     "name": "stdout",
     "output_type": "stream",
     "text": [
      "interpretations both unfamiliar values , proposing us instead on different sites , institutions in relation , such and fixed developments and beyond . other practices in the position of public programmes go with regard that are important urgent artists who have become common means , it should embody the construct . the exhibitions you have been a threat . in addition , the series will also be selected in a constellation with an opportunity with a series of issues between real life not replaced by method , and how our museum does be forged . while in the discussion of the theme artists of the 21st century - one and the worldwide - defining exhibition cycle is dedicated by an overall view into africa - - a point that being , then manipulated its portrayal to join the personal journey and experiences . the exhibition started on that situation arises and then call our place from the vantage of the space , allowing public and geographic relevance . <#PAD#> seoul is an independent charity and research . jochen ' s collection is present especially promising for the work of the english and the austrian artist 2014 to the german artist manfred maria lassnig . this year - - due with the breadth of the kunsthalle stadelschule , is a non - profit publication dedicated to the first international art institution , leading galleries including new york - based curator christoph faurschou . haus ' s website houses . a major collaboration artist , curator of contemporary art , is one of a new director ' foundation who has been active of the curator diedrich evans , carefully seeking the exhibition . <#PAD#> <#PAD#> <#PAD#> <#PAD#> <#PAD#> <#PAD#> gallery : 25 - 7 ' 09 a space made on a wall . the title alludes is his verbal and simultaneous , simple , conceptual juxtaposition to things with elements and phrases . the central theme of the v ( 2017 ) endeavour was presented for a fully commissioned display and environment . in the fourth exhibition of the world . just simply the same context is accepted in due to the work and material continuity , a pattern , quality and parody / infinity ( therefore of color / similarities ] at the intersection between two popular artistic projects that make sense , that of its present . they urge first discoveries . a plot , curated : how the logic does we deal to transcend , and question we call where failure and taking that is none to yet recognize is not or simply our own feelings ? at the same place , the artists articulate the immediacy between a single extension motion different with three - dimensional narratives or performances . with several video , images , 2015 acts take up footage , and develop the works our physical interactions , a second degree , captures visitors and to create engaging encounters into a short perceptual , relationship between figurative art and a shifted and mobile spectator - album , or - - its primary facets . this project becomes an immersive installation of its power - - such as speed , motion of simple music whose hypnotic , presence to science fiction . using an interrogation montage of sculpture , an exhibition is raw - edge to , for eight - year music and music . between the library of performance , exhibition , sound , and performance , radio , opera for 25 december 3 . film screenings [ at ] ground - run and <#PAD#> events , night drawing with india of visual arts , as \" art historian lecture , the co - directors of the new york , president and serpentine stuart , director of arts , the vera collection at artspace , berlin , and carol yinghua and katherine gladstone foundation , and stephanie hunter , executive officer assistant of culture , taipei university of contemporary australian art historian and curator and editor ( curator and director of whitechapel ) jennifer cooper and michelle ho , chief editor . special issue york - - editor , film critic , editor , london in 2006 , * tom johnson : this , \" issue of flash of a spell and the self affect a ' moment to be considered and in . \" , frieze presents 80 reviews fifty on eye : saadane afif , and the return - winning artists of contemporary artists is also the first feature of the film ' free of , the decade that led the ' 80s after the gradual film sphere , densely , psychedelic film monitors from the 70s and established - - fell it and its clear , it is the very time , in the most comprehensive dvd ; "
     ]
    }
   ],
   "source": [
    "i = 0\n",
    "gen = X_test[i:i+seqlen].tolist()\n",
    "genu = Xu_test[i:i+seqlen].tolist()\n",
    "\n",
    "\n",
    "tX = np.zeros((1, seqlen), dtype=\"int32\")\n",
    "tXu = np.zeros((1, seqlen), dtype=\"float32\")\n",
    "results = []\n",
    "\n",
    "for i, idx in enumerate(gen):\n",
    "    word = \"<UNK>\"\n",
    "    if genu[i] < 0.1:\n",
    "        word = words[idx]\n",
    "    sys.stdout.write(word + \" \")\n",
    "    sys.stdout.flush()\n",
    "\n",
    "print(\"=\" * 100)\n",
    "\n",
    "UNK_IDX = len(words)\n",
    "\n",
    "iterations = 5000\n",
    "for j in range(iterations):\n",
    "    tX[0,:] = np.array(gen[-seqlen:], \"int32\")\n",
    "    tXu[0,:] = np.array(genu[-seqlen:], \"float32\")\n",
    "    \n",
    "    #print(tX)\n",
    "    z = mpredict.predict([tX, tXu])\n",
    "    scores=z[0]\n",
    "    idx = UNK_IDX\n",
    "    #print(scores)\n",
    "    while idx == UNK_IDX:\n",
    "        idx = np.random.choice(range(len(vocab)+2), p=scores)\n",
    "    if idx != UNK_IDX:\n",
    "        gen.append(idx)\n",
    "        genu.append(0.0)\n",
    "        results.append(words[idx])\n",
    "    else:\n",
    "        gen.append(0)\n",
    "        genu.append(1.0)\n",
    "        results.append(\"<UNK>\")\n",
    "    #print(\"idx\", idx, UNK_IDX)\n",
    "\n",
    "    sys.stdout.write(results[-1] + \" \")\n",
    "    sys.stdout.flush()\n",
    "#    print(\"%s \", results[-1])"
   ]
  },
  {
   "cell_type": "code",
   "execution_count": 156,
   "metadata": {},
   "outputs": [],
   "source": [
    "len(X_test)\n",
    "\n",
    "test_seq = util.NegativeSamplingPermutedSequence(data_x=X_test, data_xu=Xu_test, batch_size=1024, seqlen=seqlen, vocab_size=len(vocab)+1, sample_size=sample_size)"
   ]
  },
  {
   "cell_type": "code",
   "execution_count": 157,
   "metadata": {},
   "outputs": [
    {
     "name": "stdout",
     "output_type": "stream",
     "text": [
      "100/100 [==============================] - 4s 45ms/step\n"
     ]
    },
    {
     "data": {
      "text/plain": [
       "[0.2676042978465557, 0.923232421875, 0.915546875]"
      ]
     },
     "execution_count": 157,
     "metadata": {},
     "output_type": "execute_result"
    }
   ],
   "source": [
    "mtrain.evaluate_generator(test_seq, steps=100, verbose=1)"
   ]
  },
  {
   "cell_type": "code",
   "execution_count": 158,
   "metadata": {},
   "outputs": [
    {
     "name": "stdout",
     "output_type": "stream",
     "text": [
      "100/100 [==============================] - 28s 280ms/step\n"
     ]
    },
    {
     "data": {
      "text/plain": [
       "[0.1355609091371298, 0.951273193359375, 0.944530029296875]"
      ]
     },
     "execution_count": 158,
     "metadata": {},
     "output_type": "execute_result"
    }
   ],
   "source": [
    "mtrain.evaluate_generator(train_seq, steps=100, verbose=1)"
   ]
  },
  {
   "cell_type": "code",
   "execution_count": 92,
   "metadata": {},
   "outputs": [],
   "source": [
    "from sklearn import preprocessing"
   ]
  },
  {
   "cell_type": "code",
   "execution_count": 93,
   "metadata": {},
   "outputs": [],
   "source": [
    "norm_emb_matrix =  preprocessing.normalize(emb_matrix, axis=1)"
   ]
  },
  {
   "cell_type": "code",
   "execution_count": 94,
   "metadata": {},
   "outputs": [],
   "source": [
    "zn = preprocessing.normalize(z[0,:], axis=1)\n"
   ]
  },
  {
   "cell_type": "code",
   "execution_count": 95,
   "metadata": {},
   "outputs": [],
   "source": [
    "we = zn[-1, :300]"
   ]
  },
  {
   "cell_type": "code",
   "execution_count": 96,
   "metadata": {},
   "outputs": [],
   "source": [
    "scores = np.matmul(norm_emb_matrix, we)"
   ]
  },
  {
   "cell_type": "code",
   "execution_count": 97,
   "metadata": {},
   "outputs": [
    {
     "name": "stdout",
     "output_type": "stream",
     "text": [
      "23\n"
     ]
    }
   ],
   "source": [
    "idx = np.argmax(scores)\n",
    "print(idx)\n",
    "word = words[idx]"
   ]
  },
  {
   "cell_type": "code",
   "execution_count": 98,
   "metadata": {},
   "outputs": [
    {
     "data": {
      "text/plain": [
       "'at'"
      ]
     },
     "execution_count": 98,
     "metadata": {},
     "output_type": "execute_result"
    }
   ],
   "source": [
    "word"
   ]
  },
  {
   "cell_type": "code",
   "execution_count": 84,
   "metadata": {},
   "outputs": [
    {
     "data": {
      "text/plain": [
       "'.'"
      ]
     },
     "execution_count": 84,
     "metadata": {},
     "output_type": "execute_result"
    }
   ],
   "source": [
    "words[2]"
   ]
  },
  {
   "cell_type": "code",
   "execution_count": null,
   "metadata": {},
   "outputs": [],
   "source": []
  }
 ],
 "metadata": {
  "kernelspec": {
   "display_name": "venv",
   "language": "python",
   "name": "venv"
  },
  "language_info": {
   "codemirror_mode": {
    "name": "ipython",
    "version": 3
   },
   "file_extension": ".py",
   "mimetype": "text/x-python",
   "name": "python",
   "nbconvert_exporter": "python",
   "pygments_lexer": "ipython3",
   "version": "3.6.5"
  }
 },
 "nbformat": 4,
 "nbformat_minor": 1
}
