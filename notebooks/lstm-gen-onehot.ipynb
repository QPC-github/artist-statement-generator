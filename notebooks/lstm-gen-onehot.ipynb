{
 "cells": [
  {
   "cell_type": "markdown",
   "metadata": {},
   "source": [
    "### Hyperparameters"
   ]
  },
  {
   "cell_type": "code",
   "execution_count": 110,
   "metadata": {},
   "outputs": [],
   "source": [
    "# Hyperparameters\n",
    "\n",
    "seqlen = 64\n",
    "#batch_size = 1024\n",
    "sample_size = 10\n",
    "vocab_size = 10000\n",
    "model_tag = \"overfit\"\n"
   ]
  },
  {
   "cell_type": "markdown",
   "metadata": {},
   "source": [
    "### Code"
   ]
  },
  {
   "cell_type": "code",
   "execution_count": 33,
   "metadata": {},
   "outputs": [],
   "source": [
    "import tensorflow.keras as K\n",
    "import os.path\n",
    "\n",
    "import sys, imp\n",
    "\n",
    "sys.path.append(\"../src\")\n",
    "from artstat import util\n",
    "import numpy as np\n",
    "\n",
    "\n",
    "from tensorflow.keras import Model, Input\n",
    "from tensorflow.keras.callbacks import LearningRateScheduler, ModelCheckpoint\n",
    "from tensorflow.keras.layers import (Reshape, Embedding, CuDNNLSTM, BatchNormalization, Dense, \n",
    "                                     Concatenate, Lambda, Activation, Dropout)\n",
    "import tensorflow as tf"
   ]
  },
  {
   "cell_type": "code",
   "execution_count": 34,
   "metadata": {},
   "outputs": [
    {
     "data": {
      "text/plain": [
       "<module 'artstat.util' from '/app/src/artstat/util.py'>"
      ]
     },
     "execution_count": 34,
     "metadata": {},
     "output_type": "execute_result"
    }
   ],
   "source": [
    "imp.reload(util)"
   ]
  },
  {
   "cell_type": "code",
   "execution_count": 35,
   "metadata": {},
   "outputs": [],
   "source": [
    "path_train = \"/data/local/artstat/train\"\n",
    "path_test = \"/data/local/artstat/test\"\n",
    "\n",
    "glove_dims = 300\n",
    "\n",
    "glove = \"/data/shared/glove/glove.6B.%dd.txt\" % glove_dims\n",
    "\n",
    "#glove = \"/home/pmilovanov/data/glove/glove.840B.300d.txt\"\n",
    "#glove = \n",
    "#glove = \"/home/pmilovanov/data/glove/glove.6B.100d.txt\"\n",
    "#glove = \"/home/pmilovanov/data/glove/glove.6B.300d.txt\"\n"
   ]
  },
  {
   "cell_type": "code",
   "execution_count": 5,
   "metadata": {
    "collapsed": true
   },
   "outputs": [
    {
     "data": {
      "text/plain": [
       "'/data/local/artstat/train'"
      ]
     },
     "execution_count": 5,
     "metadata": {},
     "output_type": "execute_result"
    }
   ],
   "source": [
    "path_train"
   ]
  },
  {
   "cell_type": "code",
   "execution_count": 6,
   "metadata": {},
   "outputs": [],
   "source": [
    "#vocab_file = \"../vocab.txt\"\n",
    "vocab_file = \"../vocab_lower.txt\"\n",
    "\n",
    "words, vocab = util.load_vocab(vocab_file, vocab_size)"
   ]
  },
  {
   "cell_type": "code",
   "execution_count": 7,
   "metadata": {},
   "outputs": [
    {
     "name": "stdout",
     "output_type": "stream",
     "text": [
      "10000\n",
      "(10001, 300)\n"
     ]
    }
   ],
   "source": [
    "emb_matrix = util.load_embeddings(vocab, glove_dims, glove)\n",
    "\n",
    "print(len(vocab))\n",
    "print(emb_matrix.shape)"
   ]
  },
  {
   "cell_type": "code",
   "execution_count": 8,
   "metadata": {
    "scrolled": true
   },
   "outputs": [
    {
     "name": "stderr",
     "output_type": "stream",
     "text": [
      "100%|##########| 22860/22860 [00:43<00:00, 530.20it/s]\n"
     ]
    }
   ],
   "source": [
    "imp.reload(util)\n",
    "X, Xu = util.load_data(path_train, vocab, pad=seqlen, lowercase=True)"
   ]
  },
  {
   "cell_type": "code",
   "execution_count": 9,
   "metadata": {
    "collapsed": true
   },
   "outputs": [
    {
     "name": "stdout",
     "output_type": "stream",
     "text": [
      "10000\n",
      "Total words: 17676455\n",
      "Unknown words: 7.16%\n"
     ]
    }
   ],
   "source": [
    "print(np.max(X))\n",
    "print(\"Total words:\", len(X))\n",
    "print(\"Unknown words: {:.2f}%\".format(100 * sum(Xu[:,0]) / len(Xu)))"
   ]
  },
  {
   "cell_type": "code",
   "execution_count": 10,
   "metadata": {},
   "outputs": [],
   "source": [
    "def sampling_layer(x):\n",
    "    data, sample_indices = x\n",
    "    def gather_per_batch(e):\n",
    "        batch, indices = e\n",
    "        indices = tf.cast(indices, tf.int32)\n",
    "        #print(\"batch\", type(batch), batch.dtype, batch.shape)\n",
    "        #print(\"indices\", type(indices), indices.dtype, indices.shape)\n",
    "        return (tf.gather(batch, indices),0)\n",
    "    return tf.map_fn(gather_per_batch, (data, sample_indices),\n",
    "                    parallel_iterations=batch_size*2, swap_memory=False)[0]\n",
    "\n",
    "\n",
    "def sampling_layer_gather_nd(x):\n",
    "    data, sample_indices = x\n",
    "    return tf.gather_nd(data, tf.cast(sample_indices, tf.int32))\n"
   ]
  },
  {
   "cell_type": "code",
   "execution_count": 11,
   "metadata": {},
   "outputs": [],
   "source": [
    "def make_model(*, seqlen, sample_size, emb_matrix, \n",
    "               lstm_sizes=[256, 256],\n",
    "               dense_size=300, dense_layers=3,\n",
    "               aux_dim=2, dropout_rate=0.1):    \n",
    "    dim = emb_matrix.shape[1] + 1\n",
    "    \n",
    "    input_x = Input((seqlen,), dtype=\"int32\", name=\"input_x\")\n",
    "    input_aux = Input((seqlen, aux_dim), dtype=\"float32\", name=\"input_aux\")\n",
    "    input_sample_indices = Input((sample_size,2), dtype=\"int32\", name=\"input_sample_indices\")\n",
    "\n",
    "    resh_aux  = input_aux #Reshape((seqlen,), name=\"resh_aux\")(input_aux)\n",
    "\n",
    "    emb_layer = Embedding(*emb_matrix.shape, input_length=seqlen, \n",
    "                          trainable=False, weights=[emb_matrix], \n",
    "                          name=\"embedding\")\n",
    "    emb_x = emb_layer(input_x)\n",
    "    concat_x = Concatenate(name=\"concat_x\")([emb_x, resh_aux])\n",
    "    \n",
    "    yhat = concat_x\n",
    "    \n",
    "    for i, layer_size in enumerate(lstm_sizes):\n",
    "        ret_sequences = (i < len(lstm_sizes)-1)\n",
    "        layerno = i+1\n",
    "        yhat = CuDNNLSTM(layer_size, return_sequences=ret_sequences, name=('lstm%d' % layerno))(yhat)\n",
    "        yhat = BatchNormalization()(yhat)\n",
    "        yhat = Dropout(dropout_rate)(yhat)\n",
    "    \n",
    "    for layer in range(1, dense_layers+1):\n",
    "        yhat = Dense(300, activation=\"relu\", name=(\"dense%d\" % layer))(yhat)\n",
    "        yhat = BatchNormalization()(yhat)\n",
    "        yhat = Dropout(dropout_rate)(yhat)\n",
    "   \n",
    "    # These two layers are special: given the model returned by this function,\n",
    "    # we can make a model for prediction by taking input_x, input_aux as inputs,\n",
    "    # and constructing the output by putting softmax on top of out_linear\n",
    "    # and concatenating it with out_aux.\n",
    "    yhat_aux = Dense(aux_dim, activation=\"sigmoid\", name=\"out_aux\")(yhat)\n",
    "    yhat = Dense(len(vocab)+2, activation=\"linear\", name=\"out_linear\")(yhat)\n",
    "    # len(vocab)+2 is because the zeroth word is for padding\n",
    "    # and last word is for \"unknown\" \n",
    "    \n",
    "    #print(input_sample_indices.dtype, input_sample_indices.shape)\n",
    "    out_train = Lambda(sampling_layer_gather_nd, name=\"sampling\")([yhat, input_sample_indices])\n",
    "    out_train = Activation('softmax')(out_train)\n",
    "    out_train = Concatenate(name=\"concat_out_train\")([out_train, yhat_aux])\n",
    "          \n",
    "    model_train = Model([input_x, input_aux, input_sample_indices], [out_train])\n",
    "    \n",
    "    return model_train\n",
    "\n",
    "\n",
    "def make_predict_model(model_train):\n",
    "    # Given the model returned by make_model() above\n",
    "    # we can make a model for prediction by taking input_x, input_aux as inputs,\n",
    "    # and constructing the output by putting softmax on top of out_linear\n",
    "    # and concatenating it with out_aux.\n",
    "    \n",
    "    yhat_aux = model_train.get_layer(name=\"out_aux\").output\n",
    "    yhat = model_train.get_layer(name=\"out_linear\").output\n",
    "     \n",
    "    out_predict = Activation('softmax')(yhat)\n",
    "    out_predict = Concatenate(name=\"concat_out_predict\")([out_predict, yhat_aux])\n",
    "   \n",
    "    input_x, input_aux, _ = model_train.inputs\n",
    "    model_predict = Model([input_x, input_aux], [out_predict])\n",
    "    \n",
    "    return model_predict\n"
   ]
  },
  {
   "cell_type": "code",
   "execution_count": 80,
   "metadata": {},
   "outputs": [],
   "source": [
    "lstm_size=256\n",
    "\n",
    "mtrain = make_model(seqlen=seqlen, sample_size=sample_size,                                               \n",
    "                    emb_matrix=emb_matrix,\n",
    "                    lstm_sizes=[256,256],\n",
    "                    dense_size=256, dense_layers=5,\n",
    "                    dropout_rate=0.01)\n",
    "\n",
    "mpredict = make_predict_model(mtrain)"
   ]
  },
  {
   "cell_type": "code",
   "execution_count": 81,
   "metadata": {},
   "outputs": [],
   "source": [
    "opt = K.optimizers.Adam(lr=0.01)\n",
    "mtrain.compile(opt, loss='categorical_crossentropy', metrics=[\"accuracy\"])"
   ]
  },
  {
   "cell_type": "code",
   "execution_count": 102,
   "metadata": {},
   "outputs": [],
   "source": [
    "imp.reload(util)\n",
    "batch_size=128\n",
    "train_seq = util.NegativeSamplingPermutedSequence(data_x=X, data_xu=Xu,\n",
    "                                                 seqlen=seqlen, batch_size=batch_size,\n",
    "                                                 sample_size=sample_size,\n",
    "                                                 vocab_size=len(vocab)+1)"
   ]
  },
  {
   "cell_type": "code",
   "execution_count": null,
   "metadata": {},
   "outputs": [],
   "source": []
  },
  {
   "cell_type": "code",
   "execution_count": 103,
   "metadata": {},
   "outputs": [
    {
     "name": "stdout",
     "output_type": "stream",
     "text": [
      "checkpoints/weights.lstm256.batch128.glove300.sample5.vocab10000.overfit.hdf5\n"
     ]
    }
   ],
   "source": [
    "checkpoint_filepath = \"checkpoints/weights.lstm%d.batch%d.glove%d.sample%d.vocab%d.%s.hdf5\" % (lstm_size, batch_size, glove_dims, sample_size, vocab_size, model_tag)\n",
    "\n",
    "print(checkpoint_filepath)\n",
    "checkpoint = K.callbacks.ModelCheckpoint(checkpoint_filepath,                       \n",
    "                                        verbose=2,\n",
    "                                        save_best_only=True,\n",
    "                                         monitor='loss'\n",
    "                                        )"
   ]
  },
  {
   "cell_type": "code",
   "execution_count": 104,
   "metadata": {},
   "outputs": [
    {
     "name": "stdout",
     "output_type": "stream",
     "text": [
      "epoch 0: 0.010000\n",
      "epoch 10: 0.009700\n",
      "epoch 20: 0.009409\n",
      "epoch 30: 0.009127\n",
      "epoch 40: 0.008853\n",
      "epoch 50: 0.008587\n",
      "epoch 60: 0.008330\n",
      "epoch 70: 0.008080\n",
      "epoch 80: 0.007837\n",
      "epoch 90: 0.007602\n"
     ]
    }
   ],
   "source": [
    "import math\n",
    "\n",
    "def decay(epoch):\n",
    "    lr0 = 0.01\n",
    "    period = 10\n",
    "    factor = 0.97\n",
    "    return lr0 * math.pow(factor, math.floor(epoch/period))\n",
    "\n",
    "for i in range(0,100,10):\n",
    "    print(\"epoch {:d}: {:.6f}\".format(i,decay(i)))\n",
    "\n",
    "    \n",
    "decay_scheduler = LearningRateScheduler(decay, verbose=1)"
   ]
  },
  {
   "cell_type": "code",
   "execution_count": 107,
   "metadata": {
    "scrolled": false
   },
   "outputs": [
    {
     "name": "stdout",
     "output_type": "stream",
     "text": [
      "\n",
      "Epoch 00151: LearningRateScheduler reducing learning rate to 0.006332511891367892.\n",
      "Epoch 151/5000000\n",
      " 138/8631 [..............................] - ETA: 21:17 - loss: 0.9593 - acc: 0.8856"
     ]
    },
    {
     "ename": "KeyboardInterrupt",
     "evalue": "",
     "traceback": [
      "\u001b[0;31m---------------------------------------------------------------------------\u001b[0m",
      "\u001b[0;31mKeyboardInterrupt\u001b[0m                         Traceback (most recent call last)",
      "\u001b[0;32m<ipython-input-107-31e94dbd8d4a>\u001b[0m in \u001b[0;36m<module>\u001b[0;34m()\u001b[0m\n\u001b[1;32m      4\u001b[0m mtrain.fit_generator(train_seq, steps_per_epoch=numbatches, epochs=5000000,\n\u001b[1;32m      5\u001b[0m                     \u001b[0mcallbacks\u001b[0m\u001b[0;34m=\u001b[0m\u001b[0;34m[\u001b[0m\u001b[0mcheckpoint\u001b[0m\u001b[0;34m,\u001b[0m \u001b[0mdecay_scheduler\u001b[0m\u001b[0;34m]\u001b[0m\u001b[0;34m,\u001b[0m\u001b[0;34m\u001b[0m\u001b[0m\n\u001b[0;32m----> 6\u001b[0;31m                     initial_epoch=150, verbose=1)\n\u001b[0m",
      "\u001b[0;32m/usr/local/lib/python3.5/dist-packages/tensorflow/python/keras/engine/training.py\u001b[0m in \u001b[0;36mfit_generator\u001b[0;34m(self, generator, steps_per_epoch, epochs, verbose, callbacks, validation_data, validation_steps, class_weight, max_queue_size, workers, use_multiprocessing, shuffle, initial_epoch)\u001b[0m\n\u001b[1;32m   1777\u001b[0m         \u001b[0muse_multiprocessing\u001b[0m\u001b[0;34m=\u001b[0m\u001b[0muse_multiprocessing\u001b[0m\u001b[0;34m,\u001b[0m\u001b[0;34m\u001b[0m\u001b[0m\n\u001b[1;32m   1778\u001b[0m         \u001b[0mshuffle\u001b[0m\u001b[0;34m=\u001b[0m\u001b[0mshuffle\u001b[0m\u001b[0;34m,\u001b[0m\u001b[0;34m\u001b[0m\u001b[0m\n\u001b[0;32m-> 1779\u001b[0;31m         initial_epoch=initial_epoch)\n\u001b[0m\u001b[1;32m   1780\u001b[0m \u001b[0;34m\u001b[0m\u001b[0m\n\u001b[1;32m   1781\u001b[0m   def evaluate_generator(self,\n",
      "\u001b[0;32m/usr/local/lib/python3.5/dist-packages/tensorflow/python/keras/engine/training_generator.py\u001b[0m in \u001b[0;36mfit_generator\u001b[0;34m(model, generator, steps_per_epoch, epochs, verbose, callbacks, validation_data, validation_steps, class_weight, max_queue_size, workers, use_multiprocessing, shuffle, initial_epoch)\u001b[0m\n\u001b[1;32m    202\u001b[0m \u001b[0;34m\u001b[0m\u001b[0m\n\u001b[1;32m    203\u001b[0m         outs = model.train_on_batch(\n\u001b[0;32m--> 204\u001b[0;31m             x, y, sample_weight=sample_weight, class_weight=class_weight)\n\u001b[0m\u001b[1;32m    205\u001b[0m \u001b[0;34m\u001b[0m\u001b[0m\n\u001b[1;32m    206\u001b[0m         \u001b[0;32mif\u001b[0m \u001b[0;32mnot\u001b[0m \u001b[0misinstance\u001b[0m\u001b[0;34m(\u001b[0m\u001b[0mouts\u001b[0m\u001b[0;34m,\u001b[0m \u001b[0mlist\u001b[0m\u001b[0;34m)\u001b[0m\u001b[0;34m:\u001b[0m\u001b[0;34m\u001b[0m\u001b[0m\n",
      "\u001b[0;32m/usr/local/lib/python3.5/dist-packages/tensorflow/python/keras/engine/training.py\u001b[0m in \u001b[0;36mtrain_on_batch\u001b[0;34m(self, x, y, sample_weight, class_weight)\u001b[0m\n\u001b[1;32m   1550\u001b[0m \u001b[0;34m\u001b[0m\u001b[0m\n\u001b[1;32m   1551\u001b[0m       \u001b[0mself\u001b[0m\u001b[0;34m.\u001b[0m\u001b[0m_make_train_function\u001b[0m\u001b[0;34m(\u001b[0m\u001b[0;34m)\u001b[0m\u001b[0;34m\u001b[0m\u001b[0m\n\u001b[0;32m-> 1552\u001b[0;31m       \u001b[0moutputs\u001b[0m \u001b[0;34m=\u001b[0m \u001b[0mself\u001b[0m\u001b[0;34m.\u001b[0m\u001b[0mtrain_function\u001b[0m\u001b[0;34m(\u001b[0m\u001b[0mins\u001b[0m\u001b[0;34m)\u001b[0m\u001b[0;34m\u001b[0m\u001b[0m\n\u001b[0m\u001b[1;32m   1553\u001b[0m \u001b[0;34m\u001b[0m\u001b[0m\n\u001b[1;32m   1554\u001b[0m     \u001b[0;32mif\u001b[0m \u001b[0mlen\u001b[0m\u001b[0;34m(\u001b[0m\u001b[0moutputs\u001b[0m\u001b[0;34m)\u001b[0m \u001b[0;34m==\u001b[0m \u001b[0;36m1\u001b[0m\u001b[0;34m:\u001b[0m\u001b[0;34m\u001b[0m\u001b[0m\n",
      "\u001b[0;32m/usr/local/lib/python3.5/dist-packages/tensorflow/python/keras/backend.py\u001b[0m in \u001b[0;36m__call__\u001b[0;34m(self, inputs)\u001b[0m\n\u001b[1;32m   2912\u001b[0m       \u001b[0mself\u001b[0m\u001b[0;34m.\u001b[0m\u001b[0m_make_callable\u001b[0m\u001b[0;34m(\u001b[0m\u001b[0mfeed_arrays\u001b[0m\u001b[0;34m,\u001b[0m \u001b[0mfeed_symbols\u001b[0m\u001b[0;34m,\u001b[0m \u001b[0msymbol_vals\u001b[0m\u001b[0;34m,\u001b[0m \u001b[0msession\u001b[0m\u001b[0;34m)\u001b[0m\u001b[0;34m\u001b[0m\u001b[0m\n\u001b[1;32m   2913\u001b[0m \u001b[0;34m\u001b[0m\u001b[0m\n\u001b[0;32m-> 2914\u001b[0;31m     \u001b[0mfetched\u001b[0m \u001b[0;34m=\u001b[0m \u001b[0mself\u001b[0m\u001b[0;34m.\u001b[0m\u001b[0m_callable_fn\u001b[0m\u001b[0;34m(\u001b[0m\u001b[0;34m*\u001b[0m\u001b[0marray_vals\u001b[0m\u001b[0;34m)\u001b[0m\u001b[0;34m\u001b[0m\u001b[0m\n\u001b[0m\u001b[1;32m   2915\u001b[0m     \u001b[0mself\u001b[0m\u001b[0;34m.\u001b[0m\u001b[0m_call_fetch_callbacks\u001b[0m\u001b[0;34m(\u001b[0m\u001b[0mfetched\u001b[0m\u001b[0;34m[\u001b[0m\u001b[0;34m-\u001b[0m\u001b[0mlen\u001b[0m\u001b[0;34m(\u001b[0m\u001b[0mself\u001b[0m\u001b[0;34m.\u001b[0m\u001b[0m_fetches\u001b[0m\u001b[0;34m)\u001b[0m\u001b[0;34m:\u001b[0m\u001b[0;34m]\u001b[0m\u001b[0;34m)\u001b[0m\u001b[0;34m\u001b[0m\u001b[0m\n\u001b[1;32m   2916\u001b[0m     \u001b[0;32mreturn\u001b[0m \u001b[0mfetched\u001b[0m\u001b[0;34m[\u001b[0m\u001b[0;34m:\u001b[0m\u001b[0mlen\u001b[0m\u001b[0;34m(\u001b[0m\u001b[0mself\u001b[0m\u001b[0;34m.\u001b[0m\u001b[0moutputs\u001b[0m\u001b[0;34m)\u001b[0m\u001b[0;34m]\u001b[0m\u001b[0;34m\u001b[0m\u001b[0m\n",
      "\u001b[0;32m/usr/local/lib/python3.5/dist-packages/tensorflow/python/client/session.py\u001b[0m in \u001b[0;36m__call__\u001b[0;34m(self, *args, **kwargs)\u001b[0m\n\u001b[1;32m   1380\u001b[0m           ret = tf_session.TF_SessionRunCallable(\n\u001b[1;32m   1381\u001b[0m               \u001b[0mself\u001b[0m\u001b[0;34m.\u001b[0m\u001b[0m_session\u001b[0m\u001b[0;34m.\u001b[0m\u001b[0m_session\u001b[0m\u001b[0;34m,\u001b[0m \u001b[0mself\u001b[0m\u001b[0;34m.\u001b[0m\u001b[0m_handle\u001b[0m\u001b[0;34m,\u001b[0m \u001b[0margs\u001b[0m\u001b[0;34m,\u001b[0m \u001b[0mstatus\u001b[0m\u001b[0;34m,\u001b[0m\u001b[0;34m\u001b[0m\u001b[0m\n\u001b[0;32m-> 1382\u001b[0;31m               run_metadata_ptr)\n\u001b[0m\u001b[1;32m   1383\u001b[0m         \u001b[0;32mif\u001b[0m \u001b[0mrun_metadata\u001b[0m\u001b[0;34m:\u001b[0m\u001b[0;34m\u001b[0m\u001b[0m\n\u001b[1;32m   1384\u001b[0m           \u001b[0mproto_data\u001b[0m \u001b[0;34m=\u001b[0m \u001b[0mtf_session\u001b[0m\u001b[0;34m.\u001b[0m\u001b[0mTF_GetBuffer\u001b[0m\u001b[0;34m(\u001b[0m\u001b[0mrun_metadata_ptr\u001b[0m\u001b[0;34m)\u001b[0m\u001b[0;34m\u001b[0m\u001b[0m\n",
      "\u001b[0;31mKeyboardInterrupt\u001b[0m: "
     ],
     "output_type": "error"
    }
   ],
   "source": [
    "\n",
    "numbatches = 4* X.shape[0] // (batch_size*seqlen)\n",
    "\n",
    "mtrain.fit_generator(train_seq, steps_per_epoch=numbatches, epochs=5000000,\n",
    "                    callbacks=[checkpoint, decay_scheduler],\n",
    "                    initial_epoch=150, verbose=1)\n"
   ]
  },
  {
   "cell_type": "markdown",
   "metadata": {},
   "source": [
    "### Test"
   ]
  },
  {
   "cell_type": "code",
   "execution_count": 94,
   "metadata": {},
   "outputs": [
    {
     "name": "stderr",
     "output_type": "stream",
     "text": [
      "100%|##########| 472/472 [00:00<00:00, 564.11it/s]\n"
     ]
    }
   ],
   "source": [
    "X_test, Xu_test = util.load_data(path_test, vocab, pad=seqlen, lowercase=True)\n",
    "#X_test, Xu_test = util.load_data(path_misc, vocab, pad=seqlen, lowercase=True)"
   ]
  },
  {
   "cell_type": "code",
   "execution_count": 95,
   "metadata": {},
   "outputs": [
    {
     "name": "stdout",
     "output_type": "stream",
     "text": [
      "Unknown words: 7.75%\n"
     ]
    }
   ],
   "source": [
    "X_test\n",
    "print(\"Unknown words: {:.2f}%\".format(100*np.sum(Xu_test[:,0]) / len(Xu_test)))\n"
   ]
  },
  {
   "cell_type": "code",
   "execution_count": 96,
   "metadata": {},
   "outputs": [
    {
     "data": {
      "text/plain": [
       "[<tf.Tensor 'input_x_7:0' shape=(?, 64) dtype=int32>,\n",
       " <tf.Tensor 'input_aux_7:0' shape=(?, 64, 2) dtype=float32>,\n",
       " <tf.Tensor 'input_sample_indices_7:0' shape=(?, 5, 2) dtype=int32>]"
      ]
     },
     "execution_count": 96,
     "metadata": {},
     "output_type": "execute_result"
    }
   ],
   "source": [
    "mtrain.inputs"
   ]
  },
  {
   "cell_type": "code",
   "execution_count": 108,
   "metadata": {},
   "outputs": [],
   "source": [
    "mpredict.compile(opt, loss=\"categorical_crossentropy\")"
   ]
  },
  {
   "cell_type": "code",
   "execution_count": 98,
   "metadata": {},
   "outputs": [
    {
     "data": {
      "text/plain": [
       "10001"
      ]
     },
     "execution_count": 98,
     "metadata": {},
     "output_type": "execute_result"
    }
   ],
   "source": [
    "len(words)"
   ]
  },
  {
   "cell_type": "code",
   "execution_count": 99,
   "metadata": {},
   "outputs": [
    {
     "name": "stdout",
     "output_type": "stream",
     "text": [
      "[0.8852459  0.11065574 0.00409836]\n",
      "0.9999999999999999\n"
     ]
    }
   ],
   "source": [
    "def groom_probs(scores, alpha):\n",
    "    s2 = np.power(scores, alpha)\n",
    "    total = np.sum(s2)\n",
    "    return s2 / total\n",
    "\n",
    "\n",
    "z = groom_probs(np.array([0.6, 0.3, 0.1]),\n",
    "                  3.0)\n",
    "\n",
    "print(z)\n",
    "print(np.sum(z))"
   ]
  },
  {
   "cell_type": "code",
   "execution_count": 109,
   "metadata": {},
   "outputs": [
    {
     "name": "stdout",
     "output_type": "stream",
     "text": [
      "and works in Germany ) ( Born in 1971 in Turkey , lives and works in Turkey ) ( Born in 1958 in Canada , lives and works in Canada ) Single screen projection 35mm and <UNK> transferred to <UNK> ( Born in 1968 in Germany , lives and works in Netherlands ) ( <UNK> : Born in 1974 in India , lives and ====================================================================================================\n",
      " profit nationally of history archive, dean and the Same words lecture. The\n",
      " spaces-of field of and still. This is connected down in the past decades, the\n",
      " line. The boundaries with a modern encounters, ultimately. At exhibitions in\n",
      " russia, a part opportunity which straight curators of a further--dimensional\n",
      " upon recently\"on am does? at the museum, working s, the royal, the central\n",
      " point in terms, without both dimensions\"-included he s existing only or-a key\n",
      " the life must be stop-, what what a artistic. A project, the potential. By the\n",
      " job are erased between her substances narrative a whole reference whole\n",
      " traditional, and fantasies. Using exhibition are of modernity on understanding\n",
      " in the mid-at the Three-january-2016 <#PAD#>, seoul and its the band the\n",
      " international, as facility to be an 130'not a space of artists? applied-20th\n",
      " space and a es few works, the first of his generation s museums prize since\n",
      " year is their than s be gradually in\"in a cold our. This are a strong. <#PAD#>\n",
      ", and the start in march <#PAD#> point film says the first initiative\". It been\n",
      " at all by up in netherlands),. <#PAD#>; white the Exhibition the'exhibition.\n",
      " And the museum--2010 <#PAD#> is held ]-scale art with the sammlung dhabi, art\n",
      " Palace. Stephane And And a more (the Museum gallery launch-6pm. In glasgow and\n",
      " The Fondazione Ville edition Gallery in Pulse of contemporary art et Andreas a\n",
      " broad design events to present s-south zacheta of the exhibition is via'\n",
      "investigation its the poet From 7 7 8 9 online) is an. <#PAD#>, in rome of new (\n",
      "prize (2001, december sin usd)) from charlottenborg and the Cultural Theater art\n",
      " the Newspaper of The Serralves am, time artforum. Org-called and brazil, the\n",
      " Frieze-mondriaan, in the School. What. As at-side, 10 art arts support of\n",
      " Frieze college. John (distributed. Of the Collective historical bard'am\n",
      " abbemuseum s s exhibition-video-performances. Org <#PAD#> <#PAD#> <#PAD#>\n",
      " <#PAD#> <#PAD#> <#PAD#> <#PAD#> <#PAD#> <#PAD#> <#PAD#> <#PAD#> <#PAD#> <#PAD#>\n",
      " <#PAD#> <#PAD#> <#PAD#> <#PAD#> <#PAD#> <#PAD#> <#PAD#> <#PAD#>"
     ]
    },
    {
     "ename": "KeyboardInterrupt",
     "evalue": "",
     "traceback": [
      "\u001b[0;31m---------------------------------------------------------------------------\u001b[0m",
      "\u001b[0;31mKeyboardInterrupt\u001b[0m                         Traceback (most recent call last)",
      "\u001b[0;32m<ipython-input-109-a674d9e310af>\u001b[0m in \u001b[0;36m<module>\u001b[0;34m()\u001b[0m\n\u001b[1;32m     42\u001b[0m \u001b[0;34m\u001b[0m\u001b[0m\n\u001b[1;32m     43\u001b[0m     \u001b[0;31m#print(tX)\u001b[0m\u001b[0;34m\u001b[0m\u001b[0;34m\u001b[0m\u001b[0m\n\u001b[0;32m---> 44\u001b[0;31m     \u001b[0mz\u001b[0m \u001b[0;34m=\u001b[0m \u001b[0mmpredict\u001b[0m\u001b[0;34m.\u001b[0m\u001b[0mpredict\u001b[0m\u001b[0;34m(\u001b[0m\u001b[0;34m[\u001b[0m\u001b[0mtX\u001b[0m\u001b[0;34m,\u001b[0m \u001b[0mtXu\u001b[0m\u001b[0;34m]\u001b[0m\u001b[0;34m)\u001b[0m\u001b[0;34m\u001b[0m\u001b[0m\n\u001b[0m\u001b[1;32m     45\u001b[0m     \u001b[0mscores\u001b[0m\u001b[0;34m=\u001b[0m\u001b[0mz\u001b[0m\u001b[0;34m[\u001b[0m\u001b[0;36m0\u001b[0m\u001b[0;34m]\u001b[0m\u001b[0;34m[\u001b[0m\u001b[0;34m:\u001b[0m\u001b[0;34m-\u001b[0m\u001b[0;36m2\u001b[0m\u001b[0;34m]\u001b[0m\u001b[0;34m\u001b[0m\u001b[0m\n\u001b[1;32m     46\u001b[0m     \u001b[0maux\u001b[0m\u001b[0;34m=\u001b[0m\u001b[0mz\u001b[0m\u001b[0;34m[\u001b[0m\u001b[0;36m0\u001b[0m\u001b[0;34m]\u001b[0m\u001b[0;34m[\u001b[0m\u001b[0;34m-\u001b[0m\u001b[0;36m2\u001b[0m\u001b[0;34m:\u001b[0m\u001b[0;34m]\u001b[0m\u001b[0;34m\u001b[0m\u001b[0m\n",
      "\u001b[0;32m/usr/local/lib/python3.5/dist-packages/tensorflow/python/keras/engine/training.py\u001b[0m in \u001b[0;36mpredict\u001b[0;34m(self, x, batch_size, verbose, steps)\u001b[0m\n\u001b[1;32m   1491\u001b[0m     \u001b[0;32melse\u001b[0m\u001b[0;34m:\u001b[0m\u001b[0;34m\u001b[0m\u001b[0m\n\u001b[1;32m   1492\u001b[0m       return training_arrays.predict_loop(\n\u001b[0;32m-> 1493\u001b[0;31m           self, x, batch_size=batch_size, verbose=verbose, steps=steps)\n\u001b[0m\u001b[1;32m   1494\u001b[0m \u001b[0;34m\u001b[0m\u001b[0m\n\u001b[1;32m   1495\u001b[0m   \u001b[0;32mdef\u001b[0m \u001b[0mtrain_on_batch\u001b[0m\u001b[0;34m(\u001b[0m\u001b[0mself\u001b[0m\u001b[0;34m,\u001b[0m \u001b[0mx\u001b[0m\u001b[0;34m,\u001b[0m \u001b[0my\u001b[0m\u001b[0;34m=\u001b[0m\u001b[0;32mNone\u001b[0m\u001b[0;34m,\u001b[0m \u001b[0msample_weight\u001b[0m\u001b[0;34m=\u001b[0m\u001b[0;32mNone\u001b[0m\u001b[0;34m,\u001b[0m \u001b[0mclass_weight\u001b[0m\u001b[0;34m=\u001b[0m\u001b[0;32mNone\u001b[0m\u001b[0;34m)\u001b[0m\u001b[0;34m:\u001b[0m\u001b[0;34m\u001b[0m\u001b[0m\n",
      "\u001b[0;32m/usr/local/lib/python3.5/dist-packages/tensorflow/python/keras/engine/training_arrays.py\u001b[0m in \u001b[0;36mpredict_loop\u001b[0;34m(model, inputs, batch_size, verbose, steps)\u001b[0m\n\u001b[1;32m    372\u001b[0m         \u001b[0mins_batch\u001b[0m\u001b[0;34m[\u001b[0m\u001b[0mi\u001b[0m\u001b[0;34m]\u001b[0m \u001b[0;34m=\u001b[0m \u001b[0mins_batch\u001b[0m\u001b[0;34m[\u001b[0m\u001b[0mi\u001b[0m\u001b[0;34m]\u001b[0m\u001b[0;34m.\u001b[0m\u001b[0mtoarray\u001b[0m\u001b[0;34m(\u001b[0m\u001b[0;34m)\u001b[0m\u001b[0;34m\u001b[0m\u001b[0m\n\u001b[1;32m    373\u001b[0m \u001b[0;34m\u001b[0m\u001b[0m\n\u001b[0;32m--> 374\u001b[0;31m       \u001b[0mbatch_outs\u001b[0m \u001b[0;34m=\u001b[0m \u001b[0mf\u001b[0m\u001b[0;34m(\u001b[0m\u001b[0mins_batch\u001b[0m\u001b[0;34m)\u001b[0m\u001b[0;34m\u001b[0m\u001b[0m\n\u001b[0m\u001b[1;32m    375\u001b[0m       \u001b[0;32mif\u001b[0m \u001b[0;32mnot\u001b[0m \u001b[0misinstance\u001b[0m\u001b[0;34m(\u001b[0m\u001b[0mbatch_outs\u001b[0m\u001b[0;34m,\u001b[0m \u001b[0mlist\u001b[0m\u001b[0;34m)\u001b[0m\u001b[0;34m:\u001b[0m\u001b[0;34m\u001b[0m\u001b[0m\n\u001b[1;32m    376\u001b[0m         \u001b[0mbatch_outs\u001b[0m \u001b[0;34m=\u001b[0m \u001b[0;34m[\u001b[0m\u001b[0mbatch_outs\u001b[0m\u001b[0;34m]\u001b[0m\u001b[0;34m\u001b[0m\u001b[0m\n",
      "\u001b[0;32m/usr/local/lib/python3.5/dist-packages/tensorflow/python/keras/backend.py\u001b[0m in \u001b[0;36m__call__\u001b[0;34m(self, inputs)\u001b[0m\n\u001b[1;32m   2912\u001b[0m       \u001b[0mself\u001b[0m\u001b[0;34m.\u001b[0m\u001b[0m_make_callable\u001b[0m\u001b[0;34m(\u001b[0m\u001b[0mfeed_arrays\u001b[0m\u001b[0;34m,\u001b[0m \u001b[0mfeed_symbols\u001b[0m\u001b[0;34m,\u001b[0m \u001b[0msymbol_vals\u001b[0m\u001b[0;34m,\u001b[0m \u001b[0msession\u001b[0m\u001b[0;34m)\u001b[0m\u001b[0;34m\u001b[0m\u001b[0m\n\u001b[1;32m   2913\u001b[0m \u001b[0;34m\u001b[0m\u001b[0m\n\u001b[0;32m-> 2914\u001b[0;31m     \u001b[0mfetched\u001b[0m \u001b[0;34m=\u001b[0m \u001b[0mself\u001b[0m\u001b[0;34m.\u001b[0m\u001b[0m_callable_fn\u001b[0m\u001b[0;34m(\u001b[0m\u001b[0;34m*\u001b[0m\u001b[0marray_vals\u001b[0m\u001b[0;34m)\u001b[0m\u001b[0;34m\u001b[0m\u001b[0m\n\u001b[0m\u001b[1;32m   2915\u001b[0m     \u001b[0mself\u001b[0m\u001b[0;34m.\u001b[0m\u001b[0m_call_fetch_callbacks\u001b[0m\u001b[0;34m(\u001b[0m\u001b[0mfetched\u001b[0m\u001b[0;34m[\u001b[0m\u001b[0;34m-\u001b[0m\u001b[0mlen\u001b[0m\u001b[0;34m(\u001b[0m\u001b[0mself\u001b[0m\u001b[0;34m.\u001b[0m\u001b[0m_fetches\u001b[0m\u001b[0;34m)\u001b[0m\u001b[0;34m:\u001b[0m\u001b[0;34m]\u001b[0m\u001b[0;34m)\u001b[0m\u001b[0;34m\u001b[0m\u001b[0m\n\u001b[1;32m   2916\u001b[0m     \u001b[0;32mreturn\u001b[0m \u001b[0mfetched\u001b[0m\u001b[0;34m[\u001b[0m\u001b[0;34m:\u001b[0m\u001b[0mlen\u001b[0m\u001b[0;34m(\u001b[0m\u001b[0mself\u001b[0m\u001b[0;34m.\u001b[0m\u001b[0moutputs\u001b[0m\u001b[0;34m)\u001b[0m\u001b[0;34m]\u001b[0m\u001b[0;34m\u001b[0m\u001b[0m\n",
      "\u001b[0;32m/usr/local/lib/python3.5/dist-packages/tensorflow/python/client/session.py\u001b[0m in \u001b[0;36m__call__\u001b[0;34m(self, *args, **kwargs)\u001b[0m\n\u001b[1;32m   1380\u001b[0m           ret = tf_session.TF_SessionRunCallable(\n\u001b[1;32m   1381\u001b[0m               \u001b[0mself\u001b[0m\u001b[0;34m.\u001b[0m\u001b[0m_session\u001b[0m\u001b[0;34m.\u001b[0m\u001b[0m_session\u001b[0m\u001b[0;34m,\u001b[0m \u001b[0mself\u001b[0m\u001b[0;34m.\u001b[0m\u001b[0m_handle\u001b[0m\u001b[0;34m,\u001b[0m \u001b[0margs\u001b[0m\u001b[0;34m,\u001b[0m \u001b[0mstatus\u001b[0m\u001b[0;34m,\u001b[0m\u001b[0;34m\u001b[0m\u001b[0m\n\u001b[0;32m-> 1382\u001b[0;31m               run_metadata_ptr)\n\u001b[0m\u001b[1;32m   1383\u001b[0m         \u001b[0;32mif\u001b[0m \u001b[0mrun_metadata\u001b[0m\u001b[0;34m:\u001b[0m\u001b[0;34m\u001b[0m\u001b[0m\n\u001b[1;32m   1384\u001b[0m           \u001b[0mproto_data\u001b[0m \u001b[0;34m=\u001b[0m \u001b[0mtf_session\u001b[0m\u001b[0;34m.\u001b[0m\u001b[0mTF_GetBuffer\u001b[0m\u001b[0;34m(\u001b[0m\u001b[0mrun_metadata_ptr\u001b[0m\u001b[0;34m)\u001b[0m\u001b[0;34m\u001b[0m\u001b[0m\n",
      "\u001b[0;31mKeyboardInterrupt\u001b[0m: "
     ],
     "output_type": "error"
    }
   ],
   "source": [
    "def capitalize(s):\n",
    "    if len(s) == 0: return s\n",
    "    return s[0].upper() + s[1:]\n",
    "\n",
    "\n",
    "\n",
    "i = np.random.randint(len(X_test) - seqlen)\n",
    "gen = X_test[i:i+seqlen].tolist()\n",
    "genu = Xu_test[i:i+seqlen].tolist()\n",
    "\n",
    "\n",
    "tX = np.zeros((1, seqlen), dtype=\"int32\")\n",
    "tXu = np.zeros((1, seqlen, 2), dtype=\"float32\")\n",
    "results = []\n",
    "\n",
    "for i, idx in enumerate(gen):\n",
    "    word = \"<UNK>\"\n",
    "    if genu[i][0] < 0.1:\n",
    "        word = words[idx]\n",
    "    if genu[i][1] > 0.9:\n",
    "        word = capitalize(word)\n",
    "    sys.stdout.write(word + \" \")\n",
    "    sys.stdout.flush()\n",
    "\n",
    "print(\"=\" * 100)\n",
    "\n",
    "UNK_IDX = len(words)\n",
    "\n",
    "\n",
    "punct = \":-;.,!?'\\\")\"\n",
    "punct2 = \"-/'(\\\"\"\n",
    "\n",
    "iterations = 512\n",
    "\n",
    "prev_word=words[gen[-1]]\n",
    "word=\"\"\n",
    "\n",
    "chars=0\n",
    "for j in range(iterations):\n",
    "    tX[0] = np.array(gen[-seqlen:], \"int32\")\n",
    "    tXu[0] = np.array(genu[-seqlen:], \"float32\")\n",
    "    \n",
    "    #print(tX)\n",
    "    z = mpredict.predict([tX, tXu])\n",
    "    scores=z[0][:-2]\n",
    "    aux=z[0][-2:]\n",
    "    idx = UNK_IDX\n",
    "    #print(scores)\n",
    "    while idx == UNK_IDX:\n",
    "        idx = np.random.choice(range(len(vocab)+2), p=scores)\n",
    "    if idx != UNK_IDX:\n",
    "        gen.append(idx)\n",
    "        genu.append([0.0, aux[1]])\n",
    "        word=words[idx]\n",
    "        if aux[1] > 0.5:\n",
    "            word = capitalize(word)\n",
    "        results.append(word)\n",
    "    else:\n",
    "        gen.append(0)\n",
    "        genu.append([1.0, 0.0])\n",
    "        results.append(\"<UNK>\")\n",
    "    #print(\"idx\", idx, UNK_IDX)\n",
    "\n",
    "    if 80-chars < len(word)+1:\n",
    "        sys.stdout.write(\"\\n\")\n",
    "        chars=0\n",
    "    if punct.find(word) < 0 and punct2.find(prev_word) < 0:\n",
    "        sys.stdout.write(\" \")\n",
    "        chars+=1\n",
    "    sys.stdout.write(word)\n",
    "    chars+=len(word)\n",
    "    sys.stdout.flush()\n",
    "    \n",
    "    prev_word=word\n",
    "#    print(\"%s \", results[-1])"
   ]
  },
  {
   "cell_type": "code",
   "execution_count": 39,
   "metadata": {},
   "outputs": [],
   "source": [
    "len(X_test)\n",
    "\n",
    "test_seq = util.NegativeSamplingPermutedSequence(data_x=X_test, data_xu=Xu_test, batch_size=1024, seqlen=seqlen, vocab_size=len(vocab)+1, sample_size=sample_size)"
   ]
  },
  {
   "cell_type": "code",
   "execution_count": 40,
   "metadata": {},
   "outputs": [
    {
     "name": "stdout",
     "output_type": "stream",
     "text": [
      "100/100 [==============================] - 4s 42ms/step\n"
     ]
    },
    {
     "data": {
      "text/plain": [
       "[0.9795894759893418, 0.853818359375]"
      ]
     },
     "execution_count": 40,
     "metadata": {},
     "output_type": "execute_result"
    }
   ],
   "source": [
    "mtrain.evaluate_generator(test_seq, steps=100, verbose=1)"
   ]
  },
  {
   "cell_type": "code",
   "execution_count": 41,
   "metadata": {},
   "outputs": [
    {
     "name": "stdout",
     "output_type": "stream",
     "text": [
      "100/100 [==============================] - 4s 40ms/step\n"
     ]
    },
    {
     "data": {
      "text/plain": [
       "[0.9828013104200363, 0.85705078125]"
      ]
     },
     "execution_count": 41,
     "metadata": {},
     "output_type": "execute_result"
    }
   ],
   "source": [
    "mtrain.evaluate_generator(train_seq, steps=100, verbose=1)"
   ]
  },
  {
   "cell_type": "code",
   "execution_count": 92,
   "metadata": {},
   "outputs": [],
   "source": [
    "from sklearn import preprocessing"
   ]
  },
  {
   "cell_type": "code",
   "execution_count": 93,
   "metadata": {},
   "outputs": [],
   "source": [
    "norm_emb_matrix =  preprocessing.normalize(emb_matrix, axis=1)"
   ]
  },
  {
   "cell_type": "code",
   "execution_count": 94,
   "metadata": {},
   "outputs": [],
   "source": [
    "zn = preprocessing.normalize(z[0,:], axis=1)\n"
   ]
  },
  {
   "cell_type": "code",
   "execution_count": 95,
   "metadata": {},
   "outputs": [],
   "source": [
    "we = zn[-1, :300]"
   ]
  },
  {
   "cell_type": "code",
   "execution_count": 96,
   "metadata": {},
   "outputs": [],
   "source": [
    "scores = np.matmul(norm_emb_matrix, we)"
   ]
  },
  {
   "cell_type": "code",
   "execution_count": 97,
   "metadata": {},
   "outputs": [
    {
     "name": "stdout",
     "output_type": "stream",
     "text": [
      "23\n"
     ]
    }
   ],
   "source": [
    "idx = np.argmax(scores)\n",
    "print(idx)\n",
    "word = words[idx]"
   ]
  },
  {
   "cell_type": "code",
   "execution_count": 98,
   "metadata": {},
   "outputs": [
    {
     "data": {
      "text/plain": [
       "'at'"
      ]
     },
     "execution_count": 98,
     "metadata": {},
     "output_type": "execute_result"
    }
   ],
   "source": [
    "word"
   ]
  },
  {
   "cell_type": "code",
   "execution_count": 84,
   "metadata": {},
   "outputs": [
    {
     "data": {
      "text/plain": [
       "'.'"
      ]
     },
     "execution_count": 84,
     "metadata": {},
     "output_type": "execute_result"
    }
   ],
   "source": [
    "words[2]"
   ]
  },
  {
   "cell_type": "code",
   "execution_count": null,
   "metadata": {},
   "outputs": [],
   "source": []
  }
 ],
 "metadata": {
  "kernelspec": {
   "display_name": "Python 3",
   "language": "python",
   "name": "python3"
  }
 },
 "nbformat": 4,
 "nbformat_minor": 1
}
