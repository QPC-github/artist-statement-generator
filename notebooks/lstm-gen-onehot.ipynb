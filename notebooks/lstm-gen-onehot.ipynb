{
 "cells": [
  {
   "cell_type": "markdown",
   "metadata": {},
   "source": [
    "### Hyperparameters"
   ]
  },
  {
   "cell_type": "code",
   "execution_count": 226,
   "metadata": {},
   "outputs": [],
   "source": [
    "# Hyperparameters\n",
    "\n",
    "seqlen = 128\n",
    "#batch_size = 1024\n",
    "sample_size = 10\n",
    "vocab_size = 5000\n"
   ]
  },
  {
   "cell_type": "markdown",
   "metadata": {},
   "source": [
    "### Code"
   ]
  },
  {
   "cell_type": "code",
   "execution_count": 203,
   "metadata": {},
   "outputs": [],
   "source": [
    "import tensorflow.keras as K\n",
    "import os.path\n",
    "\n",
    "import sys, imp\n",
    "\n",
    "sys.path.append(\"../src\")\n",
    "from artstat import util\n",
    "import numpy as np\n",
    "\n",
    "\n",
    "from tensorflow.keras import Model, Input\n",
    "from tensorflow.keras.callbacks import LearningRateScheduler, ModelCheckpoint\n",
    "from tensorflow.keras.layers import (Reshape, Embedding, CuDNNLSTM, BatchNormalization, Dense, \n",
    "                                     Concatenate, Lambda, Activation, Dropout)\n",
    "import tensorflow as tf"
   ]
  },
  {
   "cell_type": "code",
   "execution_count": 186,
   "metadata": {},
   "outputs": [
    {
     "data": {
      "text/plain": [
       "<module 'artstat.util' from '/app/src/artstat/util.py'>"
      ]
     },
     "execution_count": 186,
     "metadata": {},
     "output_type": "execute_result"
    }
   ],
   "source": [
    "imp.reload(util)"
   ]
  },
  {
   "cell_type": "code",
   "execution_count": 187,
   "metadata": {},
   "outputs": [],
   "source": [
    "path_train = \"/data/local/artstat/train\"\n",
    "path_test = \"/data/local/artstat/test\"\n",
    "\n",
    "glove_dims = 300\n",
    "\n",
    "glove = \"/data/shared/glove/glove.6B.%dd.txt\" % glove_dims\n",
    "\n",
    "#glove = \"/home/pmilovanov/data/glove/glove.840B.300d.txt\"\n",
    "#glove = \n",
    "#glove = \"/home/pmilovanov/data/glove/glove.6B.100d.txt\"\n",
    "#glove = \"/home/pmilovanov/data/glove/glove.6B.300d.txt\"\n"
   ]
  },
  {
   "cell_type": "code",
   "execution_count": 188,
   "metadata": {},
   "outputs": [
    {
     "data": {
      "text/plain": [
       "'/data/local/artstat/train'"
      ]
     },
     "execution_count": 188,
     "metadata": {},
     "output_type": "execute_result"
    }
   ],
   "source": [
    "path_train"
   ]
  },
  {
   "cell_type": "code",
   "execution_count": 189,
   "metadata": {},
   "outputs": [],
   "source": [
    "#vocab_file = \"../vocab.txt\"\n",
    "vocab_file = \"../vocab_lower.txt\"\n",
    "\n",
    "words, vocab = util.load_vocab(vocab_file, vocab_size)"
   ]
  },
  {
   "cell_type": "code",
   "execution_count": 206,
   "metadata": {},
   "outputs": [
    {
     "name": "stdout",
     "output_type": "stream",
     "text": [
      "5000\n",
      "(5001, 300)\n"
     ]
    }
   ],
   "source": [
    "emb_matrix = util.load_embeddings(vocab, glove_dims, glove)\n",
    "\n",
    "print(len(vocab))\n",
    "print(emb_matrix.shape)"
   ]
  },
  {
   "cell_type": "code",
   "execution_count": 209,
   "metadata": {
    "scrolled": true
   },
   "outputs": [
    {
     "name": "stderr",
     "output_type": "stream",
     "text": [
      "100%|##########| 22860/22860 [00:44<00:00, 518.96it/s]\n"
     ]
    }
   ],
   "source": [
    "imp.reload(util)\n",
    "X, Xu = util.load_data(path_train, vocab, pad=seqlen, lowercase=True)"
   ]
  },
  {
   "cell_type": "code",
   "execution_count": 210,
   "metadata": {},
   "outputs": [
    {
     "name": "stdout",
     "output_type": "stream",
     "text": [
      "5000\n",
      "Total words: 15481895\n",
      "Unknown words: 12.96%\n"
     ]
    }
   ],
   "source": [
    "print(np.max(X))\n",
    "print(\"Total words:\", len(X))\n",
    "print(\"Unknown words: {:.2f}%\".format(100 * sum(Xu[:,0]) / len(Xu)))"
   ]
  },
  {
   "cell_type": "code",
   "execution_count": 227,
   "metadata": {},
   "outputs": [],
   "source": [
    "def sampling_layer(x):\n",
    "    data, sample_indices = x\n",
    "    def gather_per_batch(e):\n",
    "        batch, indices = e\n",
    "        indices = tf.cast(indices, tf.int32)\n",
    "        #print(\"batch\", type(batch), batch.dtype, batch.shape)\n",
    "        #print(\"indices\", type(indices), indices.dtype, indices.shape)\n",
    "        return (tf.gather(batch, indices),0)\n",
    "    return tf.map_fn(gather_per_batch, (data, sample_indices),\n",
    "                    parallel_iterations=batch_size*2, swap_memory=False)[0]\n",
    "\n",
    "\n",
    "def sampling_layer_gather_nd(x):\n",
    "    data, sample_indices = x\n",
    "    return tf.gather_nd(data, tf.cast(sample_indices, tf.int32))\n"
   ]
  },
  {
   "cell_type": "code",
   "execution_count": 228,
   "metadata": {},
   "outputs": [],
   "source": [
    "def make_model(*, seqlen, sample_size, emb_matrix, \n",
    "               lstm_sizes=[256, 256],\n",
    "               dense_size=300, dense_layers=3,\n",
    "               aux_dim=2, dropout_rate=0.1):    \n",
    "    dim = emb_matrix.shape[1] + 1\n",
    "    \n",
    "    input_x = Input((seqlen,), dtype=\"int32\", name=\"input_x\")\n",
    "    input_aux = Input((seqlen, aux_dim), dtype=\"float32\", name=\"input_aux\")\n",
    "    input_sample_indices = Input((sample_size,2), dtype=\"int32\", name=\"input_sample_indices\")\n",
    "\n",
    "    resh_aux  = input_aux #Reshape((seqlen,), name=\"resh_aux\")(input_aux)\n",
    "\n",
    "    emb_layer = Embedding(*emb_matrix.shape, input_length=seqlen, \n",
    "                          trainable=False, weights=[emb_matrix], \n",
    "                          name=\"embedding\")\n",
    "    emb_x = emb_layer(input_x)\n",
    "    concat_x = Concatenate(name=\"concat_x\")([emb_x, resh_aux])\n",
    "    \n",
    "    yhat = concat_x\n",
    "    \n",
    "    for i, layer_size in enumerate(lstm_sizes):\n",
    "        ret_sequences = (i < len(lstm_sizes)-1)\n",
    "        layerno = i+1\n",
    "        yhat = CuDNNLSTM(layer_size, return_sequences=ret_sequences, name=('lstm%d' % layerno))(yhat)\n",
    "        yhat = BatchNormalization()(yhat)\n",
    "        yhat = Dropout(dropout_rate)(yhat)\n",
    "    \n",
    "    for layer in range(1, dense_layers+1):\n",
    "        yhat = Dense(300, activation=\"relu\", name=(\"dense%d\" % layer))(yhat)\n",
    "        yhat = BatchNormalization()(yhat)\n",
    "        yhat = Dropout(dropout_rate)(yhat)\n",
    "   \n",
    "    # These two layers are special: given the model returned by this function,\n",
    "    # we can make a model for prediction by taking input_x, input_aux as inputs,\n",
    "    # and constructing the output by putting softmax on top of out_linear\n",
    "    # and concatenating it with out_aux.\n",
    "    yhat_aux = Dense(aux_dim, activation=\"sigmoid\", name=\"out_aux\")(yhat)\n",
    "    yhat = Dense(len(vocab)+2, activation=\"linear\", name=\"out_linear\")(yhat)\n",
    "    # len(vocab)+2 is because the zeroth word is for padding\n",
    "    # and last word is for \"unknown\" \n",
    "    \n",
    "    #print(input_sample_indices.dtype, input_sample_indices.shape)\n",
    "    out_train = Lambda(sampling_layer_gather_nd, name=\"sampling\")([yhat, input_sample_indices])\n",
    "    out_train = Activation('softmax')(out_train)\n",
    "    out_train = Concatenate(name=\"concat_out_train\")([out_train, yhat_aux])\n",
    "          \n",
    "    model_train = Model([input_x, input_aux, input_sample_indices], [out_train])\n",
    "    \n",
    "    return model_train\n",
    "\n",
    "\n",
    "def make_predict_model(model_train):\n",
    "    # Given the model returned by make_model() above\n",
    "    # we can make a model for prediction by taking input_x, input_aux as inputs,\n",
    "    # and constructing the output by putting softmax on top of out_linear\n",
    "    # and concatenating it with out_aux.\n",
    "    \n",
    "    yhat_aux = model_train.get_layer(name=\"out_aux\").output\n",
    "    yhat = model_train.get_layer(name=\"out_linear\").output\n",
    "     \n",
    "    out_predict = Activation('softmax')(yhat)\n",
    "    out_predict = Concatenate(name=\"concat_out_predict\")([out_predict, yhat_aux])\n",
    "   \n",
    "    input_x, input_aux, _ = model_train.inputs\n",
    "    model_predict = Model([input_x, input_aux], [out_predict])\n",
    "    \n",
    "    return model_predict\n"
   ]
  },
  {
   "cell_type": "code",
   "execution_count": 231,
   "metadata": {},
   "outputs": [],
   "source": [
    "lstm_size=128\n",
    "\n",
    "mtrain = make_model(seqlen=seqlen, sample_size=sample_size,                                               \n",
    "                    emb_matrix=emb_matrix,\n",
    "                    lstm_sizes=[128,128],\n",
    "                    dense_size=256, dense_layers=3,\n",
    "                    dropout_rate=0.0)\n",
    "\n",
    "mpredict = make_predict_model(mtrain)"
   ]
  },
  {
   "cell_type": "code",
   "execution_count": 232,
   "metadata": {},
   "outputs": [],
   "source": [
    "opt = K.optimizers.Adam(lr=0.01)\n",
    "mtrain.compile(opt, loss='categorical_crossentropy', metrics=[\"accuracy\"])"
   ]
  },
  {
   "cell_type": "code",
   "execution_count": 233,
   "metadata": {},
   "outputs": [],
   "source": [
    "imp.reload(util)\n",
    "batch_size=4096\n",
    "train_seq = util.NegativeSamplingPermutedSequence(data_x=X, data_xu=Xu,\n",
    "                                                 seqlen=seqlen, batch_size=batch_size,\n",
    "                                                 sample_size=sample_size,\n",
    "                                                 vocab_size=len(vocab)+1)"
   ]
  },
  {
   "cell_type": "code",
   "execution_count": 234,
   "metadata": {},
   "outputs": [
    {
     "name": "stdout",
     "output_type": "stream",
     "text": [
      "checkpoints/weights.lstm128.glove300.sample10.vocab5000.hdf5\n"
     ]
    }
   ],
   "source": [
    "checkpoint_filepath = \"checkpoints/weights.lstm%d.glove%d.sample%d.vocab%d.hdf5\" % (lstm_size, glove_dims, sample_size, vocab_size)\n",
    "\n",
    "print(checkpoint_filepath)\n",
    "checkpoint = K.callbacks.ModelCheckpoint(checkpoint_filepath,                       \n",
    "                                        verbose=2,\n",
    "                                        save_best_only=True,\n",
    "                                         monitor='loss'\n",
    "                                        )"
   ]
  },
  {
   "cell_type": "code",
   "execution_count": 235,
   "metadata": {},
   "outputs": [
    {
     "name": "stdout",
     "output_type": "stream",
     "text": [
      "epoch 0: 0.100000\n",
      "epoch 10: 0.036000\n",
      "epoch 20: 0.012960\n",
      "epoch 30: 0.004666\n",
      "epoch 40: 0.001680\n",
      "epoch 50: 0.000605\n",
      "epoch 60: 0.000218\n",
      "epoch 70: 0.000078\n",
      "epoch 80: 0.000028\n",
      "epoch 90: 0.000010\n"
     ]
    }
   ],
   "source": [
    "import math\n",
    "\n",
    "def decay(epoch):\n",
    "    lr0 = 0.1\n",
    "    period = 5\n",
    "    factor = 0.6\n",
    "    return lr0 * math.pow(factor, math.floor(epoch/period))\n",
    "\n",
    "for i in range(0,100,10):\n",
    "    print(\"epoch {:d}: {:.6f}\".format(i,decay(i)))\n",
    "\n",
    "    \n",
    "decay_scheduler = LearningRateScheduler(decay)"
   ]
  },
  {
   "cell_type": "code",
   "execution_count": 236,
   "metadata": {
    "scrolled": false
   },
   "outputs": [
    {
     "name": "stdout",
     "output_type": "stream",
     "text": [
      "Epoch 3/5000000\n",
      "117/118 [============================>.] - ETA: 0s - loss: 2.0024 - acc: 0.6963\n",
      "Epoch 00003: loss improved from inf to 1.99887, saving model to checkpoints/weights.lstm128.glove300.sample10.vocab5000.hdf5\n",
      "118/118 [==============================] - 60s 507ms/step - loss: 1.9989 - acc: 0.6968\n",
      "Epoch 4/5000000\n",
      "117/118 [============================>.] - ETA: 0s - loss: 1.6001 - acc: 0.7522\n",
      "Epoch 00004: loss improved from 1.99887 to 1.60040, saving model to checkpoints/weights.lstm128.glove300.sample10.vocab5000.hdf5\n",
      "118/118 [==============================] - 39s 328ms/step - loss: 1.6004 - acc: 0.7523\n",
      "Epoch 5/5000000\n",
      "117/118 [============================>.] - ETA: 0s - loss: 1.6283 - acc: 0.7502\n",
      "Epoch 00005: loss did not improve from 1.60040\n",
      "118/118 [==============================] - 39s 327ms/step - loss: 1.6284 - acc: 0.7500\n",
      "Epoch 6/5000000\n",
      "117/118 [============================>.] - ETA: 0s - loss: 1.5640 - acc: 0.7614\n",
      "Epoch 00006: loss improved from 1.60040 to 1.56418, saving model to checkpoints/weights.lstm128.glove300.sample10.vocab5000.hdf5\n",
      "118/118 [==============================] - 38s 323ms/step - loss: 1.5642 - acc: 0.7613\n",
      "Epoch 7/5000000\n",
      "117/118 [============================>.] - ETA: 0s - loss: 1.5166 - acc: 0.7707\n",
      "Epoch 00007: loss improved from 1.56418 to 1.51666, saving model to checkpoints/weights.lstm128.glove300.sample10.vocab5000.hdf5\n",
      "118/118 [==============================] - 39s 329ms/step - loss: 1.5167 - acc: 0.7706\n",
      "Epoch 8/5000000\n",
      "117/118 [============================>.] - ETA: 0s - loss: 1.4863 - acc: 0.7737\n",
      "Epoch 00008: loss improved from 1.51666 to 1.48630, saving model to checkpoints/weights.lstm128.glove300.sample10.vocab5000.hdf5\n",
      "118/118 [==============================] - 39s 329ms/step - loss: 1.4863 - acc: 0.7738\n",
      "Epoch 9/5000000\n",
      "117/118 [============================>.] - ETA: 0s - loss: 1.4708 - acc: 0.7787\n",
      "Epoch 00009: loss improved from 1.48630 to 1.47103, saving model to checkpoints/weights.lstm128.glove300.sample10.vocab5000.hdf5\n",
      "118/118 [==============================] - 39s 327ms/step - loss: 1.4710 - acc: 0.7787\n",
      "Epoch 10/5000000\n",
      "117/118 [============================>.] - ETA: 0s - loss: 1.4758 - acc: 0.7767\n",
      "Epoch 00010: loss did not improve from 1.47103\n",
      "118/118 [==============================] - 38s 325ms/step - loss: 1.4757 - acc: 0.7767\n",
      "Epoch 11/5000000\n",
      "117/118 [============================>.] - ETA: 0s - loss: 1.4433 - acc: 0.7828\n",
      "Epoch 00011: loss improved from 1.47103 to 1.44300, saving model to checkpoints/weights.lstm128.glove300.sample10.vocab5000.hdf5\n",
      "118/118 [==============================] - 39s 330ms/step - loss: 1.4430 - acc: 0.7828\n",
      "Epoch 12/5000000\n",
      "117/118 [============================>.] - ETA: 0s - loss: 1.4281 - acc: 0.7880\n",
      "Epoch 00012: loss improved from 1.44300 to 1.42828, saving model to checkpoints/weights.lstm128.glove300.sample10.vocab5000.hdf5\n",
      "118/118 [==============================] - 38s 325ms/step - loss: 1.4283 - acc: 0.7879\n",
      "Epoch 13/5000000\n",
      "117/118 [============================>.] - ETA: 0s - loss: 1.4200 - acc: 0.7895\n",
      "Epoch 00013: loss improved from 1.42828 to 1.41990, saving model to checkpoints/weights.lstm128.glove300.sample10.vocab5000.hdf5\n",
      "118/118 [==============================] - 39s 327ms/step - loss: 1.4199 - acc: 0.7895\n",
      "Epoch 14/5000000\n",
      "117/118 [============================>.] - ETA: 0s - loss: 1.4098 - acc: 0.7916\n",
      "Epoch 00014: loss improved from 1.41990 to 1.40961, saving model to checkpoints/weights.lstm128.glove300.sample10.vocab5000.hdf5\n",
      "118/118 [==============================] - 38s 326ms/step - loss: 1.4096 - acc: 0.7917\n",
      "Epoch 15/5000000\n",
      "116/118 [============================>.] - ETA: 0s - loss: 1.4037 - acc: 0.7922"
     ]
    },
    {
     "ename": "KeyboardInterrupt",
     "evalue": "",
     "output_type": "error",
     "traceback": [
      "\u001b[0;31m---------------------------------------------------------------------------\u001b[0m",
      "\u001b[0;31mKeyboardInterrupt\u001b[0m                         Traceback (most recent call last)",
      "\u001b[0;32m<ipython-input-236-bd649b47873c>\u001b[0m in \u001b[0;36m<module>\u001b[0;34m()\u001b[0m\n\u001b[1;32m      4\u001b[0m mtrain.fit_generator(train_seq, steps_per_epoch=numbatches, epochs=5000000,\n\u001b[1;32m      5\u001b[0m                     \u001b[0mcallbacks\u001b[0m\u001b[0;34m=\u001b[0m\u001b[0;34m[\u001b[0m\u001b[0mcheckpoint\u001b[0m\u001b[0;34m,\u001b[0m \u001b[0mdecay_scheduler\u001b[0m\u001b[0;34m]\u001b[0m\u001b[0;34m,\u001b[0m\u001b[0;34m\u001b[0m\u001b[0m\n\u001b[0;32m----> 6\u001b[0;31m                     initial_epoch=2, verbose=1)\n\u001b[0m",
      "\u001b[0;32m/usr/local/lib/python3.5/dist-packages/tensorflow/python/keras/engine/training.py\u001b[0m in \u001b[0;36mfit_generator\u001b[0;34m(self, generator, steps_per_epoch, epochs, verbose, callbacks, validation_data, validation_steps, class_weight, max_queue_size, workers, use_multiprocessing, shuffle, initial_epoch)\u001b[0m\n\u001b[1;32m   1777\u001b[0m         \u001b[0muse_multiprocessing\u001b[0m\u001b[0;34m=\u001b[0m\u001b[0muse_multiprocessing\u001b[0m\u001b[0;34m,\u001b[0m\u001b[0;34m\u001b[0m\u001b[0m\n\u001b[1;32m   1778\u001b[0m         \u001b[0mshuffle\u001b[0m\u001b[0;34m=\u001b[0m\u001b[0mshuffle\u001b[0m\u001b[0;34m,\u001b[0m\u001b[0;34m\u001b[0m\u001b[0m\n\u001b[0;32m-> 1779\u001b[0;31m         initial_epoch=initial_epoch)\n\u001b[0m\u001b[1;32m   1780\u001b[0m \u001b[0;34m\u001b[0m\u001b[0m\n\u001b[1;32m   1781\u001b[0m   def evaluate_generator(self,\n",
      "\u001b[0;32m/usr/local/lib/python3.5/dist-packages/tensorflow/python/keras/engine/training_generator.py\u001b[0m in \u001b[0;36mfit_generator\u001b[0;34m(model, generator, steps_per_epoch, epochs, verbose, callbacks, validation_data, validation_steps, class_weight, max_queue_size, workers, use_multiprocessing, shuffle, initial_epoch)\u001b[0m\n\u001b[1;32m    202\u001b[0m \u001b[0;34m\u001b[0m\u001b[0m\n\u001b[1;32m    203\u001b[0m         outs = model.train_on_batch(\n\u001b[0;32m--> 204\u001b[0;31m             x, y, sample_weight=sample_weight, class_weight=class_weight)\n\u001b[0m\u001b[1;32m    205\u001b[0m \u001b[0;34m\u001b[0m\u001b[0m\n\u001b[1;32m    206\u001b[0m         \u001b[0;32mif\u001b[0m \u001b[0;32mnot\u001b[0m \u001b[0misinstance\u001b[0m\u001b[0;34m(\u001b[0m\u001b[0mouts\u001b[0m\u001b[0;34m,\u001b[0m \u001b[0mlist\u001b[0m\u001b[0;34m)\u001b[0m\u001b[0;34m:\u001b[0m\u001b[0;34m\u001b[0m\u001b[0m\n",
      "\u001b[0;32m/usr/local/lib/python3.5/dist-packages/tensorflow/python/keras/engine/training.py\u001b[0m in \u001b[0;36mtrain_on_batch\u001b[0;34m(self, x, y, sample_weight, class_weight)\u001b[0m\n\u001b[1;32m   1550\u001b[0m \u001b[0;34m\u001b[0m\u001b[0m\n\u001b[1;32m   1551\u001b[0m       \u001b[0mself\u001b[0m\u001b[0;34m.\u001b[0m\u001b[0m_make_train_function\u001b[0m\u001b[0;34m(\u001b[0m\u001b[0;34m)\u001b[0m\u001b[0;34m\u001b[0m\u001b[0m\n\u001b[0;32m-> 1552\u001b[0;31m       \u001b[0moutputs\u001b[0m \u001b[0;34m=\u001b[0m \u001b[0mself\u001b[0m\u001b[0;34m.\u001b[0m\u001b[0mtrain_function\u001b[0m\u001b[0;34m(\u001b[0m\u001b[0mins\u001b[0m\u001b[0;34m)\u001b[0m\u001b[0;34m\u001b[0m\u001b[0m\n\u001b[0m\u001b[1;32m   1553\u001b[0m \u001b[0;34m\u001b[0m\u001b[0m\n\u001b[1;32m   1554\u001b[0m     \u001b[0;32mif\u001b[0m \u001b[0mlen\u001b[0m\u001b[0;34m(\u001b[0m\u001b[0moutputs\u001b[0m\u001b[0;34m)\u001b[0m \u001b[0;34m==\u001b[0m \u001b[0;36m1\u001b[0m\u001b[0;34m:\u001b[0m\u001b[0;34m\u001b[0m\u001b[0m\n",
      "\u001b[0;32m/usr/local/lib/python3.5/dist-packages/tensorflow/python/keras/backend.py\u001b[0m in \u001b[0;36m__call__\u001b[0;34m(self, inputs)\u001b[0m\n\u001b[1;32m   2912\u001b[0m       \u001b[0mself\u001b[0m\u001b[0;34m.\u001b[0m\u001b[0m_make_callable\u001b[0m\u001b[0;34m(\u001b[0m\u001b[0mfeed_arrays\u001b[0m\u001b[0;34m,\u001b[0m \u001b[0mfeed_symbols\u001b[0m\u001b[0;34m,\u001b[0m \u001b[0msymbol_vals\u001b[0m\u001b[0;34m,\u001b[0m \u001b[0msession\u001b[0m\u001b[0;34m)\u001b[0m\u001b[0;34m\u001b[0m\u001b[0m\n\u001b[1;32m   2913\u001b[0m \u001b[0;34m\u001b[0m\u001b[0m\n\u001b[0;32m-> 2914\u001b[0;31m     \u001b[0mfetched\u001b[0m \u001b[0;34m=\u001b[0m \u001b[0mself\u001b[0m\u001b[0;34m.\u001b[0m\u001b[0m_callable_fn\u001b[0m\u001b[0;34m(\u001b[0m\u001b[0;34m*\u001b[0m\u001b[0marray_vals\u001b[0m\u001b[0;34m)\u001b[0m\u001b[0;34m\u001b[0m\u001b[0m\n\u001b[0m\u001b[1;32m   2915\u001b[0m     \u001b[0mself\u001b[0m\u001b[0;34m.\u001b[0m\u001b[0m_call_fetch_callbacks\u001b[0m\u001b[0;34m(\u001b[0m\u001b[0mfetched\u001b[0m\u001b[0;34m[\u001b[0m\u001b[0;34m-\u001b[0m\u001b[0mlen\u001b[0m\u001b[0;34m(\u001b[0m\u001b[0mself\u001b[0m\u001b[0;34m.\u001b[0m\u001b[0m_fetches\u001b[0m\u001b[0;34m)\u001b[0m\u001b[0;34m:\u001b[0m\u001b[0;34m]\u001b[0m\u001b[0;34m)\u001b[0m\u001b[0;34m\u001b[0m\u001b[0m\n\u001b[1;32m   2916\u001b[0m     \u001b[0;32mreturn\u001b[0m \u001b[0mfetched\u001b[0m\u001b[0;34m[\u001b[0m\u001b[0;34m:\u001b[0m\u001b[0mlen\u001b[0m\u001b[0;34m(\u001b[0m\u001b[0mself\u001b[0m\u001b[0;34m.\u001b[0m\u001b[0moutputs\u001b[0m\u001b[0;34m)\u001b[0m\u001b[0;34m]\u001b[0m\u001b[0;34m\u001b[0m\u001b[0m\n",
      "\u001b[0;32m/usr/local/lib/python3.5/dist-packages/tensorflow/python/client/session.py\u001b[0m in \u001b[0;36m__call__\u001b[0;34m(self, *args, **kwargs)\u001b[0m\n\u001b[1;32m   1380\u001b[0m           ret = tf_session.TF_SessionRunCallable(\n\u001b[1;32m   1381\u001b[0m               \u001b[0mself\u001b[0m\u001b[0;34m.\u001b[0m\u001b[0m_session\u001b[0m\u001b[0;34m.\u001b[0m\u001b[0m_session\u001b[0m\u001b[0;34m,\u001b[0m \u001b[0mself\u001b[0m\u001b[0;34m.\u001b[0m\u001b[0m_handle\u001b[0m\u001b[0;34m,\u001b[0m \u001b[0margs\u001b[0m\u001b[0;34m,\u001b[0m \u001b[0mstatus\u001b[0m\u001b[0;34m,\u001b[0m\u001b[0;34m\u001b[0m\u001b[0m\n\u001b[0;32m-> 1382\u001b[0;31m               run_metadata_ptr)\n\u001b[0m\u001b[1;32m   1383\u001b[0m         \u001b[0;32mif\u001b[0m \u001b[0mrun_metadata\u001b[0m\u001b[0;34m:\u001b[0m\u001b[0;34m\u001b[0m\u001b[0m\n\u001b[1;32m   1384\u001b[0m           \u001b[0mproto_data\u001b[0m \u001b[0;34m=\u001b[0m \u001b[0mtf_session\u001b[0m\u001b[0;34m.\u001b[0m\u001b[0mTF_GetBuffer\u001b[0m\u001b[0;34m(\u001b[0m\u001b[0mrun_metadata_ptr\u001b[0m\u001b[0;34m)\u001b[0m\u001b[0;34m\u001b[0m\u001b[0m\n",
      "\u001b[0;31mKeyboardInterrupt\u001b[0m: "
     ]
    }
   ],
   "source": [
    "\n",
    "numbatches = 4* X.shape[0] // (batch_size*seqlen)\n",
    "\n",
    "mtrain.fit_generator(train_seq, steps_per_epoch=numbatches, epochs=5000000,\n",
    "                    callbacks=[checkpoint, decay_scheduler],\n",
    "                    initial_epoch=2, verbose=1)\n"
   ]
  },
  {
   "cell_type": "markdown",
   "metadata": {},
   "source": [
    "### Test"
   ]
  },
  {
   "cell_type": "code",
   "execution_count": 166,
   "metadata": {},
   "outputs": [
    {
     "name": "stderr",
     "output_type": "stream",
     "text": [
      "100%|##########| 472/472 [00:00<00:00, 531.33it/s]\n"
     ]
    }
   ],
   "source": [
    "X_test, Xu_test = util.load_data(path_test, vocab, pad=seqlen, lowercase=True)\n",
    "#X_test, Xu_test = util.load_data(path_misc, vocab, pad=seqlen, lowercase=True)"
   ]
  },
  {
   "cell_type": "code",
   "execution_count": 167,
   "metadata": {},
   "outputs": [
    {
     "name": "stdout",
     "output_type": "stream",
     "text": [
      "Unknown words: 4.41%\n"
     ]
    }
   ],
   "source": [
    "X_test\n",
    "print(\"Unknown words: {:.2f}%\".format(100*np.sum(Xu_test[:,0]) / len(Xu_test)))\n"
   ]
  },
  {
   "cell_type": "code",
   "execution_count": 168,
   "metadata": {},
   "outputs": [
    {
     "data": {
      "text/plain": [
       "[<tf.Tensor 'input_x_9:0' shape=(?, 64) dtype=int32>,\n",
       " <tf.Tensor 'input_aux_9:0' shape=(?, 64, 2) dtype=float32>,\n",
       " <tf.Tensor 'input_sample_indices_9:0' shape=(?, 20, 2) dtype=int32>]"
      ]
     },
     "execution_count": 168,
     "metadata": {},
     "output_type": "execute_result"
    }
   ],
   "source": [
    "mtrain.inputs"
   ]
  },
  {
   "cell_type": "code",
   "execution_count": 177,
   "metadata": {},
   "outputs": [],
   "source": [
    "mpredict.compile(opt, loss=\"categorical_crossentropy\")"
   ]
  },
  {
   "cell_type": "code",
   "execution_count": 178,
   "metadata": {},
   "outputs": [
    {
     "data": {
      "text/plain": [
       "20001"
      ]
     },
     "execution_count": 178,
     "metadata": {},
     "output_type": "execute_result"
    }
   ],
   "source": [
    "len(words)"
   ]
  },
  {
   "cell_type": "code",
   "execution_count": 181,
   "metadata": {},
   "outputs": [
    {
     "name": "stdout",
     "output_type": "stream",
     "text": [
      "[0.8852459  0.11065574 0.00409836]\n",
      "0.9999999999999999\n"
     ]
    }
   ],
   "source": [
    "def groom_probs(scores, alpha):\n",
    "    s2 = np.power(scores, alpha)\n",
    "    total = np.sum(s2)\n",
    "    return s2 / total\n",
    "\n",
    "\n",
    "z = groom_probs(np.array([0.6, 0.3, 0.1]),\n",
    "                  3.0)\n",
    "\n",
    "print(z)\n",
    "print(np.sum(z))"
   ]
  },
  {
   "cell_type": "code",
   "execution_count": 182,
   "metadata": {},
   "outputs": [
    {
     "name": "stdout",
     "output_type": "stream",
     "text": [
      "the Croatian Association of Artists was built in 1938 by Croatian sculptor Ivan <UNK> as an art space that , during <UNK> , was turned into a <UNK> by the Croatian Nazi puppet state . Under socialism , the building served as the Museum of Socialist Revolution until 1990 when it was emptied of historical content and brought back to its current function as ====================================================================================================\n",
      " a spectacular environmental centre in town industrial in japan that works\n",
      " rarely seek upon sekula and independence after turning the exhibition beyond it\n",
      " itself to a vast entity of current economic developments. In ideal, the\n",
      " biennale is curated with museum concept and studies in the 12th Istanbul\n",
      " Biennale. <#PAD#> was born, Lives and lives in New Mexico of Hong Kong. The\n",
      " ecole van beeldende musee de monaco aux des pays--has with its support in furla\n",
      ". Since 1989 this exhibition is devoted to the participation here in Its three\n",
      " separate exhibitions, showcased the support and was completed for the venice\n",
      " Biennial. The jury has been financed by moderna through the Musees Prize prize\n",
      " for the top of visual finance and by the Major Contemporary Art Foundation and\n",
      " its founding committee of individual artists, colleagues to specialists,\n",
      " professionals of an active-emerging-and visionary art venue as one of the\n",
      " highest exponents award in 2007, coupled meetings and festivals to be awarded\n",
      " and responsible the role booth dedicated to encouraging a social development,\n",
      " community and artistic policy of international and international artists who\n",
      " have been to the arts with a jury whom, and who developed towards the film.\n",
      " Together have fundamentally formed for museion. She has been actively actively\n",
      " undertaken and interpreted of the international triennial of artists and\n",
      " international artists and the creative team, which he has mainly able to create\n",
      " video projects, and this project enables visitors to view them. The residency\n",
      " welcomes the parkway and the Exhibition audio set in the Rio, the subject,\"the\n",
      " gallery is dedicated to the two artists formed by artists who have organized\n",
      " from the americas and those for the 2014 Generation Saw for the future of The\n",
      " Art Archive. Their work embraces tension to fundamental implication into his\n",
      " work to functions as always-produced locale and their artistic explorations.\n",
      " Working with artists video works are not seen works of unexpected optimism to\n",
      " the differences and differences of contemporary modernism. The presentation,\n",
      " the act portrays with a new context of the lens of the museum of poetry and\n",
      " shows five decades which emerge on bourgeois.\"The artist no longer serve for a\n",
      " group of artists and art-lovers, as well by these critically and enabling the\n",
      " true artist, and remains an important outcome of a self of practise-up it with\n",
      " the appropriate conditions to this role in the practice system from the\n",
      " traditional photojournalism and the terms of gender and identity comparable in\n",
      " the process of recognition and development. Their inspiration is the\n",
      " appropriation and meaning reduction of inquiry and flatness and reconstruction\n",
      ", performativity and narrative, specificities and obscure relationships on the\n",
      " geopolitical and relational relations. It is at the forefront professor /media\n",
      " exhibition as a means of one's country and philosophy of today and its\n",
      " consequences. Instead, working"
     ]
    }
   ],
   "source": [
    "def capitalize(s):\n",
    "    if len(s) == 0: return s\n",
    "    return s[0].upper() + s[1:]\n",
    "\n",
    "\n",
    "\n",
    "i = np.random.randint(len(X_test) - seqlen)\n",
    "gen = X_test[i:i+seqlen].tolist()\n",
    "genu = Xu_test[i:i+seqlen].tolist()\n",
    "\n",
    "\n",
    "tX = np.zeros((1, seqlen), dtype=\"int32\")\n",
    "tXu = np.zeros((1, seqlen, 2), dtype=\"float32\")\n",
    "results = []\n",
    "\n",
    "for i, idx in enumerate(gen):\n",
    "    word = \"<UNK>\"\n",
    "    if genu[i][0] < 0.1:\n",
    "        word = words[idx]\n",
    "    if genu[i][1] > 0.9:\n",
    "        word = capitalize(word)\n",
    "    sys.stdout.write(word + \" \")\n",
    "    sys.stdout.flush()\n",
    "\n",
    "print(\"=\" * 100)\n",
    "\n",
    "UNK_IDX = len(words)\n",
    "\n",
    "\n",
    "punct = \":-;.,!?'\\\")\"\n",
    "punct2 = \"-/'(\\\"\"\n",
    "\n",
    "iterations = 512\n",
    "\n",
    "prev_word=words[gen[-1]]\n",
    "word=\"\"\n",
    "\n",
    "chars=0\n",
    "for j in range(iterations):\n",
    "    tX[0] = np.array(gen[-seqlen:], \"int32\")\n",
    "    tXu[0] = np.array(genu[-seqlen:], \"float32\")\n",
    "    \n",
    "    #print(tX)\n",
    "    z = mpredict.predict([tX, tXu])\n",
    "    scores=z[0][:-2]\n",
    "    aux=z[0][-2:]\n",
    "    idx = UNK_IDX\n",
    "    #print(scores)\n",
    "    while idx == UNK_IDX:\n",
    "        idx = np.random.choice(range(len(vocab)+2), p=scores)\n",
    "    if idx != UNK_IDX:\n",
    "        gen.append(idx)\n",
    "        genu.append([0.0, aux[1]])\n",
    "        word=words[idx]\n",
    "        if aux[1] > 0.5:\n",
    "            word = capitalize(word)\n",
    "        results.append(word)\n",
    "    else:\n",
    "        gen.append(0)\n",
    "        genu.append([1.0, 0.0])\n",
    "        results.append(\"<UNK>\")\n",
    "    #print(\"idx\", idx, UNK_IDX)\n",
    "\n",
    "    if 80-chars < len(word)+1:\n",
    "        sys.stdout.write(\"\\n\")\n",
    "        chars=0\n",
    "    if punct.find(word) < 0 and punct2.find(prev_word) < 0:\n",
    "        sys.stdout.write(\" \")\n",
    "        chars+=1\n",
    "    sys.stdout.write(word)\n",
    "    chars+=len(word)\n",
    "    sys.stdout.flush()\n",
    "    \n",
    "    prev_word=word\n",
    "#    print(\"%s \", results[-1])"
   ]
  },
  {
   "cell_type": "code",
   "execution_count": 39,
   "metadata": {},
   "outputs": [],
   "source": [
    "len(X_test)\n",
    "\n",
    "test_seq = util.NegativeSamplingPermutedSequence(data_x=X_test, data_xu=Xu_test, batch_size=1024, seqlen=seqlen, vocab_size=len(vocab)+1, sample_size=sample_size)"
   ]
  },
  {
   "cell_type": "code",
   "execution_count": 40,
   "metadata": {},
   "outputs": [
    {
     "name": "stdout",
     "output_type": "stream",
     "text": [
      "100/100 [==============================] - 4s 42ms/step\n"
     ]
    },
    {
     "data": {
      "text/plain": [
       "[0.9795894759893418, 0.853818359375]"
      ]
     },
     "execution_count": 40,
     "metadata": {},
     "output_type": "execute_result"
    }
   ],
   "source": [
    "mtrain.evaluate_generator(test_seq, steps=100, verbose=1)"
   ]
  },
  {
   "cell_type": "code",
   "execution_count": 41,
   "metadata": {},
   "outputs": [
    {
     "name": "stdout",
     "output_type": "stream",
     "text": [
      "100/100 [==============================] - 4s 40ms/step\n"
     ]
    },
    {
     "data": {
      "text/plain": [
       "[0.9828013104200363, 0.85705078125]"
      ]
     },
     "execution_count": 41,
     "metadata": {},
     "output_type": "execute_result"
    }
   ],
   "source": [
    "mtrain.evaluate_generator(train_seq, steps=100, verbose=1)"
   ]
  },
  {
   "cell_type": "code",
   "execution_count": 92,
   "metadata": {},
   "outputs": [],
   "source": [
    "from sklearn import preprocessing"
   ]
  },
  {
   "cell_type": "code",
   "execution_count": 93,
   "metadata": {},
   "outputs": [],
   "source": [
    "norm_emb_matrix =  preprocessing.normalize(emb_matrix, axis=1)"
   ]
  },
  {
   "cell_type": "code",
   "execution_count": 94,
   "metadata": {},
   "outputs": [],
   "source": [
    "zn = preprocessing.normalize(z[0,:], axis=1)\n"
   ]
  },
  {
   "cell_type": "code",
   "execution_count": 95,
   "metadata": {},
   "outputs": [],
   "source": [
    "we = zn[-1, :300]"
   ]
  },
  {
   "cell_type": "code",
   "execution_count": 96,
   "metadata": {},
   "outputs": [],
   "source": [
    "scores = np.matmul(norm_emb_matrix, we)"
   ]
  },
  {
   "cell_type": "code",
   "execution_count": 97,
   "metadata": {},
   "outputs": [
    {
     "name": "stdout",
     "output_type": "stream",
     "text": [
      "23\n"
     ]
    }
   ],
   "source": [
    "idx = np.argmax(scores)\n",
    "print(idx)\n",
    "word = words[idx]"
   ]
  },
  {
   "cell_type": "code",
   "execution_count": 98,
   "metadata": {},
   "outputs": [
    {
     "data": {
      "text/plain": [
       "'at'"
      ]
     },
     "execution_count": 98,
     "metadata": {},
     "output_type": "execute_result"
    }
   ],
   "source": [
    "word"
   ]
  },
  {
   "cell_type": "code",
   "execution_count": 84,
   "metadata": {},
   "outputs": [
    {
     "data": {
      "text/plain": [
       "'.'"
      ]
     },
     "execution_count": 84,
     "metadata": {},
     "output_type": "execute_result"
    }
   ],
   "source": [
    "words[2]"
   ]
  },
  {
   "cell_type": "code",
   "execution_count": null,
   "metadata": {},
   "outputs": [],
   "source": []
  }
 ],
 "metadata": {
  "kernelspec": {
   "display_name": "Python 3",
   "language": "python",
   "name": "python3"
  },
  "language_info": {
   "codemirror_mode": {
    "name": "ipython",
    "version": 3
   },
   "file_extension": ".py",
   "mimetype": "text/x-python",
   "name": "python",
   "nbconvert_exporter": "python",
   "pygments_lexer": "ipython3",
   "version": "3.5.2"
  }
 },
 "nbformat": 4,
 "nbformat_minor": 1
}
