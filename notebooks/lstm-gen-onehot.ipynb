{
 "cells": [
  {
   "cell_type": "code",
   "execution_count": 1,
   "metadata": {},
   "outputs": [
    {
     "name": "stderr",
     "output_type": "stream",
     "text": [
      "Using TensorFlow backend.\n"
     ]
    }
   ],
   "source": [
    "import keras as K\n",
    "import os.path\n",
    "\n",
    "import sys\n",
    "\n",
    "sys.path.append(\"../src\")\n",
    "from artstat import util\n",
    "import numpy as np"
   ]
  },
  {
   "cell_type": "code",
   "execution_count": 2,
   "metadata": {},
   "outputs": [
    {
     "data": {
      "text/plain": [
       "<module 'artstat.util' from '../src/artstat/util.py'>"
      ]
     },
     "execution_count": 2,
     "metadata": {},
     "output_type": "execute_result"
    }
   ],
   "source": [
    "import imp\n",
    "imp.reload(util)"
   ]
  },
  {
   "cell_type": "code",
   "execution_count": 3,
   "metadata": {},
   "outputs": [],
   "source": [
    "datadir = \"/home/pmilovanov/hg/my/data/gallery-pr/all\"\n",
    "\n",
    "path_train = os.path.join(datadir, \"train\")\n",
    "path_test = os.path.join(datadir, \"test\")\n",
    "\n",
    "glove = \"/home/pmilovanov/data/glove/glove.840B.300d.txt\""
   ]
  },
  {
   "cell_type": "code",
   "execution_count": 4,
   "metadata": {},
   "outputs": [],
   "source": [
    "words, vocab = util.load_vocab(\"../vocab.txt\", 10000)"
   ]
  },
  {
   "cell_type": "code",
   "execution_count": 5,
   "metadata": {},
   "outputs": [],
   "source": [
    "emb_matrix = util.load_embeddings(vocab, 300, glove)"
   ]
  },
  {
   "cell_type": "code",
   "execution_count": 6,
   "metadata": {},
   "outputs": [
    {
     "name": "stdout",
     "output_type": "stream",
     "text": [
      "emb matrix shape (10001, 300)\n",
      "vocab len 10000\n"
     ]
    }
   ],
   "source": [
    "print(\"emb matrix shape\", emb_matrix.shape)\n",
    "print(\"vocab len\", len(vocab))\n"
   ]
  },
  {
   "cell_type": "code",
   "execution_count": 56,
   "metadata": {
    "scrolled": true
   },
   "outputs": [
    {
     "name": "stderr",
     "output_type": "stream",
     "text": [
      "  0%|          | 64/22860 [00:00<00:35, 639.60it/s]\n"
     ]
    }
   ],
   "source": [
    "imp.reload(util)\n",
    "\n",
    "seqlen = 128\n",
    "stride = 100\n",
    "X, Y, Xu, Yu = util.load_data_sequences(path_train, vocab, seqlen, stride, numfiles=100)\n",
    "\n"
   ]
  },
  {
   "cell_type": "code",
   "execution_count": 8,
   "metadata": {},
   "outputs": [],
   "source": [
    "input_x = K.Input((seqlen,), dtype=\"int32\", name=\"input_x\")\n",
    "input_xu = K.Input((seqlen,), dtype=\"float32\", name=\"input_xu\")\n",
    "input_y = K.Input((seqlen,), dtype=\"int32\", name=\"input_y\")\n",
    "input_yu = K.Input((seqlen,), dtype=\"float32\", name=\"input_yu\")\n",
    "\n",
    "reshaper_u  = K.layers.Reshape((seqlen,1))\n",
    "resh_xu = reshaper_u(input_xu)\n",
    "resh_yu = reshaper_u(input_yu)\n",
    "\n",
    "dim = emb_matrix.shape[1] + 1\n",
    "\n",
    "L_emb = K.layers.Embedding(emb_matrix.shape[0], \n",
    "                           emb_matrix.shape[1], \n",
    "                           input_length=seqlen, \n",
    "                           trainable=False,\n",
    "                           weights=[emb_matrix],\n",
    "                           name=\"embedding\")\n"
   ]
  },
  {
   "cell_type": "code",
   "execution_count": 9,
   "metadata": {},
   "outputs": [],
   "source": [
    "Lemb = L_emb\n",
    "emb_x = Lemb(input_x)\n",
    "#emb_y = Lemb(input_y)"
   ]
  },
  {
   "cell_type": "code",
   "execution_count": 10,
   "metadata": {},
   "outputs": [],
   "source": [
    "Lconcat = K.layers.Concatenate()\n",
    "concat_x = Lconcat([emb_x, resh_xu])\n",
    "#concat_y = Lconcat([emb_y, resh_yu])"
   ]
  },
  {
   "cell_type": "code",
   "execution_count": 37,
   "metadata": {},
   "outputs": [],
   "source": [
    "gru = K.layers.CuDNNGRU(512, return_sequences=True)(concat_x)\n",
    "gru = K.layers.CuDNNGRU(512, return_sequences=True)(gru)\n",
    "gru = K.layers.CuDNNGRU(512, return_sequences=True)(gru)\n",
    "#lstm = K.layers.CuDNNLSTM(128, return_sequences=True)(lstm)\n",
    "#dense = K.layers.BatchNormalization()(lstm)\n",
    "#dense = K.layers.Dense(300, activation=\"relu\")(lstm)\n",
    "#dense = K.layers.BatchNormalization()(dense)\n",
    "#dense = K.layers.Dense(300, activation=\"relu\")(dense)\n",
    "#dense = K.layers.BatchNormalization()(dense)\n",
    "dense = K.layers.Dense(300, activation=\"relu\")(gru)\n",
    "dense = K.layers.BatchNormalization()(dense)\n",
    "dense = K.layers.Dense(len(vocab)+2, activation=\"softmax\")(dense)\n",
    "\n",
    "#dense = K.layers.BatchNormalization()(lstm)\n",
    "#lstm = K.layers.CuDNNLSTM(256, return_sequences=True)(lstm)\n",
    "#dense = K.layers.Dense(dim, activation=\"sigmoid\")(dense)\n",
    "#dense = K.layers.BatchNormalization()(dense)\n",
    "#dense = K.layers.Dense(dim, activation=\"sigmoid\")(dense)\n",
    "#dense = K.layers.BatchNormalization()(dense)\n",
    "#dense = K.layers.Dense(dim, activation=\"sigmoid\")(dense)\n",
    "#dense = K.layers.BatchNormalization()(dense)\n",
    "#dense = K.layers.Dense(dim, activation=\"sigmoid\")(dense)\n",
    "\n"
   ]
  },
  {
   "cell_type": "code",
   "execution_count": 38,
   "metadata": {},
   "outputs": [],
   "source": [
    "model = K.Model(inputs=[input_x, input_xu],\n",
    "               outputs=[dense])"
   ]
  },
  {
   "cell_type": "code",
   "execution_count": 39,
   "metadata": {},
   "outputs": [
    {
     "data": {
      "text/plain": [
       "(152720, 128)"
      ]
     },
     "execution_count": 39,
     "metadata": {},
     "output_type": "execute_result"
    }
   ],
   "source": [
    "Yu.shape"
   ]
  },
  {
   "cell_type": "code",
   "execution_count": 57,
   "metadata": {},
   "outputs": [],
   "source": [
    "batch_size=16\n",
    "\n",
    "import time\n",
    "\n",
    "def data_generator(X, Xu, Y, Yu, batch_size=batch_size, vocab_size=10000):\n",
    "    batches = int(math.floor(X.shape[0]/batch_size))\n",
    "    while True:\n",
    "        for i in range(batches):\n",
    "            t0 = time.time()\n",
    "            start, end = i*batch_size, (i+1)*batch_size\n",
    "            bX  = X[start:end]\n",
    "            bXu = Xu[start:end]\n",
    "            Yc = K.utils.to_categorical(Y[start:end], num_classes=vocab_size)\n",
    "            bY = np.concatenate((Yc,\n",
    "                            np.expand_dims(Yu[start:end], axis=2)), axis=2)\n",
    "            t1 = time.time() - t0\n",
    "            #print(\"time\", t1)\n",
    "            yield [[bX, bXu], [bY]]\n",
    "        \n",
    "datagen = data_generator(X, Xu, Y, Yu, vocab_size=len(vocab)+1)\n",
    "\n",
    "b = next(datagen)"
   ]
  },
  {
   "cell_type": "code",
   "execution_count": 58,
   "metadata": {},
   "outputs": [
    {
     "name": "stdout",
     "output_type": "stream",
     "text": [
      "2048 2048 20484096\n"
     ]
    }
   ],
   "source": [
    "b\n",
    "zY = np.argmax(b[1][0], axis=2)\n",
    "#print(b[0][0][0])\n",
    "#print(zY[0])\n",
    "\n",
    "print(b[0][0].size, b[0][1].size, b[1][0].size)"
   ]
  },
  {
   "cell_type": "code",
   "execution_count": 61,
   "metadata": {},
   "outputs": [],
   "source": [
    "opt = K.optimizers.Adam(lr=0.1)\n",
    "model.compile(opt, loss='categorical_crossentropy')"
   ]
  },
  {
   "cell_type": "code",
   "execution_count": null,
   "metadata": {
    "scrolled": false
   },
   "outputs": [
    {
     "name": "stdout",
     "output_type": "stream",
     "text": [
      "Epoch 1/5000\n",
      "37/37 [==============================] - 8s 228ms/step - loss: 6.6803\n",
      "Epoch 2/5000\n",
      "37/37 [==============================] - 8s 228ms/step - loss: 6.5376\n",
      "Epoch 3/5000\n",
      " 3/37 [=>............................] - ETA: 7s - loss: 6.5944"
     ]
    }
   ],
   "source": [
    "import math\n",
    "\n",
    "numbatches = int(math.floor(X.shape[0]/batch_size))\n",
    "model.fit_generator(datagen, steps_per_epoch=numbatches, epochs=5000,\n",
    "                   use_multiprocessing=False)\n"
   ]
  },
  {
   "cell_type": "code",
   "execution_count": 17,
   "metadata": {},
   "outputs": [],
   "source": [
    "predictor = K.Model([input_x, input_xu], [dense])\n",
    "predictor.compile(opt, loss=\"categorical_crossentropy\")"
   ]
  },
  {
   "cell_type": "code",
   "execution_count": 19,
   "metadata": {},
   "outputs": [
    {
     "ename": "IndexError",
     "evalue": "list index out of range",
     "output_type": "error",
     "traceback": [
      "\u001b[0;31m---------------------------------------------------------------------------\u001b[0m",
      "\u001b[0;31mIndexError\u001b[0m                                Traceback (most recent call last)",
      "\u001b[0;32m<ipython-input-19-956ddf60f844>\u001b[0m in \u001b[0;36m<module>\u001b[0;34m()\u001b[0m\n\u001b[1;32m     23\u001b[0m     \u001b[0mgen\u001b[0m\u001b[0;34m.\u001b[0m\u001b[0mappend\u001b[0m\u001b[0;34m(\u001b[0m\u001b[0midx\u001b[0m\u001b[0;34m)\u001b[0m\u001b[0;34m\u001b[0m\u001b[0m\n\u001b[1;32m     24\u001b[0m     \u001b[0mgenu\u001b[0m\u001b[0;34m.\u001b[0m\u001b[0mappend\u001b[0m\u001b[0;34m(\u001b[0m\u001b[0;36m0.0\u001b[0m\u001b[0;34m)\u001b[0m\u001b[0;34m\u001b[0m\u001b[0m\n\u001b[0;32m---> 25\u001b[0;31m     \u001b[0mresults\u001b[0m\u001b[0;34m.\u001b[0m\u001b[0mappend\u001b[0m\u001b[0;34m(\u001b[0m\u001b[0mwords\u001b[0m\u001b[0;34m[\u001b[0m\u001b[0midx\u001b[0m\u001b[0;34m]\u001b[0m\u001b[0;34m)\u001b[0m\u001b[0;34m\u001b[0m\u001b[0m\n\u001b[0m\u001b[1;32m     26\u001b[0m     \u001b[0msys\u001b[0m\u001b[0;34m.\u001b[0m\u001b[0mstdout\u001b[0m\u001b[0;34m.\u001b[0m\u001b[0mwrite\u001b[0m\u001b[0;34m(\u001b[0m\u001b[0mresults\u001b[0m\u001b[0;34m[\u001b[0m\u001b[0;34m-\u001b[0m\u001b[0;36m1\u001b[0m\u001b[0;34m]\u001b[0m \u001b[0;34m+\u001b[0m \u001b[0;34m\" \"\u001b[0m\u001b[0;34m)\u001b[0m\u001b[0;34m\u001b[0m\u001b[0m\n\u001b[1;32m     27\u001b[0m     \u001b[0msys\u001b[0m\u001b[0;34m.\u001b[0m\u001b[0mstdout\u001b[0m\u001b[0;34m.\u001b[0m\u001b[0mflush\u001b[0m\u001b[0;34m(\u001b[0m\u001b[0;34m)\u001b[0m\u001b[0;34m\u001b[0m\u001b[0m\n",
      "\u001b[0;31mIndexError\u001b[0m: list index out of range"
     ]
    }
   ],
   "source": [
    "i = 7\n",
    "gen = X[i].tolist()\n",
    "genu = Xu[i].tolist()\n",
    "\n",
    "tX = np.zeros((1, seqlen), dtype=\"int32\")\n",
    "tXu = np.zeros((1, seqlen), dtype=\"float32\")\n",
    "results = []\n",
    "\n",
    "UNK_IDX = len(words) + 1\n",
    "\n",
    "iterations = 32\n",
    "for j in range(iterations):\n",
    "    tX[0,:] = np.array(gen[-seqlen:], \"int32\")\n",
    "    tXu[0,:] = np.array(genu[-seqlen:], \"float32\")\n",
    "    \n",
    "    #print(tX)\n",
    "    z = predictor.predict([tX, tXu])\n",
    "    scores=z[0, -1]\n",
    "    idx = UNK_IDX\n",
    "    while idx == UNK_IDX:\n",
    "        idx = np.random.choice(range(len(vocab)+2), p=scores)\n",
    "\n",
    "    gen.append(idx)\n",
    "    genu.append(0.0)\n",
    "    results.append(words[idx])\n",
    "    sys.stdout.write(results[-1] + \" \")\n",
    "    sys.stdout.flush()\n",
    "#    print(\"%s \", results[-1])"
   ]
  },
  {
   "cell_type": "code",
   "execution_count": 66,
   "metadata": {},
   "outputs": [
    {
     "name": "stdout",
     "output_type": "stream",
     "text": [
      "1.3547268e-16 0.93638355\n"
     ]
    }
   ],
   "source": []
  },
  {
   "cell_type": "code",
   "execution_count": 92,
   "metadata": {},
   "outputs": [],
   "source": [
    "from sklearn import preprocessing"
   ]
  },
  {
   "cell_type": "code",
   "execution_count": 93,
   "metadata": {},
   "outputs": [],
   "source": [
    "norm_emb_matrix =  preprocessing.normalize(emb_matrix, axis=1)"
   ]
  },
  {
   "cell_type": "code",
   "execution_count": 94,
   "metadata": {},
   "outputs": [],
   "source": [
    "zn = preprocessing.normalize(z[0,:], axis=1)\n"
   ]
  },
  {
   "cell_type": "code",
   "execution_count": 95,
   "metadata": {},
   "outputs": [],
   "source": [
    "we = zn[-1, :300]"
   ]
  },
  {
   "cell_type": "code",
   "execution_count": 96,
   "metadata": {},
   "outputs": [],
   "source": [
    "scores = np.matmul(norm_emb_matrix, we)"
   ]
  },
  {
   "cell_type": "code",
   "execution_count": 97,
   "metadata": {},
   "outputs": [
    {
     "name": "stdout",
     "output_type": "stream",
     "text": [
      "23\n"
     ]
    }
   ],
   "source": [
    "idx = np.argmax(scores)\n",
    "print(idx)\n",
    "word = words[idx]"
   ]
  },
  {
   "cell_type": "code",
   "execution_count": 98,
   "metadata": {},
   "outputs": [
    {
     "data": {
      "text/plain": [
       "'at'"
      ]
     },
     "execution_count": 98,
     "metadata": {},
     "output_type": "execute_result"
    }
   ],
   "source": [
    "word"
   ]
  },
  {
   "cell_type": "code",
   "execution_count": 84,
   "metadata": {},
   "outputs": [
    {
     "data": {
      "text/plain": [
       "'.'"
      ]
     },
     "execution_count": 84,
     "metadata": {},
     "output_type": "execute_result"
    }
   ],
   "source": [
    "words[2]"
   ]
  },
  {
   "cell_type": "code",
   "execution_count": null,
   "metadata": {},
   "outputs": [],
   "source": []
  }
 ],
 "metadata": {
  "kernelspec": {
   "display_name": "venv",
   "language": "python",
   "name": "venv"
  },
  "language_info": {
   "codemirror_mode": {
    "name": "ipython",
    "version": 3
   },
   "file_extension": ".py",
   "mimetype": "text/x-python",
   "name": "python",
   "nbconvert_exporter": "python",
   "pygments_lexer": "ipython3",
   "version": "3.6.5"
  }
 },
 "nbformat": 4,
 "nbformat_minor": 1
}
