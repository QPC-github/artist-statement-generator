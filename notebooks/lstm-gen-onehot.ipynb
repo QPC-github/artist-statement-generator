{
 "cells": [
  {
   "cell_type": "code",
   "execution_count": 1,
   "metadata": {},
   "outputs": [
    {
     "name": "stderr",
     "output_type": "stream",
     "text": [
      "Using TensorFlow backend.\n"
     ]
    }
   ],
   "source": [
    "import keras as K\n",
    "import os.path\n",
    "\n",
    "import sys\n",
    "\n",
    "sys.path.append(\"../src\")\n",
    "from artstat import util\n",
    "import numpy as np"
   ]
  },
  {
   "cell_type": "code",
   "execution_count": 2,
   "metadata": {},
   "outputs": [
    {
     "data": {
      "text/plain": [
       "<module 'artstat.util' from '../src/artstat/util.py'>"
      ]
     },
     "execution_count": 2,
     "metadata": {},
     "output_type": "execute_result"
    }
   ],
   "source": [
    "import imp\n",
    "imp.reload(util)"
   ]
  },
  {
   "cell_type": "code",
   "execution_count": 3,
   "metadata": {},
   "outputs": [],
   "source": [
    "datadir = \"/home/pmilovanov/hg/my/data/gallery-pr/all\"\n",
    "\n",
    "path_train = os.path.join(datadir, \"train\")\n",
    "path_test = os.path.join(datadir, \"test\")\n",
    "\n",
    "glove = \"/home/pmilovanov/data/glove/glove.840B.300d.txt\""
   ]
  },
  {
   "cell_type": "code",
   "execution_count": 4,
   "metadata": {},
   "outputs": [],
   "source": [
    "words, vocab = util.load_vocab(\"../vocab.txt\", 10000)"
   ]
  },
  {
   "cell_type": "code",
   "execution_count": 5,
   "metadata": {},
   "outputs": [],
   "source": [
    "emb_matrix = util.load_embeddings(vocab, 300, glove)"
   ]
  },
  {
   "cell_type": "code",
   "execution_count": 6,
   "metadata": {},
   "outputs": [
    {
     "name": "stdout",
     "output_type": "stream",
     "text": [
      "emb matrix shape (10001, 300)\n",
      "vocab len 10000\n"
     ]
    }
   ],
   "source": [
    "print(\"emb matrix shape\", emb_matrix.shape)\n",
    "print(\"vocab len\", len(vocab))\n"
   ]
  },
  {
   "cell_type": "code",
   "execution_count": 10,
   "metadata": {
    "scrolled": true
   },
   "outputs": [
    {
     "name": "stderr",
     "output_type": "stream",
     "text": [
      "  0%|          | 73/22860 [00:00<00:31, 724.30it/s]\n"
     ]
    }
   ],
   "source": [
    "imp.reload(util)\n",
    "seqlen = 128\n",
    "X, Xu = util.load_data(path_train, vocab, pad=seqlen, numfiles=100)"
   ]
  },
  {
   "cell_type": "code",
   "execution_count": 25,
   "metadata": {},
   "outputs": [],
   "source": [
    "from keras.layers import Reshape, Embedding, CuDNNLSTM, BatchNormalization, Dense, Concatenate\n",
    "from keras import Model, Input\n",
    "import tensorflow as tf"
   ]
  },
  {
   "cell_type": "code",
   "execution_count": 59,
   "metadata": {
    "scrolled": true
   },
   "outputs": [
    {
     "name": "stdout",
     "output_type": "stream",
     "text": [
      "pp Tensor(\"strided_slice:0\", shape=(), dtype=int32)\n",
      "(3, 2, 5)\n",
      "[[[  0.   1.   2.   3.   4.]\n",
      "  [ 25.  26.  27.  28.  29.]]\n",
      "\n",
      " [[105. 106. 107. 108. 109.]\n",
      "  [130. 131. 132. 133. 134.]]\n",
      "\n",
      " [[210. 211. 212. 213. 214.]\n",
      "  [235. 236. 237. 238. 239.]]]\n"
     ]
    }
   ],
   "source": [
    "A = np.zeros((3, 10, 5))\n",
    "\n",
    "for i in range(3):\n",
    "    A[i,:,:] = np.reshape(np.array(range(50)), (10,5)) + i*100\n",
    "\n",
    "#print(A)\n",
    "    #A\n",
    "#var = K.variable\n",
    "\n",
    "indices = np.array([\n",
    "    [[0,0], [0,5]],\n",
    "    [[1,1], [1,6]],\n",
    "    [[2,2], [2,7]]\n",
    "], dtype=\"int32\")\n",
    "\n",
    "#indices = np.array([0,5\n",
    "#], dtype=\"int32\")\n",
    "\n",
    "v = K.backend.variable(A)\n",
    "k = K.backend.variable(indices, dtype=\"int32\")\n",
    "\n",
    "pp = tf.shape(v)[0]\n",
    "print(\"pp\",pp)\n",
    "\n",
    "g = tf.gather_nd(A, indices)\n",
    "\n",
    "q = K.backend.eval(g)\n",
    "print(q.shape)\n",
    "print(q)"
   ]
  },
  {
   "cell_type": "code",
   "execution_count": 88,
   "metadata": {},
   "outputs": [
    {
     "name": "stdout",
     "output_type": "stream",
     "text": [
      "<class 'tensorflow.python.framework.ops.Tensor'>\n",
      "(10, 5)\n",
      "(4,)\n",
      "[[[  0.   1.   2.   3.   4.]\n",
      "  [  5.   6.   7.   8.   9.]\n",
      "  [ 10.  11.  12.  13.  14.]\n",
      "  [  0.   1.   2.   3.   4.]]\n",
      "\n",
      " [[105. 106. 107. 108. 109.]\n",
      "  [110. 111. 112. 113. 114.]\n",
      "  [115. 116. 117. 118. 119.]\n",
      "  [105. 106. 107. 108. 109.]]\n",
      "\n",
      " [[210. 211. 212. 213. 214.]\n",
      "  [215. 216. 217. 218. 219.]\n",
      "  [220. 221. 222. 223. 224.]\n",
      "  [210. 211. 212. 213. 214.]]]\n"
     ]
    }
   ],
   "source": [
    "q = np.array([\n",
    "    [0,1,2,0],\n",
    "    [1,2,3,1],\n",
    "    [2,3,4,2]\n",
    "])\n",
    "\n",
    "qv = K.backend.variable(q, dtype=\"int32\")\n",
    "\n",
    "def mygather(e):\n",
    "    batch, indices = e\n",
    "    print(type(batch))\n",
    "    print(batch.shape)\n",
    "    print(indices.shape)\n",
    "    #i2 = tf.expand_dims(indices)\n",
    "    #print(i2.shape)\n",
    "    return (tf.gather(batch, indices),0)\n",
    "\n",
    "r = tf.map_fn(mygather, (v, qv))\n",
    "\n",
    "print(K.backend.eval(r[0]))"
   ]
  },
  {
   "cell_type": "code",
   "execution_count": 91,
   "metadata": {},
   "outputs": [],
   "source": [
    "def sampling_layer(x):\n",
    "    data, sample_indices = x\n",
    "    def gather_per_batch(e):\n",
    "        batch, indices = e\n",
    "        return (tf.gather(batch, indices),0)\n",
    "    return tf.map_fn(gather_per_batch, (data, sample_indices))[0]\n"
   ]
  },
  {
   "cell_type": "code",
   "execution_count": 92,
   "metadata": {},
   "outputs": [
    {
     "data": {
      "text/plain": [
       "array([[[  0.,   1.,   2.,   3.,   4.],\n",
       "        [  5.,   6.,   7.,   8.,   9.],\n",
       "        [ 10.,  11.,  12.,  13.,  14.],\n",
       "        [  0.,   1.,   2.,   3.,   4.]],\n",
       "\n",
       "       [[105., 106., 107., 108., 109.],\n",
       "        [110., 111., 112., 113., 114.],\n",
       "        [115., 116., 117., 118., 119.],\n",
       "        [105., 106., 107., 108., 109.]],\n",
       "\n",
       "       [[210., 211., 212., 213., 214.],\n",
       "        [215., 216., 217., 218., 219.],\n",
       "        [220., 221., 222., 223., 224.],\n",
       "        [210., 211., 212., 213., 214.]]], dtype=float32)"
      ]
     },
     "execution_count": 92,
     "metadata": {},
     "output_type": "execute_result"
    }
   ],
   "source": [
    "z = sampling_layer([v, qv])\n",
    "\n",
    "K.backend.eval(z)"
   ]
  },
  {
   "cell_type": "code",
   "execution_count": 54,
   "metadata": {},
   "outputs": [],
   "source": [
    "from keras.layers import Reshape, Embedding, CuDNNLSTM, BatchNormalization, Dense, Concatenate\n",
    "from keras import Model, Input\n",
    "\n",
    "def make_model(*, seqlen, sample_size, emb_matrix):    \n",
    "    dim = emb_matrix.shape[1] + 1\n",
    "    \n",
    "    input_x = Input((seqlen,), dtype=\"int32\", name=\"input_x\")\n",
    "    input_xu = Input((seqlen,), dtype=\"float32\", name=\"input_xu\")\n",
    "    input_sample_indices = Input((sample_size,), dtype=\"int32\", name=\"input_sample_indices\")\n",
    "\n",
    "    resh_xu  = Reshape((seqlen,1), name=\"resh_xu\")(input_xu)\n",
    "\n",
    "    emb_layer = Embedding(*emb_matrix.shape, input_length=seqlen, \n",
    "                          trainable=False, weights=[emb_matrix], \n",
    "                          name=\"embedding\")\n",
    "    emb_x = emb_layer(input_x)\n",
    "    concat_x = Concatenate(name=\"concat_x\")([emb_x, resh_xu])\n",
    "        \n",
    "    yhat = CuDNNLSTM(128, return_sequences=True, name='rnn1')(concat_x)\n",
    "    yhat = BatchNormalization()(yhat)\n",
    "    yhat = CuDNNLSTM(128, return_sequences=False, name='rnn2')(yhat)\n",
    "\n",
    "    yhat = BatchNormalization()(yhat)\n",
    "    yhat = Dense(300, activation=\"relu\")(yhat)\n",
    "    yhat = BatchNormalization()(yhat)\n",
    "    # len(vocab)+2 is because the zeroth word is for padding and last word is for \"unknown\"\n",
    "    yhat = Dense(len(vocab)+2, activation=\"linear\")(yhat)\n",
    "    \n",
    "    print(yhat.shape)"
   ]
  },
  {
   "cell_type": "code",
   "execution_count": 55,
   "metadata": {},
   "outputs": [
    {
     "name": "stdout",
     "output_type": "stream",
     "text": [
      "(?, 10002)\n"
     ]
    }
   ],
   "source": [
    "make_model(seqlen=seqlen, sample_size=5, emb_matrix=emb_matrix)"
   ]
  },
  {
   "cell_type": "code",
   "execution_count": 37,
   "metadata": {},
   "outputs": [],
   "source": [
    "\n",
    "\n",
    "yhat = K.layers.CuDNNLSTM(128, return_sequences=True, name='rnn1')(concat_x)\n",
    "yhat = K.layers.BatchNormalization()(yhat)\n",
    "yhat = K.layers.CuDNNLSTM(128, return_sequences=False, name='rnn2')(yhat)\n",
    "\n",
    "yhat = K.layers.BatchNormalization()(yhat)\n",
    "yhat = K.layers.Dense(300, activation=\"relu\")(yhat)\n",
    "yhat = K.layers.BatchNormalization()(yhat)\n",
    "dense = K.layers.Dense(len(vocab)+2, activation=\"softmax\")(dense)\n",
    "\n",
    "#dense = K.layers.BatchNormalization()(lstm)\n",
    "#lstm = K.layers.CuDNNLSTM(256, return_sequences=True)(lstm)\n",
    "#dense = K.layers.Dense(dim, activation=\"sigmoid\")(dense)\n",
    "#dense = K.layers.BatchNormalization()(dense)\n",
    "#dense = K.layers.Dense(dim, activation=\"sigmoid\")(dense)\n",
    "#dense = K.layers.BatchNormalization()(dense)\n",
    "#dense = K.layers.Dense(dim, activation=\"sigmoid\")(dense)\n",
    "#dense = K.layers.BatchNormalization()(dense)\n",
    "#dense = K.layers.Dense(dim, activation=\"sigmoid\")(dense)\n",
    "\n"
   ]
  },
  {
   "cell_type": "code",
   "execution_count": 38,
   "metadata": {},
   "outputs": [],
   "source": [
    "model = K.Model(inputs=[input_x, input_xu],\n",
    "               outputs=[dense])"
   ]
  },
  {
   "cell_type": "code",
   "execution_count": 39,
   "metadata": {},
   "outputs": [
    {
     "data": {
      "text/plain": [
       "(152720, 128)"
      ]
     },
     "execution_count": 39,
     "metadata": {},
     "output_type": "execute_result"
    }
   ],
   "source": [
    "Yu.shape"
   ]
  },
  {
   "cell_type": "code",
   "execution_count": 57,
   "metadata": {},
   "outputs": [],
   "source": [
    "batch_size=16\n",
    "\n",
    "import time\n",
    "\n",
    "def data_generator(X, Xu, Y, Yu, batch_size=batch_size, vocab_size=10000):\n",
    "    batches = int(math.floor(X.shape[0]/batch_size))\n",
    "    while True:\n",
    "        for i in range(batches):\n",
    "            t0 = time.time()\n",
    "            start, end = i*batch_size, (i+1)*batch_size\n",
    "            bX  = X[start:end]\n",
    "            bXu = Xu[start:end]\n",
    "            Yc = K.utils.to_categorical(Y[start:end], num_classes=vocab_size)\n",
    "            bY = np.concatenate((Yc,\n",
    "                            np.expand_dims(Yu[start:end], axis=2)), axis=2)\n",
    "            t1 = time.time() - t0\n",
    "            #print(\"time\", t1)\n",
    "            yield [[bX, bXu], [bY]]\n",
    "        \n",
    "datagen = data_generator(X, Xu, Y, Yu, vocab_size=len(vocab)+1)\n",
    "\n",
    "b = next(datagen)"
   ]
  },
  {
   "cell_type": "code",
   "execution_count": 58,
   "metadata": {},
   "outputs": [
    {
     "name": "stdout",
     "output_type": "stream",
     "text": [
      "2048 2048 20484096\n"
     ]
    }
   ],
   "source": [
    "b\n",
    "zY = np.argmax(b[1][0], axis=2)\n",
    "#print(b[0][0][0])\n",
    "#print(zY[0])\n",
    "\n",
    "print(b[0][0].size, b[0][1].size, b[1][0].size)"
   ]
  },
  {
   "cell_type": "code",
   "execution_count": 61,
   "metadata": {},
   "outputs": [],
   "source": [
    "opt = K.optimizers.Adam(lr=0.1)\n",
    "model.compile(opt, loss='categorical_crossentropy')"
   ]
  },
  {
   "cell_type": "code",
   "execution_count": null,
   "metadata": {
    "scrolled": false
   },
   "outputs": [
    {
     "name": "stdout",
     "output_type": "stream",
     "text": [
      "Epoch 1/5000\n",
      "37/37 [==============================] - 8s 228ms/step - loss: 6.6803\n",
      "Epoch 2/5000\n",
      "37/37 [==============================] - 8s 228ms/step - loss: 6.5376\n",
      "Epoch 3/5000\n",
      " 3/37 [=>............................] - ETA: 7s - loss: 6.5944"
     ]
    }
   ],
   "source": [
    "import math\n",
    "\n",
    "numbatches = int(math.floor(X.shape[0]/batch_size))\n",
    "model.fit_generator(datagen, steps_per_epoch=numbatches, epochs=5000,\n",
    "                   use_multiprocessing=False)\n"
   ]
  },
  {
   "cell_type": "code",
   "execution_count": 17,
   "metadata": {},
   "outputs": [],
   "source": [
    "predictor = K.Model([input_x, input_xu], [dense])\n",
    "predictor.compile(opt, loss=\"categorical_crossentropy\")"
   ]
  },
  {
   "cell_type": "code",
   "execution_count": 19,
   "metadata": {},
   "outputs": [
    {
     "ename": "IndexError",
     "evalue": "list index out of range",
     "output_type": "error",
     "traceback": [
      "\u001b[0;31m---------------------------------------------------------------------------\u001b[0m",
      "\u001b[0;31mIndexError\u001b[0m                                Traceback (most recent call last)",
      "\u001b[0;32m<ipython-input-19-956ddf60f844>\u001b[0m in \u001b[0;36m<module>\u001b[0;34m()\u001b[0m\n\u001b[1;32m     23\u001b[0m     \u001b[0mgen\u001b[0m\u001b[0;34m.\u001b[0m\u001b[0mappend\u001b[0m\u001b[0;34m(\u001b[0m\u001b[0midx\u001b[0m\u001b[0;34m)\u001b[0m\u001b[0;34m\u001b[0m\u001b[0m\n\u001b[1;32m     24\u001b[0m     \u001b[0mgenu\u001b[0m\u001b[0;34m.\u001b[0m\u001b[0mappend\u001b[0m\u001b[0;34m(\u001b[0m\u001b[0;36m0.0\u001b[0m\u001b[0;34m)\u001b[0m\u001b[0;34m\u001b[0m\u001b[0m\n\u001b[0;32m---> 25\u001b[0;31m     \u001b[0mresults\u001b[0m\u001b[0;34m.\u001b[0m\u001b[0mappend\u001b[0m\u001b[0;34m(\u001b[0m\u001b[0mwords\u001b[0m\u001b[0;34m[\u001b[0m\u001b[0midx\u001b[0m\u001b[0;34m]\u001b[0m\u001b[0;34m)\u001b[0m\u001b[0;34m\u001b[0m\u001b[0m\n\u001b[0m\u001b[1;32m     26\u001b[0m     \u001b[0msys\u001b[0m\u001b[0;34m.\u001b[0m\u001b[0mstdout\u001b[0m\u001b[0;34m.\u001b[0m\u001b[0mwrite\u001b[0m\u001b[0;34m(\u001b[0m\u001b[0mresults\u001b[0m\u001b[0;34m[\u001b[0m\u001b[0;34m-\u001b[0m\u001b[0;36m1\u001b[0m\u001b[0;34m]\u001b[0m \u001b[0;34m+\u001b[0m \u001b[0;34m\" \"\u001b[0m\u001b[0;34m)\u001b[0m\u001b[0;34m\u001b[0m\u001b[0m\n\u001b[1;32m     27\u001b[0m     \u001b[0msys\u001b[0m\u001b[0;34m.\u001b[0m\u001b[0mstdout\u001b[0m\u001b[0;34m.\u001b[0m\u001b[0mflush\u001b[0m\u001b[0;34m(\u001b[0m\u001b[0;34m)\u001b[0m\u001b[0;34m\u001b[0m\u001b[0m\n",
      "\u001b[0;31mIndexError\u001b[0m: list index out of range"
     ]
    }
   ],
   "source": [
    "i = 7\n",
    "gen = X[i].tolist()\n",
    "genu = Xu[i].tolist()\n",
    "\n",
    "tX = np.zeros((1, seqlen), dtype=\"int32\")\n",
    "tXu = np.zeros((1, seqlen), dtype=\"float32\")\n",
    "results = []\n",
    "\n",
    "UNK_IDX = len(words) + 1\n",
    "\n",
    "iterations = 32\n",
    "for j in range(iterations):\n",
    "    tX[0,:] = np.array(gen[-seqlen:], \"int32\")\n",
    "    tXu[0,:] = np.array(genu[-seqlen:], \"float32\")\n",
    "    \n",
    "    #print(tX)\n",
    "    z = predictor.predict([tX, tXu])\n",
    "    scores=z[0, -1]\n",
    "    idx = UNK_IDX\n",
    "    while idx == UNK_IDX:\n",
    "        idx = np.random.choice(range(len(vocab)+2), p=scores)\n",
    "\n",
    "    gen.append(idx)\n",
    "    genu.append(0.0)\n",
    "    results.append(words[idx])\n",
    "    sys.stdout.write(results[-1] + \" \")\n",
    "    sys.stdout.flush()\n",
    "#    print(\"%s \", results[-1])"
   ]
  },
  {
   "cell_type": "code",
   "execution_count": 66,
   "metadata": {},
   "outputs": [
    {
     "name": "stdout",
     "output_type": "stream",
     "text": [
      "1.3547268e-16 0.93638355\n"
     ]
    }
   ],
   "source": []
  },
  {
   "cell_type": "code",
   "execution_count": 92,
   "metadata": {},
   "outputs": [],
   "source": [
    "from sklearn import preprocessing"
   ]
  },
  {
   "cell_type": "code",
   "execution_count": 93,
   "metadata": {},
   "outputs": [],
   "source": [
    "norm_emb_matrix =  preprocessing.normalize(emb_matrix, axis=1)"
   ]
  },
  {
   "cell_type": "code",
   "execution_count": 94,
   "metadata": {},
   "outputs": [],
   "source": [
    "zn = preprocessing.normalize(z[0,:], axis=1)\n"
   ]
  },
  {
   "cell_type": "code",
   "execution_count": 95,
   "metadata": {},
   "outputs": [],
   "source": [
    "we = zn[-1, :300]"
   ]
  },
  {
   "cell_type": "code",
   "execution_count": 96,
   "metadata": {},
   "outputs": [],
   "source": [
    "scores = np.matmul(norm_emb_matrix, we)"
   ]
  },
  {
   "cell_type": "code",
   "execution_count": 97,
   "metadata": {},
   "outputs": [
    {
     "name": "stdout",
     "output_type": "stream",
     "text": [
      "23\n"
     ]
    }
   ],
   "source": [
    "idx = np.argmax(scores)\n",
    "print(idx)\n",
    "word = words[idx]"
   ]
  },
  {
   "cell_type": "code",
   "execution_count": 98,
   "metadata": {},
   "outputs": [
    {
     "data": {
      "text/plain": [
       "'at'"
      ]
     },
     "execution_count": 98,
     "metadata": {},
     "output_type": "execute_result"
    }
   ],
   "source": [
    "word"
   ]
  },
  {
   "cell_type": "code",
   "execution_count": 84,
   "metadata": {},
   "outputs": [
    {
     "data": {
      "text/plain": [
       "'.'"
      ]
     },
     "execution_count": 84,
     "metadata": {},
     "output_type": "execute_result"
    }
   ],
   "source": [
    "words[2]"
   ]
  },
  {
   "cell_type": "code",
   "execution_count": null,
   "metadata": {},
   "outputs": [],
   "source": []
  }
 ],
 "metadata": {
  "kernelspec": {
   "display_name": "venv",
   "language": "python",
   "name": "venv"
  },
  "language_info": {
   "codemirror_mode": {
    "name": "ipython",
    "version": 3
   },
   "file_extension": ".py",
   "mimetype": "text/x-python",
   "name": "python",
   "nbconvert_exporter": "python",
   "pygments_lexer": "ipython3",
   "version": "3.6.5"
  }
 },
 "nbformat": 4,
 "nbformat_minor": 1
}
