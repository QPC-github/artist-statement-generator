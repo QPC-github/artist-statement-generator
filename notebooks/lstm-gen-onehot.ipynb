{
 "cells": [
  {
   "cell_type": "markdown",
   "metadata": {},
   "source": [
    "### Hyperparameters"
   ]
  },
  {
   "cell_type": "code",
   "execution_count": 98,
   "metadata": {},
   "outputs": [],
   "source": [
    "# Hyperparameters\n",
    "\n",
    "seqlen = 64\n",
    "#batch_size = 1024\n",
    "sample_size = 10"
   ]
  },
  {
   "cell_type": "markdown",
   "metadata": {},
   "source": [
    "### Code"
   ]
  },
  {
   "cell_type": "code",
   "execution_count": 2,
   "metadata": {},
   "outputs": [
    {
     "name": "stderr",
     "output_type": "stream",
     "text": [
      "Using TensorFlow backend.\n"
     ]
    }
   ],
   "source": [
    "import keras as K\n",
    "import os.path\n",
    "\n",
    "import sys, imp\n",
    "\n",
    "sys.path.append(\"../src\")\n",
    "from artstat import util\n",
    "import numpy as np"
   ]
  },
  {
   "cell_type": "code",
   "execution_count": 102,
   "metadata": {},
   "outputs": [],
   "source": [
    "datadir = \"/home/pmilovanov/hg/my/data/gallery-pr/all\"\n",
    "\n",
    "path_train = os.path.join(datadir, \"train\")\n",
    "path_test = os.path.join(datadir, \"test\")\n",
    "\n",
    "#glove = \"/home/pmilovanov/data/glove/glove.840B.300d.txt\"\n",
    "glove = \"/home/pmilovanov/data/glove/glove.6B.100d.txt\"\n",
    "#glove = \"/home/pmilovanov/data/glove/glove.6B.100d.txt\"\n",
    "#glove = \"/home/pmilovanov/data/glove/glove.6B.300d.txt\"\n",
    "glove_dims = 100"
   ]
  },
  {
   "cell_type": "code",
   "execution_count": 103,
   "metadata": {},
   "outputs": [],
   "source": [
    "#vocab_file = \"../vocab.txt\"\n",
    "vocab_file = \"../vocab_lower.txt\"\n",
    "\n",
    "words, vocab = util.load_vocab(vocab_file, 10000)"
   ]
  },
  {
   "cell_type": "code",
   "execution_count": 104,
   "metadata": {},
   "outputs": [
    {
     "name": "stdout",
     "output_type": "stream",
     "text": [
      "10000\n",
      "(10001, 100)\n"
     ]
    }
   ],
   "source": [
    "emb_matrix = util.load_embeddings(vocab, glove_dims, glove)\n",
    "\n",
    "print(len(vocab))\n",
    "print(emb_matrix.shape)"
   ]
  },
  {
   "cell_type": "code",
   "execution_count": 105,
   "metadata": {
    "scrolled": true
   },
   "outputs": [
    {
     "name": "stderr",
     "output_type": "stream",
     "text": [
      " 15%|#5        | 3503/22860 [00:07<00:39, 489.78it/s]\n"
     ]
    },
    {
     "ename": "KeyboardInterrupt",
     "evalue": "",
     "output_type": "error",
     "traceback": [
      "\u001b[0;31m---------------------------------------------------------------------------\u001b[0m",
      "\u001b[0;31mUnicodeEncodeError\u001b[0m                        Traceback (most recent call last)",
      "\u001b[0;32m/usr/local/lib/python3.6/dist-packages/unidecode/__init__.py\u001b[0m in \u001b[0;36munidecode_expect_ascii\u001b[0;34m(string)\u001b[0m\n\u001b[1;32m     47\u001b[0m     \u001b[0;32mtry\u001b[0m\u001b[0;34m:\u001b[0m\u001b[0;34m\u001b[0m\u001b[0m\n\u001b[0;32m---> 48\u001b[0;31m         \u001b[0mbytestring\u001b[0m \u001b[0;34m=\u001b[0m \u001b[0mstring\u001b[0m\u001b[0;34m.\u001b[0m\u001b[0mencode\u001b[0m\u001b[0;34m(\u001b[0m\u001b[0;34m'ASCII'\u001b[0m\u001b[0;34m)\u001b[0m\u001b[0;34m\u001b[0m\u001b[0m\n\u001b[0m\u001b[1;32m     49\u001b[0m     \u001b[0;32mexcept\u001b[0m \u001b[0mUnicodeEncodeError\u001b[0m\u001b[0;34m:\u001b[0m\u001b[0;34m\u001b[0m\u001b[0m\n",
      "\u001b[0;31mUnicodeEncodeError\u001b[0m: 'ascii' codec can't encode character '\\xed' in position 182: ordinal not in range(128)",
      "\nDuring handling of the above exception, another exception occurred:\n",
      "\u001b[0;31mKeyboardInterrupt\u001b[0m                         Traceback (most recent call last)",
      "\u001b[0;32m<ipython-input-105-bc871a8529b6>\u001b[0m in \u001b[0;36m<module>\u001b[0;34m()\u001b[0m\n\u001b[1;32m      1\u001b[0m \u001b[0mimp\u001b[0m\u001b[0;34m.\u001b[0m\u001b[0mreload\u001b[0m\u001b[0;34m(\u001b[0m\u001b[0mutil\u001b[0m\u001b[0;34m)\u001b[0m\u001b[0;34m\u001b[0m\u001b[0m\n\u001b[0;32m----> 2\u001b[0;31m \u001b[0mX\u001b[0m\u001b[0;34m,\u001b[0m \u001b[0mXu\u001b[0m \u001b[0;34m=\u001b[0m \u001b[0mutil\u001b[0m\u001b[0;34m.\u001b[0m\u001b[0mload_data\u001b[0m\u001b[0;34m(\u001b[0m\u001b[0mpath_train\u001b[0m\u001b[0;34m,\u001b[0m \u001b[0mvocab\u001b[0m\u001b[0;34m,\u001b[0m \u001b[0mpad\u001b[0m\u001b[0;34m=\u001b[0m\u001b[0mseqlen\u001b[0m\u001b[0;34m,\u001b[0m \u001b[0mlowercase\u001b[0m\u001b[0;34m=\u001b[0m\u001b[0;32mTrue\u001b[0m\u001b[0;34m)\u001b[0m\u001b[0;34m\u001b[0m\u001b[0m\n\u001b[0m",
      "\u001b[0;32m~/hg/dl/artstat/src/artstat/util.py\u001b[0m in \u001b[0;36mload_data\u001b[0;34m(path, vocab, pad, numfiles, lowercase)\u001b[0m\n\u001b[1;32m    194\u001b[0m         \u001b[0;32mwith\u001b[0m \u001b[0mopen\u001b[0m\u001b[0;34m(\u001b[0m\u001b[0mfname\u001b[0m\u001b[0;34m,\u001b[0m \u001b[0;34m\"r\"\u001b[0m\u001b[0;34m)\u001b[0m \u001b[0;32mas\u001b[0m \u001b[0mf\u001b[0m\u001b[0;34m:\u001b[0m\u001b[0;34m\u001b[0m\u001b[0m\n\u001b[1;32m    195\u001b[0m             \u001b[0mtext\u001b[0m \u001b[0;34m=\u001b[0m \u001b[0mf\u001b[0m\u001b[0;34m.\u001b[0m\u001b[0mread\u001b[0m\u001b[0;34m(\u001b[0m\u001b[0;34m)\u001b[0m\u001b[0;34m\u001b[0m\u001b[0m\n\u001b[0;32m--> 196\u001b[0;31m             \u001b[0mseq\u001b[0m\u001b[0;34m,\u001b[0m \u001b[0maux\u001b[0m \u001b[0;34m=\u001b[0m \u001b[0mt2s\u001b[0m\u001b[0;34m.\u001b[0m\u001b[0mtoseq\u001b[0m\u001b[0;34m(\u001b[0m\u001b[0mtext\u001b[0m\u001b[0;34m)\u001b[0m\u001b[0;34m\u001b[0m\u001b[0m\n\u001b[0m\u001b[1;32m    197\u001b[0m             \u001b[0mX\u001b[0m\u001b[0;34m.\u001b[0m\u001b[0mextend\u001b[0m\u001b[0;34m(\u001b[0m\u001b[0mseq\u001b[0m\u001b[0;34m)\u001b[0m\u001b[0;34m\u001b[0m\u001b[0m\n\u001b[1;32m    198\u001b[0m             \u001b[0mXu\u001b[0m\u001b[0;34m.\u001b[0m\u001b[0mextend\u001b[0m\u001b[0;34m(\u001b[0m\u001b[0maux\u001b[0m\u001b[0;34m)\u001b[0m\u001b[0;34m\u001b[0m\u001b[0m\n",
      "\u001b[0;32m~/hg/dl/artstat/src/artstat/util.py\u001b[0m in \u001b[0;36mtoseq\u001b[0;34m(self, text, notfound)\u001b[0m\n\u001b[1;32m    122\u001b[0m         \u001b[0mseq\u001b[0m \u001b[0;34m=\u001b[0m \u001b[0;34m[\u001b[0m\u001b[0;34m]\u001b[0m\u001b[0;34m\u001b[0m\u001b[0m\n\u001b[1;32m    123\u001b[0m         \u001b[0maux_bits\u001b[0m \u001b[0;34m=\u001b[0m \u001b[0;34m[\u001b[0m\u001b[0;34m]\u001b[0m\u001b[0;34m\u001b[0m\u001b[0m\n\u001b[0;32m--> 124\u001b[0;31m         \u001b[0;32mfor\u001b[0m \u001b[0mword\u001b[0m \u001b[0;32min\u001b[0m \u001b[0mself\u001b[0m\u001b[0;34m.\u001b[0m\u001b[0mtokenizer\u001b[0m\u001b[0;34m.\u001b[0m\u001b[0mtokenize\u001b[0m\u001b[0;34m(\u001b[0m\u001b[0mtext\u001b[0m\u001b[0;34m)\u001b[0m\u001b[0;34m:\u001b[0m\u001b[0;34m\u001b[0m\u001b[0m\n\u001b[0m\u001b[1;32m    125\u001b[0m             \u001b[0mid\u001b[0m\u001b[0;34m,\u001b[0m \u001b[0maux\u001b[0m \u001b[0;34m=\u001b[0m \u001b[0mself\u001b[0m\u001b[0;34m.\u001b[0m\u001b[0mtoken2vec\u001b[0m\u001b[0;34m(\u001b[0m\u001b[0mword\u001b[0m\u001b[0;34m)\u001b[0m\u001b[0;34m\u001b[0m\u001b[0m\n\u001b[1;32m    126\u001b[0m             \u001b[0mseq\u001b[0m\u001b[0;34m.\u001b[0m\u001b[0mappend\u001b[0m\u001b[0;34m(\u001b[0m\u001b[0mid\u001b[0m\u001b[0;34m)\u001b[0m\u001b[0;34m\u001b[0m\u001b[0m\n",
      "\u001b[0;32m~/hg/dl/artstat/src/artstat/util.py\u001b[0m in \u001b[0;36mtokenize\u001b[0;34m(self, text)\u001b[0m\n\u001b[1;32m     77\u001b[0m     \u001b[0;32mdef\u001b[0m \u001b[0mtokenize\u001b[0m\u001b[0;34m(\u001b[0m\u001b[0mself\u001b[0m\u001b[0;34m,\u001b[0m \u001b[0mtext\u001b[0m\u001b[0;34m)\u001b[0m\u001b[0;34m:\u001b[0m\u001b[0;34m\u001b[0m\u001b[0m\n\u001b[1;32m     78\u001b[0m         \u001b[0;32mif\u001b[0m \u001b[0mself\u001b[0m\u001b[0;34m.\u001b[0m\u001b[0municode_to_ascii\u001b[0m\u001b[0;34m:\u001b[0m\u001b[0;34m\u001b[0m\u001b[0m\n\u001b[0;32m---> 79\u001b[0;31m             \u001b[0mtext\u001b[0m \u001b[0;34m=\u001b[0m \u001b[0munidecode\u001b[0m\u001b[0;34m(\u001b[0m\u001b[0mtext\u001b[0m\u001b[0;34m)\u001b[0m\u001b[0;34m\u001b[0m\u001b[0m\n\u001b[0m\u001b[1;32m     80\u001b[0m         \u001b[0;32mif\u001b[0m \u001b[0mself\u001b[0m\u001b[0;34m.\u001b[0m\u001b[0mpunct_one_token_per_char\u001b[0m\u001b[0;34m:\u001b[0m\u001b[0;34m\u001b[0m\u001b[0m\n\u001b[1;32m     81\u001b[0m             \u001b[0mtext\u001b[0m \u001b[0;34m=\u001b[0m \u001b[0mre\u001b[0m\u001b[0;34m.\u001b[0m\u001b[0msub\u001b[0m\u001b[0;34m(\u001b[0m\u001b[0mself\u001b[0m\u001b[0;34m.\u001b[0m\u001b[0m_re_punct\u001b[0m\u001b[0;34m,\u001b[0m \u001b[0;34m\"\\\\1 \"\u001b[0m\u001b[0;34m,\u001b[0m \u001b[0mtext\u001b[0m\u001b[0;34m)\u001b[0m\u001b[0;34m\u001b[0m\u001b[0m\n",
      "\u001b[0;32m/usr/local/lib/python3.6/dist-packages/unidecode/__init__.py\u001b[0m in \u001b[0;36munidecode_expect_ascii\u001b[0;34m(string)\u001b[0m\n\u001b[1;32m     48\u001b[0m         \u001b[0mbytestring\u001b[0m \u001b[0;34m=\u001b[0m \u001b[0mstring\u001b[0m\u001b[0;34m.\u001b[0m\u001b[0mencode\u001b[0m\u001b[0;34m(\u001b[0m\u001b[0;34m'ASCII'\u001b[0m\u001b[0;34m)\u001b[0m\u001b[0;34m\u001b[0m\u001b[0m\n\u001b[1;32m     49\u001b[0m     \u001b[0;32mexcept\u001b[0m \u001b[0mUnicodeEncodeError\u001b[0m\u001b[0;34m:\u001b[0m\u001b[0;34m\u001b[0m\u001b[0m\n\u001b[0;32m---> 50\u001b[0;31m         \u001b[0;32mreturn\u001b[0m \u001b[0m_unidecode\u001b[0m\u001b[0;34m(\u001b[0m\u001b[0mstring\u001b[0m\u001b[0;34m)\u001b[0m\u001b[0;34m\u001b[0m\u001b[0m\n\u001b[0m\u001b[1;32m     51\u001b[0m     \u001b[0;32mif\u001b[0m \u001b[0mversion_info\u001b[0m\u001b[0;34m[\u001b[0m\u001b[0;36m0\u001b[0m\u001b[0;34m]\u001b[0m \u001b[0;34m>=\u001b[0m \u001b[0;36m3\u001b[0m\u001b[0;34m:\u001b[0m\u001b[0;34m\u001b[0m\u001b[0m\n\u001b[1;32m     52\u001b[0m         \u001b[0;32mreturn\u001b[0m \u001b[0mstring\u001b[0m\u001b[0;34m\u001b[0m\u001b[0m\n",
      "\u001b[0;32m/usr/local/lib/python3.6/dist-packages/unidecode/__init__.py\u001b[0m in \u001b[0;36m_unidecode\u001b[0;34m(string)\u001b[0m\n\u001b[1;32m     73\u001b[0m \u001b[0;34m\u001b[0m\u001b[0m\n\u001b[1;32m     74\u001b[0m         \u001b[0;32mif\u001b[0m \u001b[0mcodepoint\u001b[0m \u001b[0;34m<\u001b[0m \u001b[0;36m0x80\u001b[0m\u001b[0;34m:\u001b[0m \u001b[0;31m# Basic ASCII\u001b[0m\u001b[0;34m\u001b[0m\u001b[0m\n\u001b[0;32m---> 75\u001b[0;31m             \u001b[0mretval\u001b[0m\u001b[0;34m.\u001b[0m\u001b[0mappend\u001b[0m\u001b[0;34m(\u001b[0m\u001b[0mstr\u001b[0m\u001b[0;34m(\u001b[0m\u001b[0mchar\u001b[0m\u001b[0;34m)\u001b[0m\u001b[0;34m)\u001b[0m\u001b[0;34m\u001b[0m\u001b[0m\n\u001b[0m\u001b[1;32m     76\u001b[0m             \u001b[0;32mcontinue\u001b[0m\u001b[0;34m\u001b[0m\u001b[0m\n\u001b[1;32m     77\u001b[0m \u001b[0;34m\u001b[0m\u001b[0m\n",
      "\u001b[0;31mKeyboardInterrupt\u001b[0m: "
     ]
    }
   ],
   "source": [
    "imp.reload(util)\n",
    "X, Xu = util.load_data(path_train, vocab, pad=seqlen, lowercase=True)"
   ]
  },
  {
   "cell_type": "code",
   "execution_count": 106,
   "metadata": {},
   "outputs": [
    {
     "name": "stdout",
     "output_type": "stream",
     "text": [
      "Total words: 17676455\n",
      "Unknown words: 7.16%\n"
     ]
    }
   ],
   "source": [
    "print(\"Total words:\", len(X))\n",
    "print(\"Unknown words: {:.2f}%\".format(100 * sum(Xu[:,0]) / len(Xu)))"
   ]
  },
  {
   "cell_type": "code",
   "execution_count": 107,
   "metadata": {},
   "outputs": [],
   "source": [
    "from keras.layers import Reshape, Embedding, CuDNNLSTM, BatchNormalization, Dense, Concatenate\n",
    "from keras import Model, Input\n",
    "import tensorflow as tf"
   ]
  },
  {
   "cell_type": "code",
   "execution_count": 108,
   "metadata": {},
   "outputs": [],
   "source": [
    "def sampling_layer(x):\n",
    "    data, sample_indices = x\n",
    "    def gather_per_batch(e):\n",
    "        batch, indices = e\n",
    "        indices = tf.cast(indices, tf.int32)\n",
    "        #print(\"batch\", type(batch), batch.dtype, batch.shape)\n",
    "        #print(\"indices\", type(indices), indices.dtype, indices.shape)\n",
    "        return (tf.gather(batch, indices),0)\n",
    "    return tf.map_fn(gather_per_batch, (data, sample_indices),\n",
    "                    parallel_iterations=batch_size*2, swap_memory=False)[0]\n",
    "\n",
    "\n",
    "def sampling_layer_gather_nd(x):\n",
    "    data, sample_indices = x\n",
    "    return tf.gather_nd(data, tf.cast(sample_indices, tf.int32))\n"
   ]
  },
  {
   "cell_type": "code",
   "execution_count": 109,
   "metadata": {},
   "outputs": [],
   "source": [
    "from keras.layers import Reshape, Embedding, CuDNNLSTM, BatchNormalization, Dense, \\\n",
    "    Concatenate, Lambda, Activation, Dropout\n",
    "from keras import Model, Input\n",
    "\n",
    "def make_model(*, seqlen, sample_size, emb_matrix, aux_dim=2, dropout_rate=0.1):    \n",
    "    dim = emb_matrix.shape[1] + 1\n",
    "    \n",
    "    input_x = Input((seqlen,), dtype=\"int32\", name=\"input_x\")\n",
    "    input_aux = Input((seqlen, aux_dim), dtype=\"float32\", name=\"input_aux\")\n",
    "    input_sample_indices = Input((sample_size,2), dtype=\"int32\", name=\"input_sample_indices\")\n",
    "\n",
    "    resh_aux  = input_aux #Reshape((seqlen,), name=\"resh_aux\")(input_aux)\n",
    "\n",
    "    emb_layer = Embedding(*emb_matrix.shape, input_length=seqlen, \n",
    "                          trainable=False, weights=[emb_matrix], \n",
    "                          name=\"embedding\")\n",
    "    emb_x = emb_layer(input_x)\n",
    "    concat_x = Concatenate(name=\"concat_x\")([emb_x, resh_aux])\n",
    "        \n",
    "    yhat = CuDNNLSTM(128, return_sequences=True, name='rnn1')(concat_x)\n",
    "    yhat = BatchNormalization()(yhat)\n",
    "    yhat = Dropout(dropout_rate)(yhat)\n",
    "    \n",
    "    yhat = CuDNNLSTM(128, return_sequences=False, name='rnn2')(yhat)\n",
    "    yhat = BatchNormalization()(yhat)\n",
    "    yhat = Dropout(dropout_rate)(yhat)\n",
    "    \n",
    "    yhat = Dense(300, activation=\"relu\")(yhat)\n",
    "    yhat = BatchNormalization()(yhat)\n",
    "    yhat = Dropout(dropout_rate)(yhat)\n",
    "\n",
    "    yhat = Dense(300, activation=\"relu\")(yhat)\n",
    "    yhat = BatchNormalization()(yhat)\n",
    "    yhat = Dropout(dropout_rate)(yhat)\n",
    "   \n",
    "    # len(vocab)+2 is because the zeroth word is for padding\n",
    "    # and last word is for \"unknown\"\n",
    "    \n",
    "    yhat_aux = Dense(aux_dim, activation=\"sigmoid\")(yhat)\n",
    "    yhat = Dense(len(vocab)+2, activation=\"linear\")(yhat)\n",
    "        \n",
    "    #print(input_sample_indices.dtype, input_sample_indices.shape)\n",
    "    out_train = Lambda(sampling_layer_gather_nd, name=\"sampling\")([yhat, input_sample_indices])\n",
    "    out_train = Activation('softmax')(out_train)\n",
    "    out_train = Concatenate(name=\"concat_out_train\")([out_train, yhat_aux])\n",
    "    \n",
    "    print(out_train.shape)\n",
    "    \n",
    "    out_predict = Activation('softmax')(yhat)\n",
    "    out_predict = Concatenate(name=\"concat_out_predict\")([out_predict, yhat_aux])\n",
    "    \n",
    "    model_train = Model([input_x, input_aux, input_sample_indices], [out_train])\n",
    "    model_predict = Model([input_x, input_aux], [out_predict])\n",
    "    \n",
    "    return model_train, model_predict"
   ]
  },
  {
   "cell_type": "code",
   "execution_count": 110,
   "metadata": {},
   "outputs": [
    {
     "name": "stdout",
     "output_type": "stream",
     "text": [
      "(?, 12)\n"
     ]
    }
   ],
   "source": [
    "mtrain, mpredict = make_model(seqlen=seqlen, sample_size=sample_size, emb_matrix=emb_matrix,\n",
    "                             dropout_rate=0.05)"
   ]
  },
  {
   "cell_type": "code",
   "execution_count": 111,
   "metadata": {},
   "outputs": [],
   "source": [
    "def mean_pred(y_true, y_pred):\n",
    "    print(tf.shape(y_true))\n",
    "    print(tf.shape(y_pred))\n",
    "    r = tf.multiply(y_true[:,0], tf.round(y_pred[:,0]))\n",
    "    r = tf.reduce_sum(r, axis=-1)\n",
    "    r = tf.reduce_mean(r, axis=-1)\n",
    "    return r"
   ]
  },
  {
   "cell_type": "code",
   "execution_count": 119,
   "metadata": {},
   "outputs": [],
   "source": [
    "opt = K.optimizers.Adam(lr=0.001)\n",
    "mtrain.compile(opt, loss='categorical_crossentropy', metrics=[\"accuracy\"])"
   ]
  },
  {
   "cell_type": "code",
   "execution_count": 117,
   "metadata": {},
   "outputs": [],
   "source": [
    "imp.reload(util)\n",
    "batch_size=4096\n",
    "train_seq = util.NegativeSamplingPermutedSequence(data_x=X, data_xu=Xu,\n",
    "                                                 seqlen=seqlen, batch_size=batch_size,\n",
    "                                                 sample_size=sample_size,\n",
    "                                                 vocab_size=len(vocab)+1)"
   ]
  },
  {
   "cell_type": "code",
   "execution_count": 114,
   "metadata": {},
   "outputs": [
    {
     "name": "stdout",
     "output_type": "stream",
     "text": [
      "17676455 131072\n"
     ]
    }
   ],
   "source": [
    "print(len(X), seqlen*batch_size)"
   ]
  },
  {
   "cell_type": "code",
   "execution_count": 115,
   "metadata": {},
   "outputs": [],
   "source": [
    "checkpoint_filepath = \"checkpoints/weights.{epoch:02d}.hdf5\"\n",
    "\n",
    "checkpoint = K.callbacks.ModelCheckpoint(checkpoint_filepath,                       \n",
    "                                        verbose=1,\n",
    "                                        save_best_only=False)"
   ]
  },
  {
   "cell_type": "code",
   "execution_count": 120,
   "metadata": {
    "scrolled": false
   },
   "outputs": [
    {
     "name": "stdout",
     "output_type": "stream",
     "text": [
      "Epoch 1/5000000\n",
      "  73/4315 [..............................] - ETA: 29:31 - loss: 0.9052 - acc: 0.8687"
     ]
    },
    {
     "ename": "KeyboardInterrupt",
     "evalue": "",
     "output_type": "error",
     "traceback": [
      "\u001b[0;31m---------------------------------------------------------------------------\u001b[0m",
      "\u001b[0;31mKeyboardInterrupt\u001b[0m                         Traceback (most recent call last)",
      "\u001b[0;32m<ipython-input-120-5d4fe0f91f30>\u001b[0m in \u001b[0;36m<module>\u001b[0;34m()\u001b[0m\n\u001b[1;32m      4\u001b[0m mtrain.fit_generator(train_seq, steps_per_epoch=numbatches, epochs=5000000,\n\u001b[1;32m      5\u001b[0m                     \u001b[0mcallbacks\u001b[0m\u001b[0;34m=\u001b[0m\u001b[0;34m[\u001b[0m\u001b[0mcheckpoint\u001b[0m\u001b[0;34m]\u001b[0m\u001b[0;34m,\u001b[0m\u001b[0;34m\u001b[0m\u001b[0m\n\u001b[0;32m----> 6\u001b[0;31m                     initial_epoch=0)\n\u001b[0m",
      "\u001b[0;32m/usr/local/lib/python3.6/dist-packages/keras/legacy/interfaces.py\u001b[0m in \u001b[0;36mwrapper\u001b[0;34m(*args, **kwargs)\u001b[0m\n\u001b[1;32m     89\u001b[0m                 warnings.warn('Update your `' + object_name +\n\u001b[1;32m     90\u001b[0m                               '` call to the Keras 2 API: ' + signature, stacklevel=2)\n\u001b[0;32m---> 91\u001b[0;31m             \u001b[0;32mreturn\u001b[0m \u001b[0mfunc\u001b[0m\u001b[0;34m(\u001b[0m\u001b[0;34m*\u001b[0m\u001b[0margs\u001b[0m\u001b[0;34m,\u001b[0m \u001b[0;34m**\u001b[0m\u001b[0mkwargs\u001b[0m\u001b[0;34m)\u001b[0m\u001b[0;34m\u001b[0m\u001b[0m\n\u001b[0m\u001b[1;32m     92\u001b[0m         \u001b[0mwrapper\u001b[0m\u001b[0;34m.\u001b[0m\u001b[0m_original_function\u001b[0m \u001b[0;34m=\u001b[0m \u001b[0mfunc\u001b[0m\u001b[0;34m\u001b[0m\u001b[0m\n\u001b[1;32m     93\u001b[0m         \u001b[0;32mreturn\u001b[0m \u001b[0mwrapper\u001b[0m\u001b[0;34m\u001b[0m\u001b[0m\n",
      "\u001b[0;32m/usr/local/lib/python3.6/dist-packages/keras/engine/training.py\u001b[0m in \u001b[0;36mfit_generator\u001b[0;34m(self, generator, steps_per_epoch, epochs, verbose, callbacks, validation_data, validation_steps, class_weight, max_queue_size, workers, use_multiprocessing, shuffle, initial_epoch)\u001b[0m\n\u001b[1;32m   1424\u001b[0m             \u001b[0muse_multiprocessing\u001b[0m\u001b[0;34m=\u001b[0m\u001b[0muse_multiprocessing\u001b[0m\u001b[0;34m,\u001b[0m\u001b[0;34m\u001b[0m\u001b[0m\n\u001b[1;32m   1425\u001b[0m             \u001b[0mshuffle\u001b[0m\u001b[0;34m=\u001b[0m\u001b[0mshuffle\u001b[0m\u001b[0;34m,\u001b[0m\u001b[0;34m\u001b[0m\u001b[0m\n\u001b[0;32m-> 1426\u001b[0;31m             initial_epoch=initial_epoch)\n\u001b[0m\u001b[1;32m   1427\u001b[0m \u001b[0;34m\u001b[0m\u001b[0m\n\u001b[1;32m   1428\u001b[0m     \u001b[0;34m@\u001b[0m\u001b[0minterfaces\u001b[0m\u001b[0;34m.\u001b[0m\u001b[0mlegacy_generator_methods_support\u001b[0m\u001b[0;34m\u001b[0m\u001b[0m\n",
      "\u001b[0;32m/usr/local/lib/python3.6/dist-packages/keras/engine/training_generator.py\u001b[0m in \u001b[0;36mfit_generator\u001b[0;34m(model, generator, steps_per_epoch, epochs, verbose, callbacks, validation_data, validation_steps, class_weight, max_queue_size, workers, use_multiprocessing, shuffle, initial_epoch)\u001b[0m\n\u001b[1;32m    189\u001b[0m                 outs = model.train_on_batch(x, y,\n\u001b[1;32m    190\u001b[0m                                             \u001b[0msample_weight\u001b[0m\u001b[0;34m=\u001b[0m\u001b[0msample_weight\u001b[0m\u001b[0;34m,\u001b[0m\u001b[0;34m\u001b[0m\u001b[0m\n\u001b[0;32m--> 191\u001b[0;31m                                             class_weight=class_weight)\n\u001b[0m\u001b[1;32m    192\u001b[0m \u001b[0;34m\u001b[0m\u001b[0m\n\u001b[1;32m    193\u001b[0m                 \u001b[0;32mif\u001b[0m \u001b[0;32mnot\u001b[0m \u001b[0misinstance\u001b[0m\u001b[0;34m(\u001b[0m\u001b[0mouts\u001b[0m\u001b[0;34m,\u001b[0m \u001b[0mlist\u001b[0m\u001b[0;34m)\u001b[0m\u001b[0;34m:\u001b[0m\u001b[0;34m\u001b[0m\u001b[0m\n",
      "\u001b[0;32m/usr/local/lib/python3.6/dist-packages/keras/engine/training.py\u001b[0m in \u001b[0;36mtrain_on_batch\u001b[0;34m(self, x, y, sample_weight, class_weight)\u001b[0m\n\u001b[1;32m   1218\u001b[0m             \u001b[0mins\u001b[0m \u001b[0;34m=\u001b[0m \u001b[0mx\u001b[0m \u001b[0;34m+\u001b[0m \u001b[0my\u001b[0m \u001b[0;34m+\u001b[0m \u001b[0msample_weights\u001b[0m\u001b[0;34m\u001b[0m\u001b[0m\n\u001b[1;32m   1219\u001b[0m         \u001b[0mself\u001b[0m\u001b[0;34m.\u001b[0m\u001b[0m_make_train_function\u001b[0m\u001b[0;34m(\u001b[0m\u001b[0;34m)\u001b[0m\u001b[0;34m\u001b[0m\u001b[0m\n\u001b[0;32m-> 1220\u001b[0;31m         \u001b[0moutputs\u001b[0m \u001b[0;34m=\u001b[0m \u001b[0mself\u001b[0m\u001b[0;34m.\u001b[0m\u001b[0mtrain_function\u001b[0m\u001b[0;34m(\u001b[0m\u001b[0mins\u001b[0m\u001b[0;34m)\u001b[0m\u001b[0;34m\u001b[0m\u001b[0m\n\u001b[0m\u001b[1;32m   1221\u001b[0m         \u001b[0;32mif\u001b[0m \u001b[0mlen\u001b[0m\u001b[0;34m(\u001b[0m\u001b[0moutputs\u001b[0m\u001b[0;34m)\u001b[0m \u001b[0;34m==\u001b[0m \u001b[0;36m1\u001b[0m\u001b[0;34m:\u001b[0m\u001b[0;34m\u001b[0m\u001b[0m\n\u001b[1;32m   1222\u001b[0m             \u001b[0;32mreturn\u001b[0m \u001b[0moutputs\u001b[0m\u001b[0;34m[\u001b[0m\u001b[0;36m0\u001b[0m\u001b[0;34m]\u001b[0m\u001b[0;34m\u001b[0m\u001b[0m\n",
      "\u001b[0;32m/usr/local/lib/python3.6/dist-packages/keras/backend/tensorflow_backend.py\u001b[0m in \u001b[0;36m__call__\u001b[0;34m(self, inputs)\u001b[0m\n\u001b[1;32m   2659\u001b[0m                 \u001b[0;32mreturn\u001b[0m \u001b[0mself\u001b[0m\u001b[0;34m.\u001b[0m\u001b[0m_legacy_call\u001b[0m\u001b[0;34m(\u001b[0m\u001b[0minputs\u001b[0m\u001b[0;34m)\u001b[0m\u001b[0;34m\u001b[0m\u001b[0m\n\u001b[1;32m   2660\u001b[0m \u001b[0;34m\u001b[0m\u001b[0m\n\u001b[0;32m-> 2661\u001b[0;31m             \u001b[0;32mreturn\u001b[0m \u001b[0mself\u001b[0m\u001b[0;34m.\u001b[0m\u001b[0m_call\u001b[0m\u001b[0;34m(\u001b[0m\u001b[0minputs\u001b[0m\u001b[0;34m)\u001b[0m\u001b[0;34m\u001b[0m\u001b[0m\n\u001b[0m\u001b[1;32m   2662\u001b[0m         \u001b[0;32melse\u001b[0m\u001b[0;34m:\u001b[0m\u001b[0;34m\u001b[0m\u001b[0m\n\u001b[1;32m   2663\u001b[0m             \u001b[0;32mif\u001b[0m \u001b[0mpy_any\u001b[0m\u001b[0;34m(\u001b[0m\u001b[0mis_tensor\u001b[0m\u001b[0;34m(\u001b[0m\u001b[0mx\u001b[0m\u001b[0;34m)\u001b[0m \u001b[0;32mfor\u001b[0m \u001b[0mx\u001b[0m \u001b[0;32min\u001b[0m \u001b[0minputs\u001b[0m\u001b[0;34m)\u001b[0m\u001b[0;34m:\u001b[0m\u001b[0;34m\u001b[0m\u001b[0m\n",
      "\u001b[0;32m/usr/local/lib/python3.6/dist-packages/keras/backend/tensorflow_backend.py\u001b[0m in \u001b[0;36m_call\u001b[0;34m(self, inputs)\u001b[0m\n\u001b[1;32m   2629\u001b[0m                                 \u001b[0msymbol_vals\u001b[0m\u001b[0;34m,\u001b[0m\u001b[0;34m\u001b[0m\u001b[0m\n\u001b[1;32m   2630\u001b[0m                                 session)\n\u001b[0;32m-> 2631\u001b[0;31m         \u001b[0mfetched\u001b[0m \u001b[0;34m=\u001b[0m \u001b[0mself\u001b[0m\u001b[0;34m.\u001b[0m\u001b[0m_callable_fn\u001b[0m\u001b[0;34m(\u001b[0m\u001b[0;34m*\u001b[0m\u001b[0marray_vals\u001b[0m\u001b[0;34m)\u001b[0m\u001b[0;34m\u001b[0m\u001b[0m\n\u001b[0m\u001b[1;32m   2632\u001b[0m         \u001b[0;32mreturn\u001b[0m \u001b[0mfetched\u001b[0m\u001b[0;34m[\u001b[0m\u001b[0;34m:\u001b[0m\u001b[0mlen\u001b[0m\u001b[0;34m(\u001b[0m\u001b[0mself\u001b[0m\u001b[0;34m.\u001b[0m\u001b[0moutputs\u001b[0m\u001b[0;34m)\u001b[0m\u001b[0;34m]\u001b[0m\u001b[0;34m\u001b[0m\u001b[0m\n\u001b[1;32m   2633\u001b[0m \u001b[0;34m\u001b[0m\u001b[0m\n",
      "\u001b[0;32m~/.local/lib/python3.6/site-packages/tensorflow/python/client/session.py\u001b[0m in \u001b[0;36m__call__\u001b[0;34m(self, *args)\u001b[0m\n\u001b[1;32m   1375\u001b[0m       \u001b[0;32mwith\u001b[0m \u001b[0merrors\u001b[0m\u001b[0;34m.\u001b[0m\u001b[0mraise_exception_on_not_ok_status\u001b[0m\u001b[0;34m(\u001b[0m\u001b[0;34m)\u001b[0m \u001b[0;32mas\u001b[0m \u001b[0mstatus\u001b[0m\u001b[0;34m:\u001b[0m\u001b[0;34m\u001b[0m\u001b[0m\n\u001b[1;32m   1376\u001b[0m         return tf_session.TF_SessionRunCallable(\n\u001b[0;32m-> 1377\u001b[0;31m             self._session._session, self._handle, args, status, None)\n\u001b[0m\u001b[1;32m   1378\u001b[0m \u001b[0;34m\u001b[0m\u001b[0m\n\u001b[1;32m   1379\u001b[0m     \u001b[0;32mdef\u001b[0m \u001b[0m__del__\u001b[0m\u001b[0;34m(\u001b[0m\u001b[0mself\u001b[0m\u001b[0;34m)\u001b[0m\u001b[0;34m:\u001b[0m\u001b[0;34m\u001b[0m\u001b[0m\n",
      "\u001b[0;31mKeyboardInterrupt\u001b[0m: "
     ]
    }
   ],
   "source": [
    "\n",
    "numbatches = X.shape[0] // batch_size\n",
    "\n",
    "mtrain.fit_generator(train_seq, steps_per_epoch=numbatches, epochs=5000000,\n",
    "                    callbacks=[checkpoint],\n",
    "                    initial_epoch=0)\n"
   ]
  },
  {
   "cell_type": "code",
   "execution_count": null,
   "metadata": {},
   "outputs": [],
   "source": [
    "mtrain.save(\"checkpoints/1.hdf5\")"
   ]
  },
  {
   "cell_type": "code",
   "execution_count": null,
   "metadata": {},
   "outputs": [],
   "source": []
  },
  {
   "cell_type": "markdown",
   "metadata": {},
   "source": [
    "### Test"
   ]
  },
  {
   "cell_type": "code",
   "execution_count": 84,
   "metadata": {},
   "outputs": [
    {
     "name": "stderr",
     "output_type": "stream",
     "text": [
      "100%|##########| 472/472 [00:01<00:00, 434.94it/s]\n"
     ]
    }
   ],
   "source": [
    "path_misc = \"/home/pmilovanov/hg/my/data/gallery-pr/misc\"\n",
    "\n",
    "X_test, Xu_test = util.load_data(path_test, vocab, pad=seqlen, lowercase=True)\n",
    "#X_test, Xu_test = util.load_data(path_misc, vocab, pad=seqlen, lowercase=True)"
   ]
  },
  {
   "cell_type": "code",
   "execution_count": 87,
   "metadata": {},
   "outputs": [
    {
     "data": {
      "text/plain": [
       "0.07746002751814775"
      ]
     },
     "execution_count": 87,
     "metadata": {},
     "output_type": "execute_result"
    }
   ],
   "source": [
    "X_test\n",
    "np.sum(Xu_test[:,0]) / len(Xu_test)\n"
   ]
  },
  {
   "cell_type": "code",
   "execution_count": 86,
   "metadata": {},
   "outputs": [
    {
     "data": {
      "text/plain": [
       "array([[0., 1.],\n",
       "       [0., 1.],\n",
       "       [0., 1.],\n",
       "       ...,\n",
       "       [0., 0.],\n",
       "       [0., 0.],\n",
       "       [0., 0.]], dtype=float32)"
      ]
     },
     "execution_count": 86,
     "metadata": {},
     "output_type": "execute_result"
    }
   ],
   "source": [
    "Xu_test"
   ]
  },
  {
   "cell_type": "code",
   "execution_count": 88,
   "metadata": {},
   "outputs": [],
   "source": [
    "mpredict.compile(opt, loss=\"categorical_crossentropy\")"
   ]
  },
  {
   "cell_type": "code",
   "execution_count": 89,
   "metadata": {},
   "outputs": [
    {
     "data": {
      "text/plain": [
       "10001"
      ]
     },
     "execution_count": 89,
     "metadata": {},
     "output_type": "execute_result"
    }
   ],
   "source": [
    "len(words)"
   ]
  },
  {
   "cell_type": "code",
   "execution_count": 97,
   "metadata": {},
   "outputs": [
    {
     "name": "stdout",
     "output_type": "stream",
     "text": [
      "The Aldrich Contemporary Art Museum is pleased to announce the inception of the <UNK> Hall Curatorial Fellowship , an <UNK> - month curatorial fellowship for international curators who wish to gain curatorial experience and professional development in an American museum setting . The Hall Fellow will be responsible for curating an original exhibition in keeping with The <UNK> mission of leadership in the exhibition ====================================================================================================\n"
     ]
    },
    {
     "name": "stdout",
     "output_type": "stream",
     "text": [
      ": now have also since preview the past nineties's institution in the 1970s, and in former artists the future weeks - song artists. the imaginative language and techniques, symbols and transience and renewed, engage directly themselves landscapes of architecture and nature at the past two works and survey: driven along the streets of national zealand and discovered polished boards and pairs violence initially informed, in which independent of the 1950s 1940s and's daily painters and subjects and species the images (costumes'in a variety and radical dialogue are actually highly converted of a book of avant and healing and the fundamental geometric artistic creation of stephen tribe in addition and and the people and works over the last century where danish and 1970s historical relations as a prominent nature, david foster began the artist study with visual and performance and contemporary painting and experience - and with the aesthetic role and unexpected links, over every - he's location,\"\"the death on formally science and the cracks have typically in marker a remote tone in metamorphosis and illusion and display, a moment to play under its context. Accompanied instance boats placed galleries and finalists are intended and bear from the same and live of the gallery of the social fabric.\"the film, whose fluxus and rejection and character are directly quite used and insights, and the work and how'gaze for the same of an interview finds to make to work to objects. The painted of paper appear) - and compose, and well the volume / re, stone the invention of a\". working elements in the early 70s and 70s and sessions and challenged since become representation and new historical aesthetic quality and self. Probably only could look the academic media as the work are concerned to combine and references and political works, which have attached reality and phenomena, and the viewer and extremes and customs and locations and characteristics, to combine, and bring. playing - known with the artistic contexts and creations have not engage of genre to the industrial and tradition and structural mechanisms, types mental beings and mutual beings and urban and and all of the explosion and larger and ultimately and across campus in a field. They are appropriated: sometimes a sense, culture the body in spaces and its identifying, and much prevalent, knowledge and identity legacies and art and power create and reality of the built and science and society and their states and experimental and an ongoing and the constructed. The importance the usual continuity connects, influences from land and violence, visibility, distance as ask and play? he has drawn to the event houses of brazil and history and magazines, from the country and fact and growth and many individuals or perceptions and entities are known based and a reaction of social forms as to broaden directly several categories. Much so a central notion while visible? i the time was also to be a problem with a body that, if as so essential of things can because to longer like the relationship,\"that god to the idea, we come that the intention and color. Post, and in various contexts, wolfson through my parts and were together? the most recent to and as a kind of future must are remains an exhibition of the artist and for an adaptation of the process of self and materiality periods, how the cross and representation and became much why from many works includes at that were into traffic. What was a transformation generation and are virtually interested of action of functional of the art and nature on the representation of the nature. The presence poetic\"scholar coverage of the war has known these subject mechanisms, transitions from society. The exhibition he had invited groups and visitors and monographs work popular art and an ambitious, comprehensive crucial and leads and fragility of cultural and political and society.\"painting and war can have simultaneously shifts the relationship that of different languages ranging political media function hierarchies familiar. Karl greenberg, in brooklyn - he has developed a contemporary korean and imposing and dialogue context in the french conflict whose technical structures, a team of concept and narratives of socialist narratives, and minimalism. Of a state and question and prior by the rotunda is divided over ten photographs such take create from the work which break on this previous early years has failed for its success. Like drawing. the textile birthday edition are dead's films and release locations were i been convinced as to the second art world, which is to be used the new concept. The exhibition continues in the museum and need new performances such the materials and artistic forms of the works of the foreign - processes in different disciplines and media expressions and production and recent media and development into painting, and works and speech. The exhibition comprises projects: s hand where the installation, illustrating, and sculptures? of the camera also was the modernist scales, and the colors of the full paintings and most constructed and by them. in the early 1990s 60s huber calder's collection of the african lithuanian filmmaker gary'goes foucault to the early 60s and aldo explores rather experimental that ever sought into an industrial role. He made the most recent museum of aesthetic union and held - related indian times (mondrian and soviet society. Her recent catastrophe video and literature'way of women with the concrete existence and material for the\"land and its cultural decline and new practice can be we be identical by their fraught that any communication about the\"money and control? this and i been fallen into the relations of justice and sexuality and artificial the traces and lack ways of future and future and contributed. The ideas and responses are and the techniques role in the celebrity ; who was said something already inspired to common, that and from those of ambivalence that can be seemingly the imagery and sexual and often re. For his concerns and existence and hope and doubt is a large mathematical approach of abstraction and his spatial theory of juxtapositions artistic and mediated aspects forms and matter in the early past and official forms, and, anti and architecture and considers and viewers of the way and working nature and ideologies, following private concerns. Drawing into this impact of the historical and non power are\"future and in the artist has created creating and formal associations and representation and of the new artistic nature and travels and a 21st century of brazil rather at the visual practice, documentary and. she was marked when his oeuvre ghostly, cantor of times and his photographs inform to engage and effects for the market and painting that do are introduced the mirror made drawing to object to read and make to lead without oneself vision as the colour and information objects for the viewer's resistance and even physical and emotionally another objects with meaning parts to use structures and appropriation and additional. Magali essentially explores the nature of the technological and multiplicity relationship and to perceptual and objective and the literary and provocative and connotations and magical and individuals in this sense. In one inspiration everything, the early of the 1970s and production and conservation as an unrealized arts reversal of minimalism and origin, documentation are a larger, particularly before informal and reality of the paintings and. also brazilian depictions and positioning - real effects of women, concepts with home and science and rhineland: images, territorial of its digital practices and communicative from the\"everyday of a word constitutes is not a poetic abstraction of abstraction and the nature and often meaningful an original in the metropolis of the traditional neo memory in the early 1970s - based's first influences principles over his potential, the web in six videos, black wallpaper locations, and light from his entire form and the subject in the 1960s - dreams with resistance and chaos and which obsessions the're and thus must perceive.\"to be equally determined"
     ]
    },
    {
     "name": "stdout",
     "output_type": "stream",
     "text": [
      ". a series is part about the refined social nature it chose the respective perceptions, theoretical and cultural realities of japanese emotion, and with our anti and historic labor and and apartheid and nature. We want the back of them. rodland stages and of official yet effort from exhibitions at the surrounding's music and as the snapshot creates process they create from the country and writing and get ourselves when a future to create custom and creative as a new century not really the story of sixties and relationships, or through our sexual and figurative perspective. Jutta Mir pays us the possibility into color and spatial structures and mode and fantasies, both some familiar and repetition and from the 1940s and prominence and early early 70s since 2000. Further places for civil war in the darkness period john de Orozco: this in the 60s and and joy within the attributes techniques mirror and models as other recent effects with technology, reality, memory and sexual and emotional aesthetic critique, the treatment, often based led and memorable point there for this places, subverting, production\": art has re - be naive not dialogues and fantasies and forms, and theater. Already soon to prominence, each scope is not somewhat the world and itself and the paradoxical force and progress, through the future of social innovation that focuses to present and change. Chen's works: a particular collaboration of the workers striving to affect art and contexts, the migration. tellez's installation masterpieces are exhibited today as of the photographs. The framework dating the relationship of german culture and image and photography and against through an exhibition and place in english and contemporary art and an exhibition at the secession, where his relationship, and experimental and readings over photography and manipulation and in an art, the perception for practical and recognition and a display field of material, intimacy and emancipation. The work sheds from new contemporary art - - and engage new artists were inscribed, cultural figures, and also remains a degree - image of both, and historical practices and value communities to investigate and radical possibilities in urban art and the economic routes through the concept and and periphery and developed in the exhibition of brazil and the framework of the visual environment and making and generates contemporary and indigenous and modern and central political, and the present and to provoke of social and universal communities and visual practices in the iconic art of war daily new, schulze is manifest that co an artist and international eighties of the 21st century and through moments and geography in the african countries between south between early art and culture and its concerns between danish and culture - on, this stage,\"\"\"nature and actively become issues into and birth, how and both the tunnel, the means. without of life and mental and psychological and representation and they and define artistic writing, but around our canon of late representation, fascism and the future from south times and a defining affecting, but as and generally satirical contexts and strength amidst in a direct survey and social imagination. Jones herself has worked as well historical concerns and concepts, and exchange racial and utopian and documentary of his (he says and we are the present current narrative of authority - possibilities, american of mind and the most ironic modes. Through - - and,\"ideas of fiction and art and the relationship and public and arabic and provocative encounters. Before the dark of the early performance film you seek its end and progress into the root into wind, and understand silence in time and his time with language ; and including the russian comics abroad that impact takes of the military and most brutal life inspired and traces and self in the history and process and modern and the building and from advertising of the most interesting art and archive of the fields and territories and democratic effects which develop the social criteria and concerns. Decades ; the revolution, the spectator, the relationship of writings: the mass\"relationship between treatment and progress and place with a reality that we can even be to create and the future and disintegration, with meaning, where of forms and its links the chaos, and to to such familiarity, the shape, and narrative, in spite partly the future? in the performances outlines an expressive in nature, jeppe condorelli and hangs, various forms and times, earlier out, one a direct relationship should documenting and draws power, wander themselves of touch and representation of the viewer that artists the concept and passion or icons, disparate and narratives and and intimate bodies. This resulted sharp color and meanings are ultimately used on their concrete origins and solitude of the cinematic lives. The pieces are executed the video attracted public work for two venues such: practices and the transformative of the backdrop and the show and sustainability in the 20th art and the interior to us and a transition - equal concept. Rachel'- works with these forms and situations, it is a death of the gas and the ways available. The geological representations mark for the world gives the concept in which ideas so the works examine in which and hyper and an ability and its relationship of the\"alternative sculpture and a consistent part - like and settings: or that form thus and inform the decay and surface and language and instead financial images that are familiar in a journey which, can) as conceptual points witness back and the evolution, we tell who were a deep role counterpart where paul Storr was transformed a very developed and anti place. Who says a major journey of abstraction modes and probing. Chen of album books feature the figure ; the impact, superflex? the paintings of dancers and hollywood and movies becomes an autobiographical representation that is not being the minimalist of femininity and zhang relationships, were considered difficult printing. Divided and organic and social aspects with this physical refusal while behaviour can take, they presented their multiple roles and operate and reception passions and forms, and in the encounter and humor finds in basic performances and in site and social and crime. For the collector &, bruno gonzalez, whom they unite and engage their voices and participate of a complex art that is able artists, conversations and notions of national and social nature.\"main good works. l, i has already received its members of three projects. marcel -'and karl & and centre ; the residency international Museum of Art, rome cisneros / rob Deller, e, douglas solomon, Richard Deller and And nicole E) is an intimate exhibition of different contemporary and contemporary art and public and and artists color world with political and national and trans and daily and also threatening, the boundaries processes and their ways phenomena, practices that also creates the artistic participation and create from locate and communities, mexican and identity and outside and to adopt the aim and risk. Political issues and devices and history history or both the presentation of past and the question and queer. They are a floating tension and control and the visual and source and deliberate and participation, that have been reflected of historical shapes and questions and utopian and political and avant. Shaw experiences its fantastic, expression with his works that act with space of a series are shown and powerful and historical objects within domestic and colorful conventions and their subsequent and landscapes of women. Lye's delicate with characters and projected and testing and continuously be placed as effect and concentration and more than life and war are able make to us to grow and anxieties and making and evocative. Nsk's prevailing authors in his body and spoken known positions and transformed\"individual power of distance. the profound territory amidst, political exclusion, is central, we take to produce and finally forces at the other countries and featuring images and power and leaves presence and style"
     ]
    },
    {
     "name": "stdout",
     "output_type": "stream",
     "text": [
      " and changing and pass points to a canvases and intellectual\"as that as they were as crucial constructions. But, he says to the soundtrack as david sa - universitat, the artist and public and drama along the center of the european french music art in 1969. He created the most influential american avant including a sea and amp, 2007's russian artist marcel - a history, and looks an open document and condition and symbolism and moving through\"water and death and, resin and marked spheres and larger aesthetic structures and and the sense. Words hanging and watching in kochi was an audience in the gallery and her eighth surfaces which these waves and hang from the space.\"\"on the colonial - spanish'were said which, where capturing new works over objects were still partially and altered rose and seen study of early century - a hand and possibilities, understood and increasingly directly to make a history over the united and and, but implies, he approaches his fascination and emotional and destruction and the flow and aspects. Eternal and'(never understood was for the conceptual structures that and the ordinary portrayal and as the difference and self memories and time he has pushed from their feelings and habits and colour of the traditions and migration and processes in men and uses and the practices and violence and quiet and two and and and respective than many others that stage is always unlike and private landscapes. This greater an place of the changing speech between architecture, and fashion and intimacy and challenging principles for the indian as it is tied consistently understood historic ways and the pleasures, optical forms and power and forms. The relationship, the incredible of linear and meaning for earth'and friendship and the social narratives was expressed the thought image and re as\"constructions from the performance of women and objects, and processes, from life and experimental. While mark became recently an impression to the processes of digital and art and its power status and myth.\"four of cantor ii in this / violence walls. viewers: board, also allowed up them and movements.\"the incredible logic weaves to the self and refusal throw and precision and radical and otherness and and relationship but the place.'s bodies or frequently with life and visual impact and sexuality in the early 1960s and even art and conditions keeps with the way. nina wilson'exhibition is pleased fascinating. the openings's social engagement in an exhibition of life and everyday and images translate the fragility character of history and and racial, the objects under the actual and meaning in the circle at the emergence and movement and feminism and their human interaction or evolution. This tale, association for the computer and architecture as free today, and the processes and shared ambitions, and without, study. these are best, seen by the questions of modernity. As in the philippines industry nature and civic elements, while and production and principles and subtly are employed and tropes that offer a physical\"and the social and colonial reality and seeing to the art, focusing that from these contexts and trajectories to the power and matter and to our strategic modes of the image, international and people every to take their exhibitions and academic techniques merge and labour besides of power and history and and the various working as a foundation where the exhibition, at the 55th Exhibition collection, and big forms around old international places with the exhibition less than back and ever to the future. the exhibition histories actually, the body and intimacy gestures their ways and suggesting and intimate characters and nature of her relationship and so valid, in its forms relationship and its\"collective and painting's acceptance location and nature and tech experiences within a long - drama and punk and racial capitalist and capturing and and to the future, - to take, ideas and cultures and works and perspectives and coordinates, its urban earth and language and which their images, and its realities that, and one influences and most precisely of the 1930s of 1970s, and and forms and by exhibiting and modes and their unique in the practice) and offer to the relationship and the works with these images as for the image whereby being used, meaning within a variety writings and concept and choices and their perceptions and effects media as social concerns and feminist and the artist. If to great work and myth and the relationship of critical and stereotypes and that, the floating is inspired of memory and institution is, and including his fascination and regeneration and in the eyes and experience, a man or motif - activate and invisible and invisible landscapes.\"ch? [ - was's critical changes and influence theory. Yet a postcard, soto asks on subtle and spatial economies and experience and reflects and subtly provoke in labor and the debt of the state subjects and cycles and symbol and racial conventions and contemporary histories and sleep) and discourse with work and poetry and ultimately wider the photo that also transform the potential strategies, the housing along and the concept and and established ; and we be completely a manifesto of digital form of aesthetic situation and movements, challenges the surfaces within of a particular of the museum at large and organic and golden, revealing an original narrative - between works and forms that are a potential, relationship and beauty and subjectivity and rich and expressing. Each exhibition underscores the lower and national states and examine of the whole and exhibition. Long confined and utopian and popular monuments. From spring of the geopolitical manner compelling presence and subconscious. Many objects, magazines, and textiles surfaces and participants. It can have re to perceive character and social connotations as much lost. The past and important range extends at the state and in humanity and narrative representation with things. helmut mekas was spent with 1990. but. they are used coming in new lights's brass oil colors and bear, murals as word. through commissions, these models combine, and lie images were been found half by a camera series of the present of a subversive cinematic series'everyday of provocative and present in one of the influences eras and without and perhaps to reveal the abstraction and cinematic and personal sciences and institutional specificity and figurative manifestations and mixed and moving today and provocative and popular objects today as they is familiar\"the mythical and kitsch and social and deeply obsolete primitive works, he took its greatest artistic conflict's australia and his art and the continuation and alternatives exploration and radical figures. Lawrence during next acknowledges an original in the early world artists young lives this director's legal - by and its context with theory, on public and and the public music, the exhibition was a major feature of work.'jim'must give in my best, and chronicles and'commercial and who are great lives over - and ornament and smell and or and frame and monochrome and and image and question from beauty and nostalgia, advertising, and the same and the senses in the past and finding in the political and present and spirit in the original and narratives and scenery, could create at making in the history. Time, mary all works were, and also also turn his paintings, however all people, since she lived to australia of visual works, of that meaning and history and shifting and in his work and conceptual artists'layers and the precarious and a political, whereby and constraints and challenge and discourses are in its rapidly, philosophical aspects and professional.\", a constellation and inherent relationship and dramatic impressions and conceptual landscapes. Both. from years she often emphasized for painting with this role on the space. Folk geometry prints between power and leaving'world hands and sci itself, the physical possibilities, initially become fully home through the formats and premises and its relationships and systems and shifts images that market with painting's work and how and in a narrative"
     ]
    },
    {
     "name": "stdout",
     "output_type": "stream",
     "text": [
      " process that is mainly to comment and hence and present a mass and independence. The artist is and the sites and historical and transformations that are challenged and turbulent and the dreams and cheap women and social realities from the 1990s and 70s and ever of the 1970s. How years, challenges an enormous spiritual and maker and memory and actually themselves are equally connected of the conception from mexican and governments and thematic realities and production and culture, everyday and political and economic understanding and to can privilege on the landscapes and social realities - and and cultural practices, a spectacular beyond and in the material and current utopias unique with elsewhere, and meaning through the relationship. The exhibition includes staff artists were intended display addresses and agents professional reflections such within the vernacular image and and the physical aspects their viewers and modes as to directly embracing, product and reality and basic and reflects and even life and abstraction. Echoing their title, weinberger's interest of form, the history and material and its logic into legacies and associations and forms are subjected wandering in the exhibition related an interview entitled for i am will be my career and is an\"faces body on the lost and limitations whose re without these of the region and to become to be displaced and ancient communism and from to a romantic, worth state and world of memory and image and vital and therefore position to today and history at the history and signs - people and thinkers: creating, the consciousness is traced with their exceptional proposition and other observations. Instead within new possibilities address the affects and invention\"and and the dominant oeuvre of contemporary art and occupation cultures and the relationships of never been striking that are caused and spiritual connotations, understood facing, zoe set to an impression that henry as run in the future, all interests in the masses, truth and the power of self with psychology, a individual - be difficult by the relationships, experimentation emotional beings and the political systems enable place the middle and'and impact of youth and governmental and cultural visions, establishing from the human the traditional cultural norms. The point - canon industry and power and turns as realities, the world and labour and world in the united of capitalist and ways, these narratives and media forms are the place in early generations. The project for the recent video, gained 9 ], becoming funded of the new Social Image and india - the colonial new and half - - economic art and fashion art and and its show and natural distribution at the 1990s and will be involved with the construction scene of gathering art and art and art as involved from minimalism and literature and psychology, making. thinking clothes and ethnic positions. At the island of brazil's'score marriage landscapes such of on sports i is where'new models and the layers and the lives and wide and paradoxes that sought the grotesque terms in the book in a solid and constant melancholy in economy and and his 60s and highlight with her images that and how reflected are opened, covered and before from old and - that'and has painted the discourses fore. With a sharp visual process, white materials, fashion - constructions and all processes"
     ]
    }
   ],
   "source": [
    "def capitalize(s):\n",
    "    if len(s) == 0: return s\n",
    "    return s[0].upper() + s[1:]\n",
    "\n",
    "\n",
    "\n",
    "i = 0\n",
    "gen = X_test[i:i+seqlen].tolist()\n",
    "genu = Xu_test[i:i+seqlen].tolist()\n",
    "\n",
    "\n",
    "tX = np.zeros((1, seqlen), dtype=\"int32\")\n",
    "tXu = np.zeros((1, seqlen, 2), dtype=\"float32\")\n",
    "results = []\n",
    "\n",
    "for i, idx in enumerate(gen):\n",
    "    word = \"<UNK>\"\n",
    "    if genu[i][0] < 0.1:\n",
    "        word = words[idx]\n",
    "    if genu[i][1] > 0.9:\n",
    "        word = capitalize(word)\n",
    "    sys.stdout.write(word + \" \")\n",
    "    sys.stdout.flush()\n",
    "\n",
    "print(\"=\" * 100)\n",
    "\n",
    "UNK_IDX = len(words)\n",
    "\n",
    "\n",
    "punct = \":.,!?'\\\")\"\n",
    "punct2 = \"'(\\\"\"\n",
    "\n",
    "iterations = 5000\n",
    "\n",
    "prev_word=words[gen[-1]]\n",
    "word=\"\"\n",
    "for j in range(iterations):\n",
    "    tX[0] = np.array(gen[-seqlen:], \"int32\")\n",
    "    tXu[0] = np.array(genu[-seqlen:], \"float32\")\n",
    "    \n",
    "    #print(tX)\n",
    "    z = mpredict.predict([tX, tXu])\n",
    "    scores=z[0][:-2]\n",
    "    aux=z[0][-2:]\n",
    "    idx = UNK_IDX\n",
    "    #print(scores)\n",
    "    while idx == UNK_IDX:\n",
    "        idx = np.random.choice(range(len(vocab)+2), p=scores)\n",
    "    if idx != UNK_IDX:\n",
    "        gen.append(idx)\n",
    "        genu.append([0.0, aux[1]])\n",
    "        word=words[idx]\n",
    "        if aux[1] > 0.9:\n",
    "            word = capitalize(word)\n",
    "        results.append(word)\n",
    "    else:\n",
    "        gen.append(0)\n",
    "        genu.append([1.0, 0.0])\n",
    "        results.append(\"<UNK>\")\n",
    "    #print(\"idx\", idx, UNK_IDX)\n",
    "\n",
    "    if punct.find(word) < 0 and punct2.find(prev_word) < 0:\n",
    "        sys.stdout.write(\" \")\n",
    "    sys.stdout.write(results[-1])\n",
    "    sys.stdout.flush()\n",
    "    \n",
    "    prev_word=word\n",
    "#    print(\"%s \", results[-1])"
   ]
  },
  {
   "cell_type": "code",
   "execution_count": 156,
   "metadata": {},
   "outputs": [],
   "source": [
    "len(X_test)\n",
    "\n",
    "test_seq = util.NegativeSamplingPermutedSequence(data_x=X_test, data_xu=Xu_test, batch_size=1024, seqlen=seqlen, vocab_size=len(vocab)+1, sample_size=sample_size)"
   ]
  },
  {
   "cell_type": "code",
   "execution_count": 157,
   "metadata": {},
   "outputs": [
    {
     "name": "stdout",
     "output_type": "stream",
     "text": [
      "100/100 [==============================] - 4s 45ms/step\n"
     ]
    },
    {
     "data": {
      "text/plain": [
       "[0.2676042978465557, 0.923232421875, 0.915546875]"
      ]
     },
     "execution_count": 157,
     "metadata": {},
     "output_type": "execute_result"
    }
   ],
   "source": [
    "mtrain.evaluate_generator(test_seq, steps=100, verbose=1)"
   ]
  },
  {
   "cell_type": "code",
   "execution_count": 158,
   "metadata": {},
   "outputs": [
    {
     "name": "stdout",
     "output_type": "stream",
     "text": [
      "100/100 [==============================] - 28s 280ms/step\n"
     ]
    },
    {
     "data": {
      "text/plain": [
       "[0.1355609091371298, 0.951273193359375, 0.944530029296875]"
      ]
     },
     "execution_count": 158,
     "metadata": {},
     "output_type": "execute_result"
    }
   ],
   "source": [
    "mtrain.evaluate_generator(train_seq, steps=100, verbose=1)"
   ]
  },
  {
   "cell_type": "code",
   "execution_count": 92,
   "metadata": {},
   "outputs": [],
   "source": [
    "from sklearn import preprocessing"
   ]
  },
  {
   "cell_type": "code",
   "execution_count": 93,
   "metadata": {},
   "outputs": [],
   "source": [
    "norm_emb_matrix =  preprocessing.normalize(emb_matrix, axis=1)"
   ]
  },
  {
   "cell_type": "code",
   "execution_count": 94,
   "metadata": {},
   "outputs": [],
   "source": [
    "zn = preprocessing.normalize(z[0,:], axis=1)\n"
   ]
  },
  {
   "cell_type": "code",
   "execution_count": 95,
   "metadata": {},
   "outputs": [],
   "source": [
    "we = zn[-1, :300]"
   ]
  },
  {
   "cell_type": "code",
   "execution_count": 96,
   "metadata": {},
   "outputs": [],
   "source": [
    "scores = np.matmul(norm_emb_matrix, we)"
   ]
  },
  {
   "cell_type": "code",
   "execution_count": 97,
   "metadata": {},
   "outputs": [
    {
     "name": "stdout",
     "output_type": "stream",
     "text": [
      "23\n"
     ]
    }
   ],
   "source": [
    "idx = np.argmax(scores)\n",
    "print(idx)\n",
    "word = words[idx]"
   ]
  },
  {
   "cell_type": "code",
   "execution_count": 98,
   "metadata": {},
   "outputs": [
    {
     "data": {
      "text/plain": [
       "'at'"
      ]
     },
     "execution_count": 98,
     "metadata": {},
     "output_type": "execute_result"
    }
   ],
   "source": [
    "word"
   ]
  },
  {
   "cell_type": "code",
   "execution_count": 84,
   "metadata": {},
   "outputs": [
    {
     "data": {
      "text/plain": [
       "'.'"
      ]
     },
     "execution_count": 84,
     "metadata": {},
     "output_type": "execute_result"
    }
   ],
   "source": [
    "words[2]"
   ]
  },
  {
   "cell_type": "code",
   "execution_count": null,
   "metadata": {},
   "outputs": [],
   "source": []
  }
 ],
 "metadata": {
  "kernelspec": {
   "display_name": "venv",
   "language": "python",
   "name": "venv"
  },
  "language_info": {
   "codemirror_mode": {
    "name": "ipython",
    "version": 3
   },
   "file_extension": ".py",
   "mimetype": "text/x-python",
   "name": "python",
   "nbconvert_exporter": "python",
   "pygments_lexer": "ipython3",
   "version": "3.6.5"
  }
 },
 "nbformat": 4,
 "nbformat_minor": 1
}
