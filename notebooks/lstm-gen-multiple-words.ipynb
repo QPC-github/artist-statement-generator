{
 "cells": [
  {
   "cell_type": "code",
   "execution_count": 2,
   "metadata": {},
   "outputs": [
    {
     "name": "stderr",
     "output_type": "stream",
     "text": [
      "Using TensorFlow backend.\n"
     ]
    }
   ],
   "source": [
    "import keras as K\n",
    "import os.path\n",
    "\n",
    "import sys\n",
    "\n",
    "sys.path.append(\"../src\")\n",
    "from artstat import util\n",
    "import numpy as np\n",
    "\n",
    "floatx = \"float32\"\n",
    "K.backend.set_floatx(floatx)"
   ]
  },
  {
   "cell_type": "code",
   "execution_count": 3,
   "metadata": {},
   "outputs": [
    {
     "data": {
      "text/plain": [
       "<module 'artstat.util' from '../src/artstat/util.py'>"
      ]
     },
     "execution_count": 3,
     "metadata": {},
     "output_type": "execute_result"
    }
   ],
   "source": [
    "import imp\n",
    "imp.reload(util)"
   ]
  },
  {
   "cell_type": "code",
   "execution_count": 4,
   "metadata": {},
   "outputs": [],
   "source": [
    "datadir = \"/home/pmilovanov/hg/my/data/gallery-pr/all\"\n",
    "\n",
    "path_train = os.path.join(datadir, \"train\")\n",
    "path_test = os.path.join(datadir, \"test\")\n",
    "\n",
    "glove = \"/home/pmilovanov/data/glove/glove.840B.300d.txt\""
   ]
  },
  {
   "cell_type": "code",
   "execution_count": 5,
   "metadata": {},
   "outputs": [],
   "source": [
    "words, vocab = util.load_vocab(\"../vocab.txt\", 10000)"
   ]
  },
  {
   "cell_type": "code",
   "execution_count": 6,
   "metadata": {},
   "outputs": [],
   "source": [
    "emb_matrix = util.load_embeddings(vocab, 300, glove)"
   ]
  },
  {
   "cell_type": "code",
   "execution_count": 7,
   "metadata": {},
   "outputs": [],
   "source": [
    "#np.savez(\"embmat_100K.npz\", emb_matrix=emb_matrix)"
   ]
  },
  {
   "cell_type": "code",
   "execution_count": 8,
   "metadata": {},
   "outputs": [
    {
     "name": "stdout",
     "output_type": "stream",
     "text": [
      "(10001, 300) 10000\n"
     ]
    }
   ],
   "source": [
    "print(emb_matrix.shape, len(vocab))"
   ]
  },
  {
   "cell_type": "code",
   "execution_count": 9,
   "metadata": {
    "scrolled": true
   },
   "outputs": [
    {
     "name": "stderr",
     "output_type": "stream",
     "text": [
      "100%|##########| 22860/22860 [00:35<00:00, 652.49it/s]\n"
     ]
    }
   ],
   "source": [
    "imp.reload(util)\n",
    "\n",
    "seqlen = 128\n",
    "stride = 128\n",
    "X, Y, Xu, Yu = util.load_data_sequences(path_train, vocab, seqlen, stride)\n",
    "Yfake = np.zeros((Yu.shape[0], seqlen))"
   ]
  },
  {
   "cell_type": "code",
   "execution_count": 10,
   "metadata": {},
   "outputs": [],
   "source": [
    "Yfake = np.zeros((Yu.shape[0], seqlen))\n"
   ]
  },
  {
   "cell_type": "code",
   "execution_count": 11,
   "metadata": {},
   "outputs": [
    {
     "data": {
      "text/plain": [
       "dtype('float32')"
      ]
     },
     "execution_count": 11,
     "metadata": {},
     "output_type": "execute_result"
    }
   ],
   "source": [
    "emb_matrix.dtype"
   ]
  },
  {
   "cell_type": "code",
   "execution_count": 12,
   "metadata": {},
   "outputs": [],
   "source": [
    "from keras.layers import Dense, Embedding, Reshape, Concatenate, CuDNNLSTM, Lambda\n",
    "import keras as K\n",
    "from keras import backend as B\n",
    "import tensorflow as tf"
   ]
  },
  {
   "cell_type": "code",
   "execution_count": 13,
   "metadata": {},
   "outputs": [],
   "source": [
    "input_x = K.Input((seqlen,), dtype=\"int32\", name=\"input_x\")\n",
    "input_xu = K.Input((seqlen,), dtype=floatx, name=\"input_xu\")\n",
    "input_y = K.Input((seqlen,), dtype=\"int32\", name=\"input_y\")\n",
    "input_yu = K.Input((seqlen,), dtype=floatx, name=\"input_yu\")\n",
    "\n",
    "reshaper_u  = K.layers.Reshape((seqlen,1))\n",
    "resh_xu = reshaper_u(input_xu)\n",
    "resh_yu = reshaper_u(input_yu)\n",
    "\n",
    "dim = emb_matrix.shape[1] + 1\n",
    "\n",
    "L_emb = K.layers.Embedding(emb_matrix.shape[0], \n",
    "                           emb_matrix.shape[1], \n",
    "                           input_length=seqlen, \n",
    "                          trainable=False,\n",
    "                           weights=[emb_matrix],\n",
    "                           name=\"embedding\")\n"
   ]
  },
  {
   "cell_type": "code",
   "execution_count": 14,
   "metadata": {},
   "outputs": [],
   "source": [
    "Lemb = L_emb\n",
    "emb_x = Lemb(input_x)\n",
    "emb_y = Lemb(input_y)"
   ]
  },
  {
   "cell_type": "code",
   "execution_count": 15,
   "metadata": {},
   "outputs": [],
   "source": [
    "Lconcat = K.layers.Concatenate()\n",
    "concat_x = Lconcat([emb_x, resh_xu])\n",
    "concat_y = Lconcat([emb_y, resh_yu])"
   ]
  },
  {
   "cell_type": "code",
   "execution_count": 16,
   "metadata": {
    "scrolled": true
   },
   "outputs": [],
   "source": [
    "def realdot(a,b):\n",
    "    d = K.layers.multiply([a, b])\n",
    "    return B.sum(d, axis=-1)\n",
    "\n",
    "def dotlayer(x):\n",
    "    a,b = x\n",
    "    return realdot(a,b)\n",
    "\n",
    "def cossim(x):\n",
    "    a,b = x\n",
    "    p = realdot(a,b)\n",
    "    an = B.sqrt(realdot(a,a) + B.epsilon())\n",
    "    bn = B.sqrt(realdot(b,b) + B.epsilon())\n",
    "    return tf.divide(p, K.layers.multiply([an, bn]) + B.epsilon())"
   ]
  },
  {
   "cell_type": "code",
   "execution_count": 23,
   "metadata": {},
   "outputs": [
    {
     "name": "stdout",
     "output_type": "stream",
     "text": [
      "(?, 128, 3)\n",
      "(?, 128, 1)\n",
      "(?, 128, 1159)\n",
      "(?, 128, 3)\n",
      "(?, 128)\n",
      "(?, 128)\n"
     ]
    }
   ],
   "source": [
    "lstm =  K.layers.CuDNNGRU(256, return_sequences=True, name='gru1')(concat_x)\n",
    "lstm = K.layers.BatchNormalization()(lstm)\n",
    "#lstm =  K.layers.CuDNNLSTM(128, return_sequences=True, name='lstm2')(lstm)\n",
    "lstm = K.layers.CuDNNGRU(256, return_sequences=True, name='gru2')(lstm)\n",
    "lstm = K.layers.BatchNormalization()(lstm)\n",
    "lstm = K.layers.CuDNNGRU(256, return_sequences=True, name='gru3')(lstm)\n",
    "dense = K.layers.BatchNormalization()(lstm)\n",
    "\n",
    "def candidate_gen(inp, layername):\n",
    "    out = K.layers.Dense(dim, activation=\"relu\", name=layername+\"_1\")(inp)\n",
    "    out = K.layers.BatchNormalization()(out)\n",
    "#    out = K.layers.Dense(dim, activation=\"relu\", name=layername+\"_2\")(out)\n",
    "#    out = K.layers.BatchNormalization()(out)\n",
    "#    out = K.layers.Dense(dim, activation=\"relu\", name=layername+\"_3\")(out)\n",
    "#    out = K.layers.BatchNormalization()(out)\n",
    "#    out = K.layers.Dense(dim, activation=\"relu\", name=layername+\"_4\")(out)\n",
    "#    out = K.layers.BatchNormalization()(out)\n",
    "    out = K.layers.Dense(dim, activation=\"sigmoid\", name=layername+\"_last\")(out)\n",
    "    out = K.layers.BatchNormalization()(out)\n",
    "    return out\n",
    "\n",
    "out1 = candidate_gen(dense, \"out1\")\n",
    "out2 = candidate_gen(dense, \"out2\")\n",
    "out3 = candidate_gen(dense, \"out3\")\n",
    "\n",
    "allout = K.layers.Concatenate(name=\"concat_out\")([out1, out2, out3, dense])\n",
    "\n",
    "#lstm3 =  K.layers.CuDNNLSTM(256, return_sequences=True, name='lstm3')(allout)\n",
    "\n",
    "probs = K.layers.Dense(dim, activation=\"relu\", name=\"probabilities_intermediate_1\")(allout)\n",
    "probs = K.layers.BatchNormalization()(probs)\n",
    "#probs = K.layers.Dense(dim, activation=\"relu\", name=\"probabilities_intermediate_2\")(probs)\n",
    "#probs = K.layers.BatchNormalization()(probs)\n",
    "probs = K.layers.Dense(3, activation=\"softmax\", name=\"probabilities\")(probs)\n",
    "\n",
    "def fexpander(x):\n",
    "    return B.expand_dims(x)\n",
    "L_expander = Lambda(fexpander, name=\"expander\")\n",
    "\n",
    "L_cossim = Lambda(cossim, name=\"cosine_similarity\")\n",
    "prox1 = L_cossim([concat_y, out1])\n",
    "prox1 = L_expander(prox1)\n",
    "prox2 = L_cossim([concat_y, out2])\n",
    "prox2 = L_expander(prox2)\n",
    "prox3 = L_cossim([concat_y, out3])\n",
    "prox3 = L_expander(prox3)\n",
    "\n",
    "allprox = Concatenate(name=\"concat_prox\")([prox1, prox2, prox3])\n",
    "final1 = K.layers.Lambda(dotlayer, name=\"final1\")([probs, allprox])\n",
    "\n",
    "#allones = B.ones(final1.shape, dtype=\"float32\")\n",
    "def final2_fun(x):\n",
    "    return B.abs(1.0 - x)\n",
    "\n",
    "final2 = Lambda(final2_fun, name=\"final2\")(final1)\n",
    "print(probs.shape)\n",
    "print(prox3.shape)\n",
    "print(allout.shape)\n",
    "print(allprox.shape)\n",
    "print(final1.shape)\n",
    "print(final2.shape)\n",
    "\n",
    "\n"
   ]
  },
  {
   "cell_type": "code",
   "execution_count": 24,
   "metadata": {},
   "outputs": [],
   "source": [
    "model = K.Model(inputs=[input_x, input_xu, input_y, input_yu],\n",
    "               outputs=[final2])"
   ]
  },
  {
   "cell_type": "code",
   "execution_count": 25,
   "metadata": {},
   "outputs": [
    {
     "name": "stdout",
     "output_type": "stream",
     "text": [
      "__________________________________________________________________________________________________\n",
      "Layer (type)                    Output Shape         Param #     Connected to                     \n",
      "==================================================================================================\n",
      "input_x (InputLayer)            (None, 128)          0                                            \n",
      "__________________________________________________________________________________________________\n",
      "input_xu (InputLayer)           (None, 128)          0                                            \n",
      "__________________________________________________________________________________________________\n",
      "embedding (Embedding)           (None, 128, 300)     3000300     input_x[0][0]                    \n",
      "                                                                 input_y[0][0]                    \n",
      "__________________________________________________________________________________________________\n",
      "reshape_1 (Reshape)             (None, 128, 1)       0           input_xu[0][0]                   \n",
      "                                                                 input_yu[0][0]                   \n",
      "__________________________________________________________________________________________________\n",
      "concatenate_1 (Concatenate)     (None, 128, 301)     0           embedding[0][0]                  \n",
      "                                                                 reshape_1[0][0]                  \n",
      "                                                                 embedding[1][0]                  \n",
      "                                                                 reshape_1[1][0]                  \n",
      "__________________________________________________________________________________________________\n",
      "gru1 (CuDNNGRU)                 (None, 128, 256)     429312      concatenate_1[0][0]              \n",
      "__________________________________________________________________________________________________\n",
      "batch_normalization_9 (BatchNor (None, 128, 256)     1024        gru1[0][0]                       \n",
      "__________________________________________________________________________________________________\n",
      "gru2 (CuDNNGRU)                 (None, 128, 256)     394752      batch_normalization_9[0][0]      \n",
      "__________________________________________________________________________________________________\n",
      "batch_normalization_10 (BatchNo (None, 128, 256)     1024        gru2[0][0]                       \n",
      "__________________________________________________________________________________________________\n",
      "gru3 (CuDNNGRU)                 (None, 128, 256)     394752      batch_normalization_10[0][0]     \n",
      "__________________________________________________________________________________________________\n",
      "batch_normalization_11 (BatchNo (None, 128, 256)     1024        gru3[0][0]                       \n",
      "__________________________________________________________________________________________________\n",
      "out1_1 (Dense)                  (None, 128, 301)     77357       batch_normalization_11[0][0]     \n",
      "__________________________________________________________________________________________________\n",
      "out2_1 (Dense)                  (None, 128, 301)     77357       batch_normalization_11[0][0]     \n",
      "__________________________________________________________________________________________________\n",
      "out3_1 (Dense)                  (None, 128, 301)     77357       batch_normalization_11[0][0]     \n",
      "__________________________________________________________________________________________________\n",
      "batch_normalization_12 (BatchNo (None, 128, 301)     1204        out1_1[0][0]                     \n",
      "__________________________________________________________________________________________________\n",
      "batch_normalization_14 (BatchNo (None, 128, 301)     1204        out2_1[0][0]                     \n",
      "__________________________________________________________________________________________________\n",
      "batch_normalization_16 (BatchNo (None, 128, 301)     1204        out3_1[0][0]                     \n",
      "__________________________________________________________________________________________________\n",
      "out1_last (Dense)               (None, 128, 301)     90902       batch_normalization_12[0][0]     \n",
      "__________________________________________________________________________________________________\n",
      "out2_last (Dense)               (None, 128, 301)     90902       batch_normalization_14[0][0]     \n",
      "__________________________________________________________________________________________________\n",
      "out3_last (Dense)               (None, 128, 301)     90902       batch_normalization_16[0][0]     \n",
      "__________________________________________________________________________________________________\n",
      "input_y (InputLayer)            (None, 128)          0                                            \n",
      "__________________________________________________________________________________________________\n",
      "input_yu (InputLayer)           (None, 128)          0                                            \n",
      "__________________________________________________________________________________________________\n",
      "batch_normalization_13 (BatchNo (None, 128, 301)     1204        out1_last[0][0]                  \n",
      "__________________________________________________________________________________________________\n",
      "batch_normalization_15 (BatchNo (None, 128, 301)     1204        out2_last[0][0]                  \n",
      "__________________________________________________________________________________________________\n",
      "batch_normalization_17 (BatchNo (None, 128, 301)     1204        out3_last[0][0]                  \n",
      "__________________________________________________________________________________________________\n",
      "concat_out (Concatenate)        (None, 128, 1159)    0           batch_normalization_13[0][0]     \n",
      "                                                                 batch_normalization_15[0][0]     \n",
      "                                                                 batch_normalization_17[0][0]     \n",
      "                                                                 batch_normalization_11[0][0]     \n",
      "__________________________________________________________________________________________________\n",
      "probabilities_intermediate_1 (D (None, 128, 301)     349160      concat_out[0][0]                 \n",
      "__________________________________________________________________________________________________\n",
      "cosine_similarity (Lambda)      (None, 128)          0           concatenate_1[1][0]              \n",
      "                                                                 batch_normalization_13[0][0]     \n",
      "                                                                 concatenate_1[1][0]              \n",
      "                                                                 batch_normalization_15[0][0]     \n",
      "                                                                 concatenate_1[1][0]              \n",
      "                                                                 batch_normalization_17[0][0]     \n",
      "__________________________________________________________________________________________________\n",
      "batch_normalization_18 (BatchNo (None, 128, 301)     1204        probabilities_intermediate_1[0][0\n",
      "__________________________________________________________________________________________________\n",
      "expander (Lambda)               (None, 128, 1)       0           cosine_similarity[0][0]          \n",
      "                                                                 cosine_similarity[1][0]          \n",
      "                                                                 cosine_similarity[2][0]          \n",
      "__________________________________________________________________________________________________\n",
      "probabilities (Dense)           (None, 128, 3)       906         batch_normalization_18[0][0]     \n",
      "__________________________________________________________________________________________________\n",
      "concat_prox (Concatenate)       (None, 128, 3)       0           expander[0][0]                   \n",
      "                                                                 expander[1][0]                   \n",
      "                                                                 expander[2][0]                   \n",
      "__________________________________________________________________________________________________\n",
      "final1 (Lambda)                 (None, 128)          0           probabilities[0][0]              \n",
      "                                                                 concat_prox[0][0]                \n",
      "__________________________________________________________________________________________________\n",
      "final2 (Lambda)                 (None, 128)          0           final1[0][0]                     \n",
      "==================================================================================================\n",
      "Total params: 5,085,459\n",
      "Trainable params: 2,079,409\n",
      "Non-trainable params: 3,006,050\n",
      "__________________________________________________________________________________________________\n"
     ]
    }
   ],
   "source": [
    "model.summary()\n"
   ]
  },
  {
   "cell_type": "code",
   "execution_count": 26,
   "metadata": {},
   "outputs": [],
   "source": [
    "opt = K.optimizers.Adam(lr=0.01)\n",
    "model.compile(opt, loss='mean_squared_error')"
   ]
  },
  {
   "cell_type": "code",
   "execution_count": 27,
   "metadata": {},
   "outputs": [
    {
     "data": {
      "text/plain": [
       "1792.0"
      ]
     },
     "execution_count": 27,
     "metadata": {},
     "output_type": "execute_result"
    }
   ],
   "source": [
    "1024*1.75"
   ]
  },
  {
   "cell_type": "code",
   "execution_count": 28,
   "metadata": {
    "scrolled": false
   },
   "outputs": [
    {
     "name": "stdout",
     "output_type": "stream",
     "text": [
      "Epoch 1/1000000\n",
      " 48128/126648 [==========>...................] - ETA: 51s - loss: 0.5162"
     ]
    },
    {
     "ename": "KeyboardInterrupt",
     "evalue": "",
     "output_type": "error",
     "traceback": [
      "\u001b[0;31m---------------------------------------------------------------------------\u001b[0m",
      "\u001b[0;31mKeyboardInterrupt\u001b[0m                         Traceback (most recent call last)",
      "\u001b[0;32m<ipython-input-28-ad19461fffc4>\u001b[0m in \u001b[0;36m<module>\u001b[0;34m()\u001b[0m\n\u001b[0;32m----> 1\u001b[0;31m \u001b[0mmodel\u001b[0m\u001b[0;34m.\u001b[0m\u001b[0mfit\u001b[0m\u001b[0;34m(\u001b[0m\u001b[0;34m[\u001b[0m\u001b[0mX\u001b[0m\u001b[0;34m,\u001b[0m \u001b[0mXu\u001b[0m\u001b[0;34m,\u001b[0m \u001b[0mY\u001b[0m\u001b[0;34m,\u001b[0m \u001b[0mYu\u001b[0m\u001b[0;34m]\u001b[0m\u001b[0;34m,\u001b[0m \u001b[0;34m[\u001b[0m\u001b[0mYfake\u001b[0m\u001b[0;34m]\u001b[0m\u001b[0;34m,\u001b[0m \u001b[0mbatch_size\u001b[0m\u001b[0;34m=\u001b[0m\u001b[0;36m1024\u001b[0m\u001b[0;34m,\u001b[0m \u001b[0mepochs\u001b[0m\u001b[0;34m=\u001b[0m\u001b[0;36m1000000\u001b[0m\u001b[0;34m)\u001b[0m\u001b[0;34m\u001b[0m\u001b[0m\n\u001b[0m",
      "\u001b[0;32m/usr/local/lib/python3.6/dist-packages/keras/engine/training.py\u001b[0m in \u001b[0;36mfit\u001b[0;34m(self, x, y, batch_size, epochs, verbose, callbacks, validation_split, validation_data, shuffle, class_weight, sample_weight, initial_epoch, steps_per_epoch, validation_steps, **kwargs)\u001b[0m\n\u001b[1;32m   1040\u001b[0m                                         \u001b[0minitial_epoch\u001b[0m\u001b[0;34m=\u001b[0m\u001b[0minitial_epoch\u001b[0m\u001b[0;34m,\u001b[0m\u001b[0;34m\u001b[0m\u001b[0m\n\u001b[1;32m   1041\u001b[0m                                         \u001b[0msteps_per_epoch\u001b[0m\u001b[0;34m=\u001b[0m\u001b[0msteps_per_epoch\u001b[0m\u001b[0;34m,\u001b[0m\u001b[0;34m\u001b[0m\u001b[0m\n\u001b[0;32m-> 1042\u001b[0;31m                                         validation_steps=validation_steps)\n\u001b[0m\u001b[1;32m   1043\u001b[0m \u001b[0;34m\u001b[0m\u001b[0m\n\u001b[1;32m   1044\u001b[0m     def evaluate(self, x=None, y=None,\n",
      "\u001b[0;32m/usr/local/lib/python3.6/dist-packages/keras/engine/training_arrays.py\u001b[0m in \u001b[0;36mfit_loop\u001b[0;34m(model, f, ins, out_labels, batch_size, epochs, verbose, callbacks, val_f, val_ins, shuffle, callback_metrics, initial_epoch, steps_per_epoch, validation_steps)\u001b[0m\n\u001b[1;32m    197\u001b[0m                     \u001b[0mins_batch\u001b[0m\u001b[0;34m[\u001b[0m\u001b[0mi\u001b[0m\u001b[0;34m]\u001b[0m \u001b[0;34m=\u001b[0m \u001b[0mins_batch\u001b[0m\u001b[0;34m[\u001b[0m\u001b[0mi\u001b[0m\u001b[0;34m]\u001b[0m\u001b[0;34m.\u001b[0m\u001b[0mtoarray\u001b[0m\u001b[0;34m(\u001b[0m\u001b[0;34m)\u001b[0m\u001b[0;34m\u001b[0m\u001b[0m\n\u001b[1;32m    198\u001b[0m \u001b[0;34m\u001b[0m\u001b[0m\n\u001b[0;32m--> 199\u001b[0;31m                 \u001b[0mouts\u001b[0m \u001b[0;34m=\u001b[0m \u001b[0mf\u001b[0m\u001b[0;34m(\u001b[0m\u001b[0mins_batch\u001b[0m\u001b[0;34m)\u001b[0m\u001b[0;34m\u001b[0m\u001b[0m\n\u001b[0m\u001b[1;32m    200\u001b[0m                 \u001b[0;32mif\u001b[0m \u001b[0;32mnot\u001b[0m \u001b[0misinstance\u001b[0m\u001b[0;34m(\u001b[0m\u001b[0mouts\u001b[0m\u001b[0;34m,\u001b[0m \u001b[0mlist\u001b[0m\u001b[0;34m)\u001b[0m\u001b[0;34m:\u001b[0m\u001b[0;34m\u001b[0m\u001b[0m\n\u001b[1;32m    201\u001b[0m                     \u001b[0mouts\u001b[0m \u001b[0;34m=\u001b[0m \u001b[0;34m[\u001b[0m\u001b[0mouts\u001b[0m\u001b[0;34m]\u001b[0m\u001b[0;34m\u001b[0m\u001b[0m\n",
      "\u001b[0;32m/usr/local/lib/python3.6/dist-packages/keras/backend/tensorflow_backend.py\u001b[0m in \u001b[0;36m__call__\u001b[0;34m(self, inputs)\u001b[0m\n\u001b[1;32m   2659\u001b[0m                 \u001b[0;32mreturn\u001b[0m \u001b[0mself\u001b[0m\u001b[0;34m.\u001b[0m\u001b[0m_legacy_call\u001b[0m\u001b[0;34m(\u001b[0m\u001b[0minputs\u001b[0m\u001b[0;34m)\u001b[0m\u001b[0;34m\u001b[0m\u001b[0m\n\u001b[1;32m   2660\u001b[0m \u001b[0;34m\u001b[0m\u001b[0m\n\u001b[0;32m-> 2661\u001b[0;31m             \u001b[0;32mreturn\u001b[0m \u001b[0mself\u001b[0m\u001b[0;34m.\u001b[0m\u001b[0m_call\u001b[0m\u001b[0;34m(\u001b[0m\u001b[0minputs\u001b[0m\u001b[0;34m)\u001b[0m\u001b[0;34m\u001b[0m\u001b[0m\n\u001b[0m\u001b[1;32m   2662\u001b[0m         \u001b[0;32melse\u001b[0m\u001b[0;34m:\u001b[0m\u001b[0;34m\u001b[0m\u001b[0m\n\u001b[1;32m   2663\u001b[0m             \u001b[0;32mif\u001b[0m \u001b[0mpy_any\u001b[0m\u001b[0;34m(\u001b[0m\u001b[0mis_tensor\u001b[0m\u001b[0;34m(\u001b[0m\u001b[0mx\u001b[0m\u001b[0;34m)\u001b[0m \u001b[0;32mfor\u001b[0m \u001b[0mx\u001b[0m \u001b[0;32min\u001b[0m \u001b[0minputs\u001b[0m\u001b[0;34m)\u001b[0m\u001b[0;34m:\u001b[0m\u001b[0;34m\u001b[0m\u001b[0m\n",
      "\u001b[0;32m/usr/local/lib/python3.6/dist-packages/keras/backend/tensorflow_backend.py\u001b[0m in \u001b[0;36m_call\u001b[0;34m(self, inputs)\u001b[0m\n\u001b[1;32m   2629\u001b[0m                                 \u001b[0msymbol_vals\u001b[0m\u001b[0;34m,\u001b[0m\u001b[0;34m\u001b[0m\u001b[0m\n\u001b[1;32m   2630\u001b[0m                                 session)\n\u001b[0;32m-> 2631\u001b[0;31m         \u001b[0mfetched\u001b[0m \u001b[0;34m=\u001b[0m \u001b[0mself\u001b[0m\u001b[0;34m.\u001b[0m\u001b[0m_callable_fn\u001b[0m\u001b[0;34m(\u001b[0m\u001b[0;34m*\u001b[0m\u001b[0marray_vals\u001b[0m\u001b[0;34m)\u001b[0m\u001b[0;34m\u001b[0m\u001b[0m\n\u001b[0m\u001b[1;32m   2632\u001b[0m         \u001b[0;32mreturn\u001b[0m \u001b[0mfetched\u001b[0m\u001b[0;34m[\u001b[0m\u001b[0;34m:\u001b[0m\u001b[0mlen\u001b[0m\u001b[0;34m(\u001b[0m\u001b[0mself\u001b[0m\u001b[0;34m.\u001b[0m\u001b[0moutputs\u001b[0m\u001b[0;34m)\u001b[0m\u001b[0;34m]\u001b[0m\u001b[0;34m\u001b[0m\u001b[0m\n\u001b[1;32m   2633\u001b[0m \u001b[0;34m\u001b[0m\u001b[0m\n",
      "\u001b[0;32m~/.local/lib/python3.6/site-packages/tensorflow/python/client/session.py\u001b[0m in \u001b[0;36m__call__\u001b[0;34m(self, *args)\u001b[0m\n\u001b[1;32m   1375\u001b[0m       \u001b[0;32mwith\u001b[0m \u001b[0merrors\u001b[0m\u001b[0;34m.\u001b[0m\u001b[0mraise_exception_on_not_ok_status\u001b[0m\u001b[0;34m(\u001b[0m\u001b[0;34m)\u001b[0m \u001b[0;32mas\u001b[0m \u001b[0mstatus\u001b[0m\u001b[0;34m:\u001b[0m\u001b[0;34m\u001b[0m\u001b[0m\n\u001b[1;32m   1376\u001b[0m         return tf_session.TF_SessionRunCallable(\n\u001b[0;32m-> 1377\u001b[0;31m             self._session._session, self._handle, args, status, None)\n\u001b[0m\u001b[1;32m   1378\u001b[0m \u001b[0;34m\u001b[0m\u001b[0m\n\u001b[1;32m   1379\u001b[0m     \u001b[0;32mdef\u001b[0m \u001b[0m__del__\u001b[0m\u001b[0;34m(\u001b[0m\u001b[0mself\u001b[0m\u001b[0;34m)\u001b[0m\u001b[0;34m:\u001b[0m\u001b[0;34m\u001b[0m\u001b[0m\n",
      "\u001b[0;31mKeyboardInterrupt\u001b[0m: "
     ]
    }
   ],
   "source": [
    "model.fit([X, Xu, Y, Yu], [Yfake], batch_size=1024, epochs=1000000)\n"
   ]
  },
  {
   "cell_type": "markdown",
   "metadata": {},
   "source": [
    "------------------------"
   ]
  },
  {
   "cell_type": "code",
   "execution_count": 67,
   "metadata": {},
   "outputs": [],
   "source": [
    "predictor = K.Model([input_x, input_xu], [out1, out2, out3, probs])\n",
    "predictor.compile(opt, loss=\"mean_absolute_error\")"
   ]
  },
  {
   "cell_type": "code",
   "execution_count": 68,
   "metadata": {},
   "outputs": [],
   "source": [
    "from sklearn import preprocessing as pp\n",
    "norm_emb_matrix =  pp.normalize(Lemb.get_weights()[0], axis=1)"
   ]
  },
  {
   "cell_type": "code",
   "execution_count": 69,
   "metadata": {},
   "outputs": [
    {
     "data": {
      "text/plain": [
       "300071"
      ]
     },
     "execution_count": 69,
     "metadata": {},
     "output_type": "execute_result"
    }
   ],
   "source": [
    "len(X)"
   ]
  },
  {
   "cell_type": "code",
   "execution_count": 72,
   "metadata": {},
   "outputs": [
    {
     "name": "stdout",
     "output_type": "stream",
     "text": [
      "exhibition , exhibition exhibition , exhibition exhibition , exhibition well - exhibition exhibitions , exhibitions , exhibitions , exhibitions , exhibitions , exhibitions , exhibitions , exhibitions , exhibitions , exhibitions , numerous exhibitions , well - been several exhibitions , exhibitions , numerous exhibitions , well - been several exhibitions , exhibitions , numerous exhibitions , well - been several exhibitions , exhibitions , numerous exhibitions , well - been several exhibitions , exhibitions , numerous exhibitions , well - been several exhibitions , exhibitions , numerous exhibitions , well - been several exhibitions , exhibitions , numerous exhibitions , well - been several exhibitions , exhibitions , numerous exhibitions , well - been several exhibitions , exhibitions , numerous exhibitions , well - been several exhibitions |                Wiels 0.0000 |           exhibition 1.0000 |                first 0.0000 |\n",
      "|                    , 0.0000 |                    , 1.0000 |                   as 0.0000 |\n",
      "|           Baghramian 0.0000 |           exhibition 1.0000 |                  the 0.0000 |\n",
      "|            Including 0.0000 |           exhibition 1.0000 |                 well 0.0000 |\n",
      "|                    , 0.0000 |                    , 1.0000 |                  and 0.0000 |\n",
      "|           Baghramian 0.0000 |           exhibition 1.0000 |                  the 0.0000 |\n",
      "|                   of 0.0000 |           exhibition 1.0000 |                 well 0.0000 |\n",
      "|                    , 0.0000 |                    , 1.0000 |                  and 0.0000 |\n",
      "|           Baghramian 0.0000 |           exhibition 1.0000 |                which 0.0000 |\n",
      "|                   of 0.0000 |                 well 1.0000 |                 well 0.0000 |\n",
      "|                    , 0.0000 |                    - 1.0000 |                    - 0.0000 |\n",
      "|                Based 0.0000 |           exhibition 1.0000 |                which 0.0000 |\n",
      "|                Dhabi 0.0000 |          exhibitions 1.0000 |                 well 0.0000 |\n",
      "|                    , 0.0000 |                    , 1.0000 |                  and 0.0000 |\n",
      "|               MOSTYN 0.0000 |          exhibitions 1.0000 |                 well 0.0000 |\n",
      "|                    , 0.0000 |                    , 1.0000 |                    , 0.0000 |\n",
      "|               MOSTYN 0.0000 |          exhibitions 1.0000 |                  and 0.0000 |\n",
      "|                    , 0.0000 |                    , 1.0000 |                    , 0.0000 |\n",
      "|               MOSTYN 0.0000 |          exhibitions 1.0000 |                  and 0.0000 |\n",
      "|                    , 0.0000 |                    , 1.0000 |                    , 0.0000 |\n",
      "|               MOSTYN 0.0000 |          exhibitions 1.0000 |                  and 0.0000 |\n",
      "|                    , 0.0000 |                    , 1.0000 |                    , 0.0000 |\n",
      "|               MOSTYN 0.0000 |          exhibitions 1.0000 |                  and 0.0000 |\n",
      "|                    , 0.0000 |                    , 1.0000 |                    , 0.0000 |\n",
      "|               MOSTYN 0.0000 |          exhibitions 1.0000 |                  and 0.0000 |\n",
      "|                    , 0.0000 |                    , 1.0000 |                    , 0.0000 |\n",
      "|               MOSTYN 0.0000 |          exhibitions 1.0000 |                  and 0.0000 |\n",
      "|                    , 0.0000 |                    , 1.0000 |                    , 0.0000 |\n",
      "|               MOSTYN 0.0000 |          exhibitions 1.0000 |                  and 0.0000 |\n",
      "|                    , 0.0000 |                    , 1.0000 |                    , 0.0000 |\n",
      "|               MOSTYN 0.0000 |          exhibitions 1.0000 |                  and 0.0000 |\n",
      "|                    , 0.0000 |                    , 1.0000 |                    , 0.0000 |\n",
      "|               MOSTYN 0.0000 |             numerous 1.0000 |                  and 0.0000 |\n",
      "|                    , 0.0000 |          exhibitions 1.0000 |                 well 0.0000 |\n",
      "|                    , 0.0000 |                    , 1.0000 |                    , 0.0000 |\n",
      "|                 Late 0.0000 |                 well 1.0000 |                  and 0.0000 |\n",
      "|                    ( 0.0000 |                    - 1.0000 |                    - 0.0000 |\n",
      "|            Marseille 0.0000 |                 been 1.0000 |              several 0.0000 |\n",
      "|                 Euro 0.0000 |              several 1.0000 |                 well 0.0000 |\n",
      "|                Dhabi 0.0000 |          exhibitions 1.0000 |                 many 0.0000 |\n",
      "|                    , 0.0000 |                    , 1.0000 |                  and 0.0000 |\n",
      "|                 Late 0.0000 |          exhibitions 1.0000 |              various 0.0000 |\n",
      "|                    , 0.0000 |                    , 1.0000 |                    , 0.0000 |\n",
      "|                 Late 0.0000 |             numerous 1.0000 |                  and 0.0000 |\n",
      "|                    , 0.0000 |          exhibitions 1.0000 |                  and 0.0000 |\n",
      "|                    , 0.0000 |                    , 1.0000 |                    , 0.0000 |\n",
      "|                 Late 0.0000 |                 well 1.0000 |              various 0.0000 |\n",
      "|                    ( 0.0000 |                    - 1.0000 |                    - 0.0000 |\n",
      "|            Marseille 0.0000 |                 been 1.0000 |                 been 0.0000 |\n",
      "|                 Euro 0.0000 |              several 1.0000 |                 well 0.0000 |\n",
      "|            Residence 0.0000 |          exhibitions 1.0000 |              several 0.0000 |\n",
      "|                    , 0.0000 |                    , 1.0000 |                  and 0.0000 |\n",
      "|                 Late 0.0000 |          exhibitions 1.0000 |              various 0.0000 |\n",
      "|                    , 0.0000 |                    , 1.0000 |                    , 0.0000 |\n",
      "|                 Late 0.0000 |             numerous 1.0000 |              various 0.0000 |\n",
      "|                    , 0.0000 |          exhibitions 1.0000 |                  and 0.0000 |\n",
      "|                    , 0.0000 |                    , 1.0000 |                    , 0.0000 |\n",
      "|                 Late 0.0000 |                 well 1.0000 |              various 0.0000 |\n",
      "|                    ( 0.0000 |                    - 1.0000 |                    - 0.0000 |\n",
      "|            Marseille 0.0000 |                 been 1.0000 |                 been 0.0000 |\n",
      "|                 Euro 0.0000 |              several 1.0000 |                 well 0.0000 |\n",
      "|            Residence 0.0000 |          exhibitions 1.0000 |                 many 0.0000 |\n",
      "|                    , 0.0000 |                    , 1.0000 |                  and 0.0000 |\n",
      "|                 Late 0.0000 |          exhibitions 1.0000 |              various 0.0000 |\n",
      "|                    , 0.0000 |                    , 1.0000 |                    , 0.0000 |\n",
      "|                 Late 0.0000 |             numerous 1.0000 |              various 0.0000 |\n",
      "|                    , 0.0000 |          exhibitions 1.0000 |                  and 0.0000 |\n",
      "|                    , 0.0000 |                    , 1.0000 |                    , 0.0000 |\n",
      "|                 Late 0.0000 |                 well 1.0000 |              various 0.0000 |\n",
      "|                    ( 0.0000 |                    - 1.0000 |                    - 0.0000 |\n",
      "|               Marcel 0.0000 |                 been 1.0000 |                 been 0.0000 |\n",
      "|                 Euro 0.0000 |              several 1.0000 |                 well 0.0000 |\n",
      "|            Residence 0.0000 |          exhibitions 1.0000 |                 many 0.0000 |\n",
      "|                    , 0.0000 |                    , 1.0000 |                  and 0.0000 |\n",
      "|                 Late 0.0000 |          exhibitions 1.0000 |              various 0.0000 |\n",
      "|                    , 0.0000 |                    , 1.0000 |                    , 0.0000 |\n",
      "|                 Late 0.0000 |             numerous 1.0000 |              various 0.0000 |\n",
      "|                    , 0.0000 |          exhibitions 1.0000 |                  and 0.0000 |\n",
      "|                    , 0.0000 |                    , 1.0000 |                    , 0.0000 |\n",
      "|                 Late 0.0000 |                 well 1.0000 |              various 0.0000 |\n",
      "|                    ( 0.0000 |                    - 1.0000 |                    - 0.0000 |\n",
      "|               Marcel 0.0000 |                 been 1.0000 |                 been 0.0000 |\n",
      "|                 Euro 0.0000 |              several 1.0000 |                 well 0.0000 |\n",
      "|            Residence 0.0000 |          exhibitions 1.0000 |                 many 0.0000 |\n",
      "|                    , 0.0000 |                    , 1.0000 |                  and 0.0000 |\n",
      "|                 Late 0.0000 |          exhibitions 1.0000 |              various 0.0000 |\n",
      "|                    , 0.0000 |                    , 1.0000 |                    , 0.0000 |\n",
      "|                 Late 0.0000 |             numerous 1.0000 |              various 0.0000 |\n",
      "|                    , 0.0000 |          exhibitions 1.0000 |                  and 0.0000 |\n",
      "|                    , 0.0000 |                    , 1.0000 |                    , 0.0000 |\n",
      "|                 Late 0.0000 |                 well 1.0000 |              various 0.0000 |\n",
      "|                    ( 0.0000 |                    - 1.0000 |                    - 0.0000 |\n",
      "|               Marcel 0.0000 |                 been 1.0000 |                 been 0.0000 |\n",
      "|                 Euro 0.0000 |              several 1.0000 |                 well 0.0000 |\n",
      "|            Residence 0.0000 |          exhibitions 1.0000 |                 many 0.0000 |\n",
      "|                    , 0.0000 |                    , 1.0000 |                  and 0.0000 |\n",
      "|                 Late 0.0000 |          exhibitions 1.0000 |              various 0.0000 |\n",
      "|                    , 0.0000 |                    , 1.0000 |                    , 0.0000 |\n",
      "|                 Late 0.0000 |             numerous 1.0000 |              various 0.0000 |\n",
      "|                    , 0.0000 |          exhibitions 1.0000 |                  and 0.0000 |\n",
      "|                    , 0.0000 |                    , 1.0000 |                    , 0.0000 |\n",
      "|                 Late 0.0000 |                 well 1.0000 |              various 0.0000 |\n",
      "|                    ( 0.0000 |                    - 1.0000 |                    - 0.0000 |\n",
      "|               Marcel 0.0000 |                 been 1.0000 |                 been 0.0000 |\n",
      "|                 Euro 0.0000 |              several 1.0000 |                 well 0.0000 |\n",
      "|            Residence 0.0000 |          exhibitions 1.0000 |                 many 0.0000 |\n",
      "|                    , 0.0000 |                    , 1.0000 |                  and 0.0000 |\n",
      "|                 Late 0.0000 |          exhibitions 1.0000 |              various 0.0000 |\n",
      "|                    , 0.0000 |                    , 1.0000 |                    , 0.0000 |\n",
      "|                 Late 0.0000 |             numerous 1.0000 |              various 0.0000 |\n",
      "|                    , 0.0000 |          exhibitions 1.0000 |                  and 0.0000 |\n",
      "|                    , 0.0000 |                    , 1.0000 |                    , 0.0000 |\n",
      "|                 Late 0.0000 |                 well 1.0000 |              various 0.0000 |\n",
      "|                    ( 0.0000 |                    - 1.0000 |                    - 0.0000 |\n",
      "|               Marcel 0.0000 |                 been 1.0000 |                 been 0.0000 |\n",
      "|                 Euro 0.0000 |              several 1.0000 |                 well 0.0000 |\n",
      "|            Residence 0.0000 |          exhibitions 1.0000 |                 many 0.0000 |\n",
      "|                    , 0.0000 |                    , 1.0000 |                  and 0.0000 |\n",
      "|                 Late 0.0000 |          exhibitions 1.0000 |              various 0.0000 |\n",
      "|                    , 0.0000 |                    , 1.0000 |                    , 0.0000 |\n",
      "|                 Late 0.0000 |             numerous 1.0000 |              various 0.0000 |\n",
      "|                    , 0.0000 |          exhibitions 1.0000 |                  and 0.0000 |\n",
      "|                    , 0.0000 |                    , 1.0000 |                    , 0.0000 |\n",
      "|                 Late 0.0000 |                 well 1.0000 |              various 0.0000 |\n",
      "|                    ( 0.0000 |                    - 1.0000 |                    - 0.0000 |\n",
      "|               Marcel 0.0000 |                 been 1.0000 |                 been 0.0000 |\n",
      "|                 Euro 0.0000 |              several 1.0000 |                 well 0.0000 |\n",
      "|            Residence 0.0000 |          exhibitions 1.0000 |                 many 0.0000 |\n"
     ]
    }
   ],
   "source": [
    "i = 10919\n",
    "gen = X[i].tolist()\n",
    "genu = Xu[i].tolist()\n",
    "\n",
    "tX = np.zeros((1, seqlen), dtype=\"int32\")\n",
    "tXu = np.zeros((1, seqlen), dtype=floatx)\n",
    "results = []\n",
    "\n",
    "def vec2word(x):\n",
    "    we = np.transpose(pp.normalize(np.reshape(x[0, -1, :300], (1,300))))\n",
    "    idx = np.argmax(np.matmul(norm_emb_matrix, we))\n",
    "    return idx\n",
    "\n",
    "iterations = 128\n",
    "\n",
    "allcandidates = []\n",
    "for j in range(iterations):\n",
    "    tX[0,:] = np.array(gen[-seqlen:], \"int32\")\n",
    "    tXu[0,:] = np.array(genu[-seqlen:], floatx)\n",
    "    #print(tX)\n",
    "    xv, xuv = 0, 0.0\n",
    "    yhat = predictor.predict([tX, tXu])\n",
    "    \n",
    "    #for qq in yhat:\n",
    "    #    print(qq.shape)\n",
    "    #print(yhat)\n",
    "    #break\n",
    "    vecid = np.random.choice(3, p=yhat[3][0,0])\n",
    "    z = yhat[vecid]\n",
    "    \n",
    "    \n",
    "    candidates=[]\n",
    "    for u,c in enumerate(yhat[:3]):\n",
    "        cid = vec2word(c)\n",
    "        candidates.append((words[cid], yhat[3][0,0,u]))\n",
    "    allcandidates.append(candidates)\n",
    "#    print(candidates)\n",
    "    \n",
    "    if False:# z[0, -1, -1] > 0.9:\n",
    "        xuv = 1.0\n",
    "        results.append(\"<UNK>\")\n",
    "    else:\n",
    "        we = np.transpose(pp.normalize(np.reshape(z[0, -1, :300], (1,300))))\n",
    "#        print(np.linalg.norm(we))\n",
    "#        scores = np.matmul(norm_emb_matrix, we)\n",
    "#        print(scores)\n",
    "#        print(np.min(scores))\n",
    "#        break\n",
    "        xv = np.argmax(np.matmul(norm_emb_matrix, we))\n",
    "        if xv:\n",
    "            results.append(words[xv])\n",
    "        else:\n",
    "            results.append(\"<EMPTY>\")\n",
    "    gen.append(xv)\n",
    "    genu.append(xuv)\n",
    "    sys.stdout.write(results[-1]+\" \")\n",
    "    sys.stdout.flush()\n",
    "    \n",
    "    \n",
    "for cc in allcandidates:\n",
    "    print(\"| %20s %.4f | %20s %.4f | %20s %.4f |\" %\n",
    "         (cc[0][0], cc[0][1],\n",
    "         cc[1][0], cc[1][1],\n",
    "         cc[2][0], cc[2][1]))"
   ]
  },
  {
   "cell_type": "code",
   "execution_count": 51,
   "metadata": {},
   "outputs": [
    {
     "name": "stdout",
     "output_type": "stream",
     "text": [
      "-3.9707959 11.670498\n"
     ]
    }
   ],
   "source": [
    "print(np.min(z), np.max(z))"
   ]
  },
  {
   "cell_type": "code",
   "execution_count": 92,
   "metadata": {},
   "outputs": [],
   "source": [
    "from sklearn import preprocessing"
   ]
  },
  {
   "cell_type": "code",
   "execution_count": 93,
   "metadata": {},
   "outputs": [],
   "source": [
    "norm_emb_matrix =  preprocessing.normalize(emb_matrix, axis=1)"
   ]
  },
  {
   "cell_type": "code",
   "execution_count": 94,
   "metadata": {},
   "outputs": [],
   "source": [
    "zn = preprocessing.normalize(z[0,:], axis=1)\n"
   ]
  },
  {
   "cell_type": "code",
   "execution_count": 95,
   "metadata": {},
   "outputs": [],
   "source": [
    "we = zn[-1, :300]"
   ]
  },
  {
   "cell_type": "code",
   "execution_count": 96,
   "metadata": {},
   "outputs": [],
   "source": [
    "scores = np.matmul(norm_emb_matrix, we)"
   ]
  },
  {
   "cell_type": "code",
   "execution_count": 97,
   "metadata": {},
   "outputs": [
    {
     "name": "stdout",
     "output_type": "stream",
     "text": [
      "23\n"
     ]
    }
   ],
   "source": [
    "idx = np.argmax(scores)\n",
    "print(idx)\n",
    "word = words[idx]"
   ]
  },
  {
   "cell_type": "code",
   "execution_count": 98,
   "metadata": {},
   "outputs": [
    {
     "data": {
      "text/plain": [
       "'at'"
      ]
     },
     "execution_count": 98,
     "metadata": {},
     "output_type": "execute_result"
    }
   ],
   "source": [
    "word"
   ]
  },
  {
   "cell_type": "code",
   "execution_count": 84,
   "metadata": {},
   "outputs": [
    {
     "data": {
      "text/plain": [
       "'.'"
      ]
     },
     "execution_count": 84,
     "metadata": {},
     "output_type": "execute_result"
    }
   ],
   "source": [
    "words[2]"
   ]
  },
  {
   "cell_type": "code",
   "execution_count": null,
   "metadata": {},
   "outputs": [],
   "source": []
  }
 ],
 "metadata": {
  "kernelspec": {
   "display_name": "venv",
   "language": "python",
   "name": "venv"
  },
  "language_info": {
   "codemirror_mode": {
    "name": "ipython",
    "version": 3
   },
   "file_extension": ".py",
   "mimetype": "text/x-python",
   "name": "python",
   "nbconvert_exporter": "python",
   "pygments_lexer": "ipython3",
   "version": "3.6.5"
  }
 },
 "nbformat": 4,
 "nbformat_minor": 1
}
