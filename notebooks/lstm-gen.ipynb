{
 "cells": [
  {
   "cell_type": "code",
   "execution_count": 97,
   "metadata": {},
   "outputs": [],
   "source": [
    "import keras as K\n",
    "import os.path\n",
    "\n",
    "import sys\n",
    "\n",
    "sys.path.append(\"../src\")\n",
    "from artstat import util\n",
    "import numpy as np"
   ]
  },
  {
   "cell_type": "code",
   "execution_count": 88,
   "metadata": {},
   "outputs": [
    {
     "data": {
      "text/plain": [
       "<module 'artstat.util' from '../src/artstat/util.py'>"
      ]
     },
     "execution_count": 88,
     "metadata": {},
     "output_type": "execute_result"
    }
   ],
   "source": [
    "import imp\n",
    "imp.reload(util)"
   ]
  },
  {
   "cell_type": "code",
   "execution_count": 2,
   "metadata": {},
   "outputs": [],
   "source": [
    "datadir = \"/home/pmilovanov/hg/my/data/gallery-pr/all\"\n",
    "\n",
    "path_train = os.path.join(datadir, \"train\")\n",
    "path_test = os.path.join(datadir, \"test\")\n",
    "\n",
    "glove = \"/home/pmilovanov/data/glove/glove.840B.300d.txt\""
   ]
  },
  {
   "cell_type": "code",
   "execution_count": 67,
   "metadata": {},
   "outputs": [],
   "source": [
    "words, vocab = util.load_vocab(\"../vocab.txt\", 30000)"
   ]
  },
  {
   "cell_type": "code",
   "execution_count": 14,
   "metadata": {},
   "outputs": [],
   "source": [
    "emb_matrix = util.load_embeddings(vocab, 300, glove)"
   ]
  },
  {
   "cell_type": "code",
   "execution_count": 107,
   "metadata": {
    "scrolled": false
   },
   "outputs": [
    {
     "name": "stderr",
     "output_type": "stream",
     "text": [
      "\n",
      "\n",
      "  0%|          | 0/22860 [00:00<?, ?it/s]\u001b[A\u001b[A\n",
      "\n",
      "\u001b[A\u001b[A"
     ]
    }
   ],
   "source": [
    "imp.reload(util)\n",
    "X, Y, Xu, Yu = util.load_data_sequences(path_train, vocab, 128, 128 , numfiles=1)\n",
    "\n"
   ]
  },
  {
   "cell_type": "code",
   "execution_count": 112,
   "metadata": {},
   "outputs": [
    {
     "name": "stdout",
     "output_type": "stream",
     "text": [
      "(4, 128) (4, 128)\n",
      "[[ 4168 12209     0    13     2    67    10    18    61   480     8   142\n",
      "    960   198    21    38     3    14   960    13   335    15 29053    16\n",
      "      7    34     4  1345   424     1     2   453   246     4    76    31\n",
      "      1     5    32   222   125    42  1394     6     2  4159     4  7423\n",
      "      1   995     3   101    57  1656   151     1   488    38    32    35\n",
      "    414     9   416     5    34     6     7  1848     1  3499  6775    26\n",
      "     65     3   441   177   132     6    49   120     5    34    21     2\n",
      "   1656     1     2    40    32  4257    17     7   429     0  3758    87\n",
      "     13  5089     3    46  1203    17    54    30    39  3758     1     2\n",
      "     40    32   253     2    57     8  1656   960     9   262     7  2440\n",
      "   1409     4     2   480     8   142    65     5]\n",
      " [    0     0     1     0     0     0     0     0     0     0     0     0\n",
      "      0     0     0     0     0     0     0     0     0     0     0     0\n",
      "      0     0     0     0     0     0     0     0     0     0     0     0\n",
      "      0     0     0     0     0     0     0     0     0     0     0     0\n",
      "      0     0     0     0     0     0     0     0     0     0     0     0\n",
      "      0     0     0     0     0     0     0     0     0     0     0     0\n",
      "      0     0     0     0     0     0     0     0     0     0     0     0\n",
      "      0     0     0     0     0     0     0     0     0     1     0     0\n",
      "      0     0     0     0     0     0     0     0     0     0     0     0\n",
      "      0     0     0     0     0     0     0     0     0     0     0     0\n",
      "      0     0     0     0     0     0     0     0]]\n"
     ]
    }
   ],
   "source": [
    "i = 0\n",
    "print(X.shape, Xu.shape)\n",
    "print(np.stack((X[i, :], Xu[i, :])))\n",
    "\n"
   ]
  },
  {
   "cell_type": "code",
   "execution_count": 91,
   "metadata": {},
   "outputs": [
    {
     "data": {
      "text/plain": [
       "(132, 4)"
      ]
     },
     "execution_count": 91,
     "metadata": {},
     "output_type": "execute_result"
    }
   ],
   "source": [
    "Xu.shape"
   ]
  },
  {
   "cell_type": "code",
   "execution_count": 10,
   "metadata": {},
   "outputs": [
    {
     "data": {
      "text/plain": [
       "array([  974,    17,   478,  1003,     1, 29053,    41,   354,     7,\n",
       "         270,  1981,   108,    22,     2, 15655,     4, 10515,     3,\n",
       "         750,     2, 29053,   807,   696,  3377,     2,  2055,     4,\n",
       "          75,   144,   593,     3,   464,   106,  4650,     6, 11133,\n",
       "         776,     1,     2,   157,    10,    18,   217,   133,   858,\n",
       "          16,   115,  1654,     6,  1194, 22284,     3,  5988,     1,\n",
       "       29053,   335,     2,  3152,     4,   153,  4320,  3132,    17,\n",
       "         465,  5112,   221,     2,  9993,  2702,   623, 15476,     6,\n",
       "        1450,     3, 84269,     2,  3442,    21,   410,     9,   620,\n",
       "           5,  1405,    49,  6251,     8,     5,    21, 10759,     9,\n",
       "        1185,    49,  5066,     5,   715,     8,     2,  4168, 12209,\n",
       "       44805,    77,    50,     7,   201,     8,   325,  4417,     6,\n",
       "        4306,  1203,     3, 29053,   133,    56,    64,   168,     6,\n",
       "          92,   737,    16,   342,   608,    12,   551,    11,     1,\n",
       "         554,   407,    12,  1002,    11,     5,     2,  3773,  4101,\n",
       "        1906,    12,   530,    11,     3,     0,     0,     0,     0,\n",
       "           0,     0,     0,     0,     0,     0,     0,     0,     0,\n",
       "           0,     0,     0,     0,     0,     0,     0,     0,     0,\n",
       "           0,     0,     0,     0,     0,     0,     0,     0,     0,\n",
       "           0,     0,     0,     0,     0,     0,     0,     0,     0,\n",
       "           0,     0,     0,     0,     0,     0,     0,     0,     0,\n",
       "           0,     0,     0,     0,     0,     0,     0,     0,     0,\n",
       "           0,     0,     0,     0,     0,     0,     0,     0,     0,\n",
       "           0,     0,     0,     0,     0,     0,     0,     0,     0,\n",
       "           0,     0,     0,     0,     0,     0,     0,     0,     0,\n",
       "           0,     0,     0,     0,     0,     0,     0,     0,     0,\n",
       "           0,     0,     0,     0,     0,     0,     0,     0,     0,\n",
       "           0,     0,     0,     0,     0,     0,     0,     0,     0,\n",
       "           0,     0,     0,     0], dtype=int32)"
      ]
     },
     "execution_count": 10,
     "metadata": {},
     "output_type": "execute_result"
    }
   ],
   "source": [
    "Y[2,:]"
   ]
  },
  {
   "cell_type": "code",
   "execution_count": null,
   "metadata": {},
   "outputs": [],
   "source": []
  }
 ],
 "metadata": {
  "kernelspec": {
   "display_name": "venv",
   "language": "python",
   "name": "venv"
  },
  "language_info": {
   "codemirror_mode": {
    "name": "ipython",
    "version": 3
   },
   "file_extension": ".py",
   "mimetype": "text/x-python",
   "name": "python",
   "nbconvert_exporter": "python",
   "pygments_lexer": "ipython3",
   "version": "3.6.5"
  }
 },
 "nbformat": 4,
 "nbformat_minor": 1
}
